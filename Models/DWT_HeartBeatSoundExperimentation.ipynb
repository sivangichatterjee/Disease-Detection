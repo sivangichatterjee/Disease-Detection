{
  "nbformat": 4,
  "nbformat_minor": 0,
  "metadata": {
    "colab": {
      "name": "DWT_HeartBeatSoundExperimentation.ipynb",
      "provenance": [],
      "collapsed_sections": []
    },
    "kernelspec": {
      "name": "python3",
      "display_name": "Python 3"
    },
    "accelerator": "GPU"
  },
  "cells": [
    {
      "cell_type": "code",
      "metadata": {
        "id": "w7K7x4z3FDTj"
      },
      "source": [
        "import numpy as np\r\n",
        "import pandas as pd\r\n",
        "import matplotlib.pyplot as plt\r\n",
        "import seaborn as sns\r\n",
        "# %matplotlib inline\r\n",
        "\r\n",
        "from io import BytesIO #needed for plot\r\n",
        "import seaborn as sns; sns.set()\r\n",
        "\r\n",
        "from keras.models import Model\r\n",
        "from keras.layers import LSTM, Dropout, Dense, Conv1D, ConvLSTM2D, Input, Bidirectional, TimeDistributed,GRU\r\n",
        "from keras.layers import MaxPooling1D, Flatten, BatchNormalization\r\n",
        "from keras.utils import plot_model\r\n",
        "from keras.models import load_model\r\n",
        "from numpy import save\r\n",
        "from numpy import load\r\n",
        "import sklearn\r\n",
        "from scipy import stats\r\n",
        "from sklearn import metrics\r\n",
        "from keras.optimizers import Adam, SGD, RMSprop\r\n",
        "from keras.models import load_model\r\n",
        "from sklearn.metrics import confusion_matrix\r\n",
        "from sklearn.metrics import accuracy_score\r\n",
        "from sklearn.model_selection import KFold, StratifiedKFold\r\n",
        "from sklearn.metrics import classification_report\r\n",
        "from sklearn.preprocessing import MinMaxScaler\r\n",
        "from sklearn.model_selection import train_test_split\r\n",
        "import pickle\r\n"
      ],
      "execution_count": 1,
      "outputs": []
    },
    {
      "cell_type": "code",
      "metadata": {
        "id": "qAfkN0xgFMbv"
      },
      "source": [
        "from keras.layers import Conv2D, MaxPooling2D, BatchNormalization"
      ],
      "execution_count": 2,
      "outputs": []
    },
    {
      "cell_type": "code",
      "metadata": {
        "colab": {
          "base_uri": "https://localhost:8080/"
        },
        "id": "62HQC3zyKH74",
        "outputId": "5a2bcbcc-198a-4c4f-aca9-d7c2105d14c5"
      },
      "source": [
        "from google.colab import drive\n",
        "drive.mount('/content/drive')"
      ],
      "execution_count": 3,
      "outputs": [
        {
          "output_type": "stream",
          "text": [
            "Mounted at /content/drive\n"
          ],
          "name": "stdout"
        }
      ]
    },
    {
      "cell_type": "code",
      "metadata": {
        "colab": {
          "base_uri": "https://localhost:8080/",
          "height": 34
        },
        "id": "klfmOM79F3X2",
        "outputId": "cec547b3-7d1a-4d9c-c10c-1893aa527a89"
      },
      "source": [
        "pwd"
      ],
      "execution_count": 4,
      "outputs": [
        {
          "output_type": "execute_result",
          "data": {
            "application/vnd.google.colaboratory.intrinsic+json": {
              "type": "string"
            },
            "text/plain": [
              "'/content'"
            ]
          },
          "metadata": {
            "tags": []
          },
          "execution_count": 4
        }
      ]
    },
    {
      "cell_type": "code",
      "metadata": {
        "colab": {
          "base_uri": "https://localhost:8080/"
        },
        "id": "yxQRv2nUF_IW",
        "outputId": "b4d91ccb-74d9-475c-feec-88867c915940"
      },
      "source": [
        "cd /content/drive/MyDrive/AI ML Things/University of Turku Research Internship"
      ],
      "execution_count": 5,
      "outputs": [
        {
          "output_type": "stream",
          "text": [
            "/content/drive/MyDrive/AI ML Things/University of Turku Research Internship\n"
          ],
          "name": "stdout"
        }
      ]
    },
    {
      "cell_type": "code",
      "metadata": {
        "colab": {
          "base_uri": "https://localhost:8080/"
        },
        "id": "8_7M4TEaGCdW",
        "outputId": "cdab4077-701c-4cda-e400-2f4a8f4c8ccd"
      },
      "source": [
        "cd DWT_features/"
      ],
      "execution_count": 6,
      "outputs": [
        {
          "output_type": "stream",
          "text": [
            "/content/drive/MyDrive/AI ML Things/University of Turku Research Internship/DWT_features\n"
          ],
          "name": "stdout"
        }
      ]
    },
    {
      "cell_type": "code",
      "metadata": {
        "colab": {
          "base_uri": "https://localhost:8080/"
        },
        "id": "x3vV9nu0GGzb",
        "outputId": "7f06b5c2-a1ff-40ad-fa88-44c910009fca"
      },
      "source": [
        "ls"
      ],
      "execution_count": 7,
      "outputs": [
        {
          "output_type": "stream",
          "text": [
            " \u001b[0m\u001b[01;34mDWT_features_parts\u001b[0m/                        x_data_dwt.npy\n",
            "\u001b[01;34m'Labelled and Unlabelled Data Seperated'\u001b[0m/   y_data_dwt.npy\n"
          ],
          "name": "stdout"
        }
      ]
    },
    {
      "cell_type": "code",
      "metadata": {
        "id": "xPDLYNsJGImr"
      },
      "source": [
        "X = np.load(\"x_data_dwt.npy\")\r\n",
        "y = np.load(\"y_data_dwt.npy\")\r\n",
        "X = X[:583]\r\n",
        "y = y[:583]"
      ],
      "execution_count": 8,
      "outputs": []
    },
    {
      "cell_type": "code",
      "metadata": {
        "id": "n8BzrLANGVKA"
      },
      "source": [
        "def one_hot_target(y):\r\n",
        "    \r\n",
        "    y_one_hot = pd.get_dummies(y)\r\n",
        "    \r\n",
        "    return y_one_hot.values"
      ],
      "execution_count": 9,
      "outputs": []
    },
    {
      "cell_type": "code",
      "metadata": {
        "id": "zgrCVBjRHMVk"
      },
      "source": [
        "y_ = one_hot_target(y)"
      ],
      "execution_count": 10,
      "outputs": []
    },
    {
      "cell_type": "code",
      "metadata": {
        "id": "vF5mFHQCGdtS"
      },
      "source": [
        "## FOR CNN model\r\n",
        "train_X = X.reshape(-1,  48, 1)\r\n",
        "train_y = y_\r\n",
        "#WHY IS THE INPUT SHAPE RESHAPED"
      ],
      "execution_count": 11,
      "outputs": []
    },
    {
      "cell_type": "code",
      "metadata": {
        "id": "xMioKBt6RWBa"
      },
      "source": [
        "### FOR LSTM model\r\n",
        "train_X = X.reshape(-1,  48, 1)\r\n",
        "train_y = y_"
      ],
      "execution_count": 12,
      "outputs": []
    },
    {
      "cell_type": "code",
      "metadata": {
        "id": "lJrxY_bBRuq1"
      },
      "source": [
        "### FOR GRU model \r\n",
        "train_X = X.reshape(-1,  48, 1)\r\n",
        "train_y = y_"
      ],
      "execution_count": 13,
      "outputs": []
    },
    {
      "cell_type": "code",
      "metadata": {
        "id": "GJi5NWe2SqDN"
      },
      "source": [
        "### FOR CNN+LSTM model and CNN + BiLSTM model\r\n",
        "train_X = X.reshape(-1,  48, 1)\r\n",
        "train_y = y_"
      ],
      "execution_count": 14,
      "outputs": []
    },
    {
      "cell_type": "code",
      "metadata": {
        "id": "yL4eWDnUZI22"
      },
      "source": [
        "X_train, X_test, y_train, y_test = train_test_split(train_X, train_y ,test_size=0.15, random_state=42, shuffle = True)"
      ],
      "execution_count": 15,
      "outputs": []
    },
    {
      "cell_type": "code",
      "metadata": {
        "id": "-dZxvgzUFWuN"
      },
      "source": [
        "def CNN2():\r\n",
        "\r\n",
        "  input_ = Input(shape = (48, 1))\r\n",
        "  x = (Conv1D(filters = 64, kernel_size = 3, activation = 'relu'))(input_)\r\n",
        "  x = (Conv1D(filters =64,kernel_size =  3,activation = 'relu'))(x)\r\n",
        "  x = (Dropout(0.1))(x)\r\n",
        "  x = (MaxPooling1D(pool_size=2))(x)\r\n",
        "  x = (Conv1D(filters =128, kernel_size = 3,activation = 'relu'))(x)\r\n",
        "  x = (Conv1D(filters =256,kernel_size = 4,activation ='relu'))(x)\r\n",
        "  x = (Dropout(0.2))(x)\r\n",
        "  x = (MaxPooling1D(pool_size=2))(x)\r\n",
        "  x = (Flatten())(x)\r\n",
        "  x = Dense(200, activation = 'relu')(x)\r\n",
        "  output = Dense(5, activation = 'softmax')(x)\r\n",
        "\r\n",
        "  model = Model(input_, output)\r\n",
        "  \r\n",
        "  return model"
      ],
      "execution_count": 16,
      "outputs": []
    },
    {
      "cell_type": "code",
      "metadata": {
        "colab": {
          "base_uri": "https://localhost:8080/"
        },
        "id": "xRiEZnFKQ4gK",
        "outputId": "31e6d8e5-931f-47ab-a36e-cd800a494bce"
      },
      "source": [
        "CNN2()"
      ],
      "execution_count": 17,
      "outputs": [
        {
          "output_type": "execute_result",
          "data": {
            "text/plain": [
              "<tensorflow.python.keras.engine.functional.Functional at 0x7f19e0417a50>"
            ]
          },
          "metadata": {
            "tags": []
          },
          "execution_count": 17
        }
      ]
    },
    {
      "cell_type": "code",
      "metadata": {
        "id": "ENcUbhZuFirh"
      },
      "source": [
        "def LSTM_Model() : \r\n",
        "    print(y.sum(0))\r\n",
        "    input_ = Input(shape = (48,1))\r\n",
        "    x = LSTM(48, return_sequences=True)(input_)\r\n",
        "    #x = Dropout(0.1)(x)\r\n",
        "    x = (LSTM(48, return_sequences= True))(x)\r\n",
        "    x = LSTM(48)(x)\r\n",
        "    x = Dropout(0.2)(x)\r\n",
        "    #x = Dropout(0.2)(x)\r\n",
        "    x = Dense(units = 200, activation='relu')(x)\r\n",
        "    x = Dense(units = 200, activation='relu')(x)\r\n",
        "    x  = Dense(units = 200, activation='relu')(x)\r\n",
        "    output = Dense(5,  activation='softmax')(x)\r\n",
        "\r\n",
        "    LSTM_model = Model(input_, output)\r\n",
        "    return LSTM_model\r\n"
      ],
      "execution_count": 17,
      "outputs": []
    },
    {
      "cell_type": "code",
      "metadata": {
        "colab": {
          "base_uri": "https://localhost:8080/"
        },
        "id": "G57DiSVhxC4M",
        "outputId": "6993619c-616c-4ecc-ec63-0f63c7ae5c1e"
      },
      "source": [
        "LSTM_Model()"
      ],
      "execution_count": 18,
      "outputs": [
        {
          "output_type": "stream",
          "text": [
            "954.0\n"
          ],
          "name": "stdout"
        },
        {
          "output_type": "execute_result",
          "data": {
            "text/plain": [
              "<tensorflow.python.keras.engine.functional.Functional at 0x7f46c01e5a50>"
            ]
          },
          "metadata": {
            "tags": []
          },
          "execution_count": 18
        }
      ]
    },
    {
      "cell_type": "code",
      "metadata": {
        "id": "wBGCJG4aR0AV"
      },
      "source": [
        "def stacked_GRU():\r\n",
        "\r\n",
        "  input_ = Input(shape = (48, 1))\r\n",
        "  x = GRU(48, return_sequences =True)(input_)\r\n",
        "  x = GRU(48, return_sequences = True)(x)\r\n",
        "  x = Dropout(0.2)(x)\r\n",
        "  x = GRU(48)(x)\r\n",
        "  x = Dense(100, activation = 'relu')(x)\r\n",
        "  output = Dense(5, activation = 'softmax')(x)\r\n",
        "\r\n",
        "  GRU_model = Model(input_, output)\r\n",
        "\r\n",
        "  return GRU_model"
      ],
      "execution_count": 28,
      "outputs": []
    },
    {
      "cell_type": "code",
      "metadata": {
        "colab": {
          "base_uri": "https://localhost:8080/"
        },
        "id": "hk6tw3edbUNR",
        "outputId": "f8ca7441-3902-4cfc-eaa2-4881e4b17d03"
      },
      "source": [
        "stacked_GRU()"
      ],
      "execution_count": 29,
      "outputs": [
        {
          "output_type": "execute_result",
          "data": {
            "text/plain": [
              "<tensorflow.python.keras.engine.functional.Functional at 0x7f46837345d0>"
            ]
          },
          "metadata": {
            "tags": []
          },
          "execution_count": 29
        }
      ]
    },
    {
      "cell_type": "code",
      "metadata": {
        "id": "YKyiXCJoSegb"
      },
      "source": [
        "def CONV_LSTM_model():\r\n",
        "\r\n",
        "    input_ = Input(shape = (48, 1))\r\n",
        "    x = (Conv1D(filters=64, kernel_size=3, activation='relu'))(input_)\r\n",
        "    x = (Conv1D(filters=64, kernel_size=3, activation='relu'))(x)\r\n",
        "    x = (Conv1D(filters=128, kernel_size=3, activation='relu'))(x)\r\n",
        "    x = (Dropout(0.2))(x)\r\n",
        "    x = (MaxPooling1D(pool_size=2))(x)\r\n",
        "    #x = (Flatten())(x)\r\n",
        "    x = LSTM(200, return_sequences= True)(x)\r\n",
        "    x =LSTM(200, return_sequences=True)(x)\r\n",
        "    x = LSTM(200)(x)\r\n",
        "    x = Dropout(0.2)(x)\r\n",
        "    x = Dense(200, activation='relu')(x)\r\n",
        "    output = Dense(5, activation='softmax')(x)\r\n",
        "\r\n",
        "    Conv_LSTM_model = Model(input_, output)\r\n",
        "\r\n",
        "    return Conv_LSTM_model"
      ],
      "execution_count": 35,
      "outputs": []
    },
    {
      "cell_type": "code",
      "metadata": {
        "colab": {
          "base_uri": "https://localhost:8080/"
        },
        "id": "7f4ioQjKccGb",
        "outputId": "f5199a81-4263-43cb-9fb1-8abf71f1a332"
      },
      "source": [
        "CONV_LSTM_model()"
      ],
      "execution_count": 36,
      "outputs": [
        {
          "output_type": "execute_result",
          "data": {
            "text/plain": [
              "<tensorflow.python.keras.engine.functional.Functional at 0x7f46c02d9ad0>"
            ]
          },
          "metadata": {
            "tags": []
          },
          "execution_count": 36
        }
      ]
    },
    {
      "cell_type": "code",
      "metadata": {
        "id": "tBfLCtDAS-o_"
      },
      "source": [
        "def CONV_BiLSTM_model():\r\n",
        "\r\n",
        "    input_ = Input(shape = (48, 1))\r\n",
        "    x = (Conv1D(filters=64, kernel_size=3, activation='relu'))(input_)\r\n",
        "    x = (Conv1D(filters=64, kernel_size=3, activation='relu'))(x)\r\n",
        "    x = (Conv1D(filters=128, kernel_size=3, activation='relu'))(x)\r\n",
        "    x = (Dropout(0.2))(x)\r\n",
        "    x = (MaxPooling1D(pool_size=2))(x)\r\n",
        "    #x = TimeDistributed(Flatten())(x)\r\n",
        "    x = Bidirectional(LSTM(100, return_sequences= True))(x)\r\n",
        "    x = Bidirectional(LSTM(200, return_sequences=True))(x)\r\n",
        "    x = LSTM(400)(x)\r\n",
        "    x = Dropout(0.2)(x)\r\n",
        "    x = Dense(200, activation='relu')(x)\r\n",
        "    output = Dense(5, activation='softmax')(x)\r\n",
        "\r\n",
        "    Conv_LSTM_model = Model(input_, output)\r\n",
        "\r\n",
        "    return Conv_LSTM_model"
      ],
      "execution_count": 43,
      "outputs": []
    },
    {
      "cell_type": "code",
      "metadata": {
        "colab": {
          "base_uri": "https://localhost:8080/"
        },
        "id": "F711uOIcztXh",
        "outputId": "8fbf3956-ee6d-45fb-ac34-981eb723af13"
      },
      "source": [
        "CONV_BiLSTM_model()"
      ],
      "execution_count": 44,
      "outputs": [
        {
          "output_type": "execute_result",
          "data": {
            "text/plain": [
              "<tensorflow.python.keras.engine.functional.Functional at 0x7f468031d7d0>"
            ]
          },
          "metadata": {
            "tags": []
          },
          "execution_count": 44
        }
      ]
    },
    {
      "cell_type": "code",
      "metadata": {
        "id": "ODTLOyv2TT77"
      },
      "source": [
        "def Conv_LSTM2D_model1():\r\n",
        "    input_ = Input(shape = ((48,1, 1, 1)))\r\n",
        "    x = ConvLSTM2D(filters = 64, kernel_size = (1,3), activation = 'relu')(input_)\r\n",
        "    #x = (Conv1D(filters=64, kernel_size=3, activation='relu'))(x)\r\n",
        "    x = (Conv1D(filters=128, kernel_size=3, activation='relu'))(x)\r\n",
        "    x = (Dropout(0.2))(x)\r\n",
        "    x = (MaxPooling1D(pool_size=2))(x)\r\n",
        "    x = TimeDistributed(Flatten())(x)\r\n",
        "    x = Bidirectional(LSTM(100, return_sequences= True))(x)\r\n",
        "    x = LSTM(200)(x)\r\n",
        "    x = Dropout(0.2)(x)\r\n",
        "    x = Dense(200, activation='relu')(x)\r\n",
        "    output = Dense(5, activation='softmax')(x)\r\n",
        "    \r\n",
        "    \r\n",
        "    ConvLSTM2D_model = Model(input_, output)\r\n",
        "\r\n",
        "    return ConvLSTM2D_model"
      ],
      "execution_count": null,
      "outputs": []
    },
    {
      "cell_type": "code",
      "metadata": {
        "id": "eyG1SuLRNGfQ"
      },
      "source": [
        "def train_model_(model):\r\n",
        "  \r\n",
        "  model  = model ### \r\n",
        "  model.compile(loss = 'categorical_crossentropy', optimizer = Adam(), metrics = ['accuracy'])\r\n",
        "        \r\n",
        "\r\n",
        "  r = model.fit(X_train, y_train, batch_size = 32, epochs = 30, validation_split = 0.1)\r\n",
        "  #return 4, 6\r\n",
        "  return model,r"
      ],
      "execution_count": 45,
      "outputs": []
    },
    {
      "cell_type": "code",
      "metadata": {
        "id": "VnSKkW40S-Q7"
      },
      "source": [
        ""
      ],
      "execution_count": 45,
      "outputs": []
    },
    {
      "cell_type": "code",
      "metadata": {
        "colab": {
          "base_uri": "https://localhost:8080/"
        },
        "id": "002aj-I4NST8",
        "outputId": "a03c67e0-b923-480e-a958-2ea07ff55927"
      },
      "source": [
        "model, r = train_model_(CONV_BiLSTM_model())"
      ],
      "execution_count": 46,
      "outputs": [
        {
          "output_type": "stream",
          "text": [
            "Epoch 1/30\n",
            "14/14 [==============================] - 8s 134ms/step - loss: 1.1964 - accuracy: 0.5389 - val_loss: 1.1133 - val_accuracy: 0.6000\n",
            "Epoch 2/30\n",
            "14/14 [==============================] - 0s 21ms/step - loss: 1.0324 - accuracy: 0.6407 - val_loss: 1.1322 - val_accuracy: 0.6000\n",
            "Epoch 3/30\n",
            "14/14 [==============================] - 0s 19ms/step - loss: 1.0103 - accuracy: 0.6467 - val_loss: 1.0874 - val_accuracy: 0.6000\n",
            "Epoch 4/30\n",
            "14/14 [==============================] - 0s 18ms/step - loss: 1.0446 - accuracy: 0.6490 - val_loss: 1.0413 - val_accuracy: 0.6600\n",
            "Epoch 5/30\n",
            "14/14 [==============================] - 0s 20ms/step - loss: 0.9555 - accuracy: 0.6915 - val_loss: 0.9740 - val_accuracy: 0.7000\n",
            "Epoch 6/30\n",
            "14/14 [==============================] - 0s 19ms/step - loss: 0.9320 - accuracy: 0.7075 - val_loss: 0.9699 - val_accuracy: 0.6400\n",
            "Epoch 7/30\n",
            "14/14 [==============================] - 0s 18ms/step - loss: 0.9500 - accuracy: 0.6933 - val_loss: 0.9418 - val_accuracy: 0.6800\n",
            "Epoch 8/30\n",
            "14/14 [==============================] - 0s 17ms/step - loss: 0.9283 - accuracy: 0.6897 - val_loss: 1.0095 - val_accuracy: 0.6200\n",
            "Epoch 9/30\n",
            "14/14 [==============================] - 0s 17ms/step - loss: 0.9481 - accuracy: 0.6756 - val_loss: 0.9476 - val_accuracy: 0.6600\n",
            "Epoch 10/30\n",
            "14/14 [==============================] - 0s 18ms/step - loss: 0.9193 - accuracy: 0.6832 - val_loss: 0.8442 - val_accuracy: 0.7200\n",
            "Epoch 11/30\n",
            "14/14 [==============================] - 0s 19ms/step - loss: 0.8581 - accuracy: 0.7266 - val_loss: 0.8900 - val_accuracy: 0.7000\n",
            "Epoch 12/30\n",
            "14/14 [==============================] - 0s 18ms/step - loss: 0.9366 - accuracy: 0.6812 - val_loss: 0.8206 - val_accuracy: 0.7600\n",
            "Epoch 13/30\n",
            "14/14 [==============================] - 0s 17ms/step - loss: 0.9376 - accuracy: 0.7016 - val_loss: 0.8005 - val_accuracy: 0.7600\n",
            "Epoch 14/30\n",
            "14/14 [==============================] - 0s 19ms/step - loss: 0.8908 - accuracy: 0.7070 - val_loss: 0.8296 - val_accuracy: 0.7200\n",
            "Epoch 15/30\n",
            "14/14 [==============================] - 0s 18ms/step - loss: 0.8201 - accuracy: 0.7349 - val_loss: 0.9478 - val_accuracy: 0.6800\n",
            "Epoch 16/30\n",
            "14/14 [==============================] - 0s 20ms/step - loss: 0.9070 - accuracy: 0.7121 - val_loss: 0.9285 - val_accuracy: 0.7000\n",
            "Epoch 17/30\n",
            "14/14 [==============================] - 0s 33ms/step - loss: 0.8765 - accuracy: 0.7147 - val_loss: 0.9443 - val_accuracy: 0.6800\n",
            "Epoch 18/30\n",
            "14/14 [==============================] - 0s 20ms/step - loss: 0.8243 - accuracy: 0.7439 - val_loss: 0.8864 - val_accuracy: 0.7600\n",
            "Epoch 19/30\n",
            "14/14 [==============================] - 0s 20ms/step - loss: 0.8975 - accuracy: 0.7071 - val_loss: 0.8140 - val_accuracy: 0.7400\n",
            "Epoch 20/30\n",
            "14/14 [==============================] - 0s 18ms/step - loss: 0.8469 - accuracy: 0.7317 - val_loss: 0.8153 - val_accuracy: 0.7200\n",
            "Epoch 21/30\n",
            "14/14 [==============================] - 0s 18ms/step - loss: 0.9024 - accuracy: 0.6908 - val_loss: 0.8338 - val_accuracy: 0.6800\n",
            "Epoch 22/30\n",
            "14/14 [==============================] - 0s 18ms/step - loss: 0.8740 - accuracy: 0.7245 - val_loss: 0.8683 - val_accuracy: 0.6800\n",
            "Epoch 23/30\n",
            "14/14 [==============================] - 0s 20ms/step - loss: 0.8228 - accuracy: 0.7296 - val_loss: 0.9256 - val_accuracy: 0.7000\n",
            "Epoch 24/30\n",
            "14/14 [==============================] - 0s 19ms/step - loss: 0.9853 - accuracy: 0.6760 - val_loss: 0.8516 - val_accuracy: 0.7600\n",
            "Epoch 25/30\n",
            "14/14 [==============================] - 0s 17ms/step - loss: 0.9490 - accuracy: 0.6996 - val_loss: 0.9197 - val_accuracy: 0.6400\n",
            "Epoch 26/30\n",
            "14/14 [==============================] - 0s 17ms/step - loss: 0.8733 - accuracy: 0.7137 - val_loss: 0.9353 - val_accuracy: 0.6400\n",
            "Epoch 27/30\n",
            "14/14 [==============================] - 0s 17ms/step - loss: 0.8670 - accuracy: 0.7043 - val_loss: 0.9405 - val_accuracy: 0.6600\n",
            "Epoch 28/30\n",
            "14/14 [==============================] - 0s 18ms/step - loss: 0.9280 - accuracy: 0.6757 - val_loss: 0.7320 - val_accuracy: 0.7800\n",
            "Epoch 29/30\n",
            "14/14 [==============================] - 0s 18ms/step - loss: 0.8433 - accuracy: 0.7192 - val_loss: 1.0045 - val_accuracy: 0.6600\n",
            "Epoch 30/30\n",
            "14/14 [==============================] - 0s 18ms/step - loss: 0.8312 - accuracy: 0.7283 - val_loss: 0.8990 - val_accuracy: 0.6800\n"
          ],
          "name": "stdout"
        }
      ]
    },
    {
      "cell_type": "code",
      "metadata": {
        "id": "aM37v0PbFvTV"
      },
      "source": [
        "def KFoldCV(train_X,y, model):  # This performs 10 Fold Cross validation on user dependant model\r\n",
        "\r\n",
        "    scores = []\r\n",
        "    train_scores = []\r\n",
        "    Kfold_CV = KFold(n_splits = 10, random_state=42)\r\n",
        "    i = 0\r\n",
        "\r\n",
        "    for train_index, test_index in Kfold_CV.split(train_X):\r\n",
        "\r\n",
        "        #CNN2()\r\n",
        "        i += 1\r\n",
        "        print(i)\r\n",
        "        \r\n",
        "          #break\r\n",
        "        Conv_LSTM_model  = model\r\n",
        "        Conv_LSTM_model.compile(loss = 'categorical_crossentropy', optimizer = Adam(), metrics = ['accuracy'])\r\n",
        "        if i<10:\r\n",
        "          print(Conv_LSTM_model.summary())\r\n",
        "\r\n",
        "        r = Conv_LSTM_model.fit(train_X[train_index], y[train_index], batch_size = 32, epochs = 30, validation_data = (train_X[test_index],y[test_index]))\r\n",
        "\r\n",
        "        # Evaluate on train\r\n",
        "        pred_train = Conv_LSTM_model.predict(train_X[train_index])\r\n",
        "        pred_train_te = pred_train.argmax(axis = 1)\r\n",
        "        train_te = y[train_index].argmax(axis = 1)\r\n",
        "        accuracy_train   = accuracy_score(train_te, pred_train_te)\r\n",
        "        train_scores.append(accuracy_train)\r\n",
        "        \r\n",
        "        # Evaluate on test\r\n",
        "        pred  = Conv_LSTM_model.predict(train_X[test_index])\r\n",
        "        pred_te = pred.argmax(axis = 1)\r\n",
        "        test_te = y[test_index].argmax(axis = 1)\r\n",
        "        accuracy = accuracy_score(test_te, pred_te)\r\n",
        "        scores.append(accuracy)\r\n",
        "\r\n",
        "    return scores, train_scores, Conv_LSTM_model,r"
      ],
      "execution_count": null,
      "outputs": []
    },
    {
      "cell_type": "code",
      "metadata": {
        "colab": {
          "base_uri": "https://localhost:8080/"
        },
        "id": "sLEkOdRWHF1L",
        "outputId": "86f522e1-5ad3-4ab6-e1c0-efff6d1deda2"
      },
      "source": [
        "### This cell performs 10 Cross Validation , to get Accuracy\r\n",
        "## Test Accuracy = np.mean(scores)\r\n",
        "## Train Accuracy = np.mean(train_scores)\r\n",
        "scores, train_scores, model, r = KFoldCV(train_X,train_y, CONV_LSTM_model()) ## Write model type as third parameter"
      ],
      "execution_count": null,
      "outputs": [
        {
          "output_type": "stream",
          "text": [
            "/usr/local/lib/python3.7/dist-packages/sklearn/model_selection/_split.py:296: FutureWarning: Setting a random_state has no effect since shuffle is False. This will raise an error in 0.24. You should leave random_state to its default (None), or set shuffle=True.\n",
            "  FutureWarning\n"
          ],
          "name": "stderr"
        },
        {
          "output_type": "stream",
          "text": [
            "1\n",
            "Model: \"model_10\"\n",
            "_________________________________________________________________\n",
            "Layer (type)                 Output Shape              Param #   \n",
            "=================================================================\n",
            "input_11 (InputLayer)        [(None, 48, 1)]           0         \n",
            "_________________________________________________________________\n",
            "conv1d_26 (Conv1D)           (None, 46, 64)            256       \n",
            "_________________________________________________________________\n",
            "conv1d_27 (Conv1D)           (None, 44, 64)            12352     \n",
            "_________________________________________________________________\n",
            "conv1d_28 (Conv1D)           (None, 42, 128)           24704     \n",
            "_________________________________________________________________\n",
            "dropout_17 (Dropout)         (None, 42, 128)           0         \n",
            "_________________________________________________________________\n",
            "max_pooling1d_12 (MaxPooling (None, 21, 128)           0         \n",
            "_________________________________________________________________\n",
            "lstm_6 (LSTM)                (None, 21, 200)           263200    \n",
            "_________________________________________________________________\n",
            "lstm_7 (LSTM)                (None, 21, 200)           320800    \n",
            "_________________________________________________________________\n",
            "lstm_8 (LSTM)                (None, 200)               320800    \n",
            "_________________________________________________________________\n",
            "dropout_18 (Dropout)         (None, 200)               0         \n",
            "_________________________________________________________________\n",
            "dense_20 (Dense)             (None, 200)               40200     \n",
            "_________________________________________________________________\n",
            "dense_21 (Dense)             (None, 5)                 1005      \n",
            "=================================================================\n",
            "Total params: 983,317\n",
            "Trainable params: 983,317\n",
            "Non-trainable params: 0\n",
            "_________________________________________________________________\n",
            "None\n",
            "Epoch 1/30\n",
            "17/17 [==============================] - 6s 89ms/step - loss: 1.2042 - accuracy: 0.5258 - val_loss: 3.3204 - val_accuracy: 0.2712\n",
            "Epoch 2/30\n",
            "17/17 [==============================] - 0s 14ms/step - loss: 0.9968 - accuracy: 0.6472 - val_loss: 3.7021 - val_accuracy: 0.3051\n",
            "Epoch 3/30\n",
            "17/17 [==============================] - 0s 14ms/step - loss: 0.9646 - accuracy: 0.6595 - val_loss: 4.4968 - val_accuracy: 0.2881\n",
            "Epoch 4/30\n",
            "17/17 [==============================] - 0s 14ms/step - loss: 0.9459 - accuracy: 0.6649 - val_loss: 4.4664 - val_accuracy: 0.2712\n",
            "Epoch 5/30\n",
            "17/17 [==============================] - 0s 14ms/step - loss: 0.9607 - accuracy: 0.6560 - val_loss: 4.7150 - val_accuracy: 0.2712\n",
            "Epoch 6/30\n",
            "17/17 [==============================] - 0s 13ms/step - loss: 0.8977 - accuracy: 0.6897 - val_loss: 4.7311 - val_accuracy: 0.2881\n",
            "Epoch 7/30\n",
            "17/17 [==============================] - 0s 14ms/step - loss: 0.8679 - accuracy: 0.7101 - val_loss: 4.8718 - val_accuracy: 0.2203\n",
            "Epoch 8/30\n",
            "17/17 [==============================] - 0s 14ms/step - loss: 0.8690 - accuracy: 0.7118 - val_loss: 4.5741 - val_accuracy: 0.2881\n",
            "Epoch 9/30\n",
            "17/17 [==============================] - 0s 14ms/step - loss: 0.8684 - accuracy: 0.6971 - val_loss: 4.8555 - val_accuracy: 0.2712\n",
            "Epoch 10/30\n",
            "17/17 [==============================] - 0s 14ms/step - loss: 0.9055 - accuracy: 0.6887 - val_loss: 4.4845 - val_accuracy: 0.3051\n",
            "Epoch 11/30\n",
            "17/17 [==============================] - 0s 14ms/step - loss: 0.9155 - accuracy: 0.6781 - val_loss: 4.7293 - val_accuracy: 0.2881\n",
            "Epoch 12/30\n",
            "17/17 [==============================] - 0s 14ms/step - loss: 0.8974 - accuracy: 0.6957 - val_loss: 4.8011 - val_accuracy: 0.1864\n",
            "Epoch 13/30\n",
            "17/17 [==============================] - 0s 13ms/step - loss: 0.8468 - accuracy: 0.7046 - val_loss: 4.8933 - val_accuracy: 0.1864\n",
            "Epoch 14/30\n",
            "17/17 [==============================] - 0s 14ms/step - loss: 0.8129 - accuracy: 0.7092 - val_loss: 5.5561 - val_accuracy: 0.1695\n",
            "Epoch 15/30\n",
            "17/17 [==============================] - 0s 14ms/step - loss: 0.9066 - accuracy: 0.6780 - val_loss: 4.7329 - val_accuracy: 0.3051\n",
            "Epoch 16/30\n",
            "17/17 [==============================] - 0s 14ms/step - loss: 0.8660 - accuracy: 0.7081 - val_loss: 5.2250 - val_accuracy: 0.2373\n",
            "Epoch 17/30\n",
            "17/17 [==============================] - 0s 14ms/step - loss: 0.8839 - accuracy: 0.6985 - val_loss: 5.6601 - val_accuracy: 0.1695\n",
            "Epoch 18/30\n",
            "17/17 [==============================] - 0s 15ms/step - loss: 0.8474 - accuracy: 0.7028 - val_loss: 5.2902 - val_accuracy: 0.3051\n",
            "Epoch 19/30\n",
            "17/17 [==============================] - 0s 15ms/step - loss: 0.8499 - accuracy: 0.6974 - val_loss: 5.6651 - val_accuracy: 0.2034\n",
            "Epoch 20/30\n",
            "17/17 [==============================] - 0s 14ms/step - loss: 0.8701 - accuracy: 0.6867 - val_loss: 5.7300 - val_accuracy: 0.1525\n",
            "Epoch 21/30\n",
            "17/17 [==============================] - 0s 14ms/step - loss: 0.8940 - accuracy: 0.6998 - val_loss: 5.8564 - val_accuracy: 0.1695\n",
            "Epoch 22/30\n",
            "17/17 [==============================] - 0s 14ms/step - loss: 0.8491 - accuracy: 0.7019 - val_loss: 5.2492 - val_accuracy: 0.2203\n",
            "Epoch 23/30\n",
            "17/17 [==============================] - 0s 14ms/step - loss: 0.8576 - accuracy: 0.6956 - val_loss: 5.6337 - val_accuracy: 0.2203\n",
            "Epoch 24/30\n",
            "17/17 [==============================] - 0s 14ms/step - loss: 0.8187 - accuracy: 0.7160 - val_loss: 6.5390 - val_accuracy: 0.1525\n",
            "Epoch 25/30\n",
            "17/17 [==============================] - 0s 14ms/step - loss: 0.7791 - accuracy: 0.7481 - val_loss: 5.0146 - val_accuracy: 0.2203\n",
            "Epoch 26/30\n",
            "17/17 [==============================] - 0s 14ms/step - loss: 0.8314 - accuracy: 0.7121 - val_loss: 6.0835 - val_accuracy: 0.1525\n",
            "Epoch 27/30\n",
            "17/17 [==============================] - 0s 14ms/step - loss: 0.8525 - accuracy: 0.7027 - val_loss: 4.9660 - val_accuracy: 0.1525\n",
            "Epoch 28/30\n",
            "17/17 [==============================] - 0s 14ms/step - loss: 0.8426 - accuracy: 0.6837 - val_loss: 5.9250 - val_accuracy: 0.1695\n",
            "Epoch 29/30\n",
            "17/17 [==============================] - 0s 14ms/step - loss: 0.8247 - accuracy: 0.7192 - val_loss: 6.5076 - val_accuracy: 0.1695\n",
            "Epoch 30/30\n",
            "17/17 [==============================] - 0s 14ms/step - loss: 0.8945 - accuracy: 0.6840 - val_loss: 6.3980 - val_accuracy: 0.2881\n",
            "2\n",
            "Model: \"model_10\"\n",
            "_________________________________________________________________\n",
            "Layer (type)                 Output Shape              Param #   \n",
            "=================================================================\n",
            "input_11 (InputLayer)        [(None, 48, 1)]           0         \n",
            "_________________________________________________________________\n",
            "conv1d_26 (Conv1D)           (None, 46, 64)            256       \n",
            "_________________________________________________________________\n",
            "conv1d_27 (Conv1D)           (None, 44, 64)            12352     \n",
            "_________________________________________________________________\n",
            "conv1d_28 (Conv1D)           (None, 42, 128)           24704     \n",
            "_________________________________________________________________\n",
            "dropout_17 (Dropout)         (None, 42, 128)           0         \n",
            "_________________________________________________________________\n",
            "max_pooling1d_12 (MaxPooling (None, 21, 128)           0         \n",
            "_________________________________________________________________\n",
            "lstm_6 (LSTM)                (None, 21, 200)           263200    \n",
            "_________________________________________________________________\n",
            "lstm_7 (LSTM)                (None, 21, 200)           320800    \n",
            "_________________________________________________________________\n",
            "lstm_8 (LSTM)                (None, 200)               320800    \n",
            "_________________________________________________________________\n",
            "dropout_18 (Dropout)         (None, 200)               0         \n",
            "_________________________________________________________________\n",
            "dense_20 (Dense)             (None, 200)               40200     \n",
            "_________________________________________________________________\n",
            "dense_21 (Dense)             (None, 5)                 1005      \n",
            "=================================================================\n",
            "Total params: 983,317\n",
            "Trainable params: 983,317\n",
            "Non-trainable params: 0\n",
            "_________________________________________________________________\n",
            "None\n",
            "Epoch 1/30\n",
            "17/17 [==============================] - 6s 87ms/step - loss: 1.2530 - accuracy: 0.6764 - val_loss: 1.9067 - val_accuracy: 0.2542\n",
            "Epoch 2/30\n",
            "17/17 [==============================] - 0s 14ms/step - loss: 0.8460 - accuracy: 0.7014 - val_loss: 1.9691 - val_accuracy: 0.3729\n",
            "Epoch 3/30\n",
            "17/17 [==============================] - 0s 14ms/step - loss: 0.8568 - accuracy: 0.6897 - val_loss: 2.3997 - val_accuracy: 0.2203\n",
            "Epoch 4/30\n",
            "17/17 [==============================] - 0s 14ms/step - loss: 0.8355 - accuracy: 0.7271 - val_loss: 2.5298 - val_accuracy: 0.4237\n",
            "Epoch 5/30\n",
            "17/17 [==============================] - 0s 14ms/step - loss: 0.8753 - accuracy: 0.6715 - val_loss: 2.8308 - val_accuracy: 0.2542\n",
            "Epoch 6/30\n",
            "17/17 [==============================] - 0s 14ms/step - loss: 0.8223 - accuracy: 0.7204 - val_loss: 2.4954 - val_accuracy: 0.3220\n",
            "Epoch 7/30\n",
            "17/17 [==============================] - 0s 14ms/step - loss: 0.8707 - accuracy: 0.7058 - val_loss: 2.5322 - val_accuracy: 0.4746\n",
            "Epoch 8/30\n",
            "17/17 [==============================] - 0s 14ms/step - loss: 0.8247 - accuracy: 0.7232 - val_loss: 2.6478 - val_accuracy: 0.4407\n",
            "Epoch 9/30\n",
            "17/17 [==============================] - 0s 14ms/step - loss: 0.8220 - accuracy: 0.6874 - val_loss: 2.9067 - val_accuracy: 0.3559\n",
            "Epoch 10/30\n",
            "17/17 [==============================] - 0s 14ms/step - loss: 0.8617 - accuracy: 0.6407 - val_loss: 2.9673 - val_accuracy: 0.3390\n",
            "Epoch 11/30\n",
            "17/17 [==============================] - 0s 14ms/step - loss: 0.7907 - accuracy: 0.7224 - val_loss: 2.8791 - val_accuracy: 0.3729\n",
            "Epoch 12/30\n",
            "17/17 [==============================] - 0s 14ms/step - loss: 0.7567 - accuracy: 0.7480 - val_loss: 3.0333 - val_accuracy: 0.2712\n",
            "Epoch 13/30\n",
            "17/17 [==============================] - 0s 15ms/step - loss: 0.8068 - accuracy: 0.7210 - val_loss: 3.0001 - val_accuracy: 0.3220\n",
            "Epoch 14/30\n",
            "17/17 [==============================] - 0s 14ms/step - loss: 0.8050 - accuracy: 0.7225 - val_loss: 3.1164 - val_accuracy: 0.3390\n",
            "Epoch 15/30\n",
            "17/17 [==============================] - 0s 14ms/step - loss: 0.8054 - accuracy: 0.7205 - val_loss: 3.1178 - val_accuracy: 0.4068\n",
            "Epoch 16/30\n",
            "17/17 [==============================] - 0s 15ms/step - loss: 0.7569 - accuracy: 0.7235 - val_loss: 3.1646 - val_accuracy: 0.3559\n",
            "Epoch 17/30\n",
            "17/17 [==============================] - 0s 14ms/step - loss: 0.8142 - accuracy: 0.7108 - val_loss: 3.1033 - val_accuracy: 0.3729\n",
            "Epoch 18/30\n",
            "17/17 [==============================] - 0s 14ms/step - loss: 0.7687 - accuracy: 0.7443 - val_loss: 3.0757 - val_accuracy: 0.4237\n",
            "Epoch 19/30\n",
            "17/17 [==============================] - 0s 14ms/step - loss: 0.7924 - accuracy: 0.7514 - val_loss: 3.2945 - val_accuracy: 0.3051\n",
            "Epoch 20/30\n",
            "17/17 [==============================] - 0s 15ms/step - loss: 0.7695 - accuracy: 0.7193 - val_loss: 3.0698 - val_accuracy: 0.4237\n",
            "Epoch 21/30\n",
            "17/17 [==============================] - 0s 14ms/step - loss: 0.7499 - accuracy: 0.7361 - val_loss: 3.1559 - val_accuracy: 0.3559\n",
            "Epoch 22/30\n",
            "17/17 [==============================] - 0s 14ms/step - loss: 0.7100 - accuracy: 0.7668 - val_loss: 2.9445 - val_accuracy: 0.3051\n",
            "Epoch 23/30\n",
            "17/17 [==============================] - 0s 14ms/step - loss: 0.7755 - accuracy: 0.7328 - val_loss: 3.0165 - val_accuracy: 0.3898\n",
            "Epoch 24/30\n",
            "17/17 [==============================] - 0s 14ms/step - loss: 0.7492 - accuracy: 0.7251 - val_loss: 3.2645 - val_accuracy: 0.3390\n",
            "Epoch 25/30\n",
            "17/17 [==============================] - 0s 14ms/step - loss: 0.7103 - accuracy: 0.7579 - val_loss: 3.0630 - val_accuracy: 0.3898\n",
            "Epoch 26/30\n",
            "17/17 [==============================] - 0s 14ms/step - loss: 0.7748 - accuracy: 0.7112 - val_loss: 3.5117 - val_accuracy: 0.3220\n",
            "Epoch 27/30\n",
            "17/17 [==============================] - 0s 15ms/step - loss: 0.6424 - accuracy: 0.8020 - val_loss: 3.3289 - val_accuracy: 0.3220\n",
            "Epoch 28/30\n",
            "17/17 [==============================] - 0s 14ms/step - loss: 0.6564 - accuracy: 0.7919 - val_loss: 3.4290 - val_accuracy: 0.3898\n",
            "Epoch 29/30\n",
            "17/17 [==============================] - 0s 14ms/step - loss: 0.7123 - accuracy: 0.7474 - val_loss: 3.7637 - val_accuracy: 0.3559\n",
            "Epoch 30/30\n",
            "17/17 [==============================] - 0s 14ms/step - loss: 0.7957 - accuracy: 0.7097 - val_loss: 3.4084 - val_accuracy: 0.3559\n",
            "3\n",
            "Model: \"model_10\"\n",
            "_________________________________________________________________\n",
            "Layer (type)                 Output Shape              Param #   \n",
            "=================================================================\n",
            "input_11 (InputLayer)        [(None, 48, 1)]           0         \n",
            "_________________________________________________________________\n",
            "conv1d_26 (Conv1D)           (None, 46, 64)            256       \n",
            "_________________________________________________________________\n",
            "conv1d_27 (Conv1D)           (None, 44, 64)            12352     \n",
            "_________________________________________________________________\n",
            "conv1d_28 (Conv1D)           (None, 42, 128)           24704     \n",
            "_________________________________________________________________\n",
            "dropout_17 (Dropout)         (None, 42, 128)           0         \n",
            "_________________________________________________________________\n",
            "max_pooling1d_12 (MaxPooling (None, 21, 128)           0         \n",
            "_________________________________________________________________\n",
            "lstm_6 (LSTM)                (None, 21, 200)           263200    \n",
            "_________________________________________________________________\n",
            "lstm_7 (LSTM)                (None, 21, 200)           320800    \n",
            "_________________________________________________________________\n",
            "lstm_8 (LSTM)                (None, 200)               320800    \n",
            "_________________________________________________________________\n",
            "dropout_18 (Dropout)         (None, 200)               0         \n",
            "_________________________________________________________________\n",
            "dense_20 (Dense)             (None, 200)               40200     \n",
            "_________________________________________________________________\n",
            "dense_21 (Dense)             (None, 5)                 1005      \n",
            "=================================================================\n",
            "Total params: 983,317\n",
            "Trainable params: 983,317\n",
            "Non-trainable params: 0\n",
            "_________________________________________________________________\n",
            "None\n",
            "Epoch 1/30\n",
            "17/17 [==============================] - 8s 87ms/step - loss: 0.9216 - accuracy: 0.7681 - val_loss: 1.2167 - val_accuracy: 0.5085\n",
            "Epoch 2/30\n",
            "17/17 [==============================] - 0s 14ms/step - loss: 0.7910 - accuracy: 0.7487 - val_loss: 1.4736 - val_accuracy: 0.4576\n",
            "Epoch 3/30\n",
            "17/17 [==============================] - 0s 14ms/step - loss: 0.7455 - accuracy: 0.7507 - val_loss: 1.5237 - val_accuracy: 0.3559\n",
            "Epoch 4/30\n",
            "17/17 [==============================] - 0s 15ms/step - loss: 0.7389 - accuracy: 0.7592 - val_loss: 1.3382 - val_accuracy: 0.4407\n",
            "Epoch 5/30\n",
            "17/17 [==============================] - 0s 14ms/step - loss: 0.8009 - accuracy: 0.7220 - val_loss: 1.4606 - val_accuracy: 0.4576\n",
            "Epoch 6/30\n",
            "17/17 [==============================] - 0s 15ms/step - loss: 0.7021 - accuracy: 0.7639 - val_loss: 1.3497 - val_accuracy: 0.4915\n",
            "Epoch 7/30\n",
            "17/17 [==============================] - 0s 14ms/step - loss: 0.7257 - accuracy: 0.7520 - val_loss: 1.4469 - val_accuracy: 0.4915\n",
            "Epoch 8/30\n",
            "17/17 [==============================] - 0s 14ms/step - loss: 0.6901 - accuracy: 0.7688 - val_loss: 1.2171 - val_accuracy: 0.5593\n",
            "Epoch 9/30\n",
            "17/17 [==============================] - 0s 14ms/step - loss: 0.7177 - accuracy: 0.7605 - val_loss: 1.5749 - val_accuracy: 0.4068\n",
            "Epoch 10/30\n",
            "17/17 [==============================] - 0s 14ms/step - loss: 0.7530 - accuracy: 0.7643 - val_loss: 1.5167 - val_accuracy: 0.5085\n",
            "Epoch 11/30\n",
            "17/17 [==============================] - 0s 14ms/step - loss: 0.6782 - accuracy: 0.7859 - val_loss: 1.7724 - val_accuracy: 0.3898\n",
            "Epoch 12/30\n",
            "17/17 [==============================] - 0s 14ms/step - loss: 0.6776 - accuracy: 0.7929 - val_loss: 1.7108 - val_accuracy: 0.2373\n",
            "Epoch 13/30\n",
            "17/17 [==============================] - 0s 15ms/step - loss: 0.7351 - accuracy: 0.7269 - val_loss: 1.5474 - val_accuracy: 0.5254\n",
            "Epoch 14/30\n",
            "17/17 [==============================] - 0s 14ms/step - loss: 0.6776 - accuracy: 0.7917 - val_loss: 1.4207 - val_accuracy: 0.4237\n",
            "Epoch 15/30\n",
            "17/17 [==============================] - 0s 14ms/step - loss: 0.6041 - accuracy: 0.7963 - val_loss: 1.3716 - val_accuracy: 0.5085\n",
            "Epoch 16/30\n",
            "17/17 [==============================] - 0s 14ms/step - loss: 0.6716 - accuracy: 0.7681 - val_loss: 1.5219 - val_accuracy: 0.4068\n",
            "Epoch 17/30\n",
            "17/17 [==============================] - 0s 15ms/step - loss: 0.6645 - accuracy: 0.7930 - val_loss: 1.3845 - val_accuracy: 0.5424\n",
            "Epoch 18/30\n",
            "17/17 [==============================] - 0s 14ms/step - loss: 0.6105 - accuracy: 0.7912 - val_loss: 1.3780 - val_accuracy: 0.5593\n",
            "Epoch 19/30\n",
            "17/17 [==============================] - 0s 14ms/step - loss: 0.6300 - accuracy: 0.7837 - val_loss: 1.6112 - val_accuracy: 0.4915\n",
            "Epoch 20/30\n",
            "17/17 [==============================] - 0s 15ms/step - loss: 0.5795 - accuracy: 0.7990 - val_loss: 1.5134 - val_accuracy: 0.4068\n",
            "Epoch 21/30\n",
            "17/17 [==============================] - 0s 15ms/step - loss: 0.5964 - accuracy: 0.7953 - val_loss: 1.2719 - val_accuracy: 0.4915\n",
            "Epoch 22/30\n",
            "17/17 [==============================] - 0s 14ms/step - loss: 0.6443 - accuracy: 0.7785 - val_loss: 1.6854 - val_accuracy: 0.3898\n",
            "Epoch 23/30\n",
            "17/17 [==============================] - 0s 15ms/step - loss: 0.7272 - accuracy: 0.7699 - val_loss: 1.6287 - val_accuracy: 0.4576\n",
            "Epoch 24/30\n",
            "17/17 [==============================] - 0s 15ms/step - loss: 0.6433 - accuracy: 0.7782 - val_loss: 1.6805 - val_accuracy: 0.4576\n",
            "Epoch 25/30\n",
            "17/17 [==============================] - 0s 15ms/step - loss: 0.5931 - accuracy: 0.7782 - val_loss: 1.4611 - val_accuracy: 0.4746\n",
            "Epoch 26/30\n",
            "17/17 [==============================] - 0s 14ms/step - loss: 0.5980 - accuracy: 0.7857 - val_loss: 1.6169 - val_accuracy: 0.4576\n",
            "Epoch 27/30\n",
            "17/17 [==============================] - 0s 14ms/step - loss: 0.5547 - accuracy: 0.8028 - val_loss: 1.8739 - val_accuracy: 0.3729\n",
            "Epoch 28/30\n",
            "17/17 [==============================] - 0s 14ms/step - loss: 0.5292 - accuracy: 0.8181 - val_loss: 1.2694 - val_accuracy: 0.5932\n",
            "Epoch 29/30\n",
            "17/17 [==============================] - 0s 14ms/step - loss: 0.6207 - accuracy: 0.7781 - val_loss: 1.9424 - val_accuracy: 0.3051\n",
            "Epoch 30/30\n",
            "17/17 [==============================] - 0s 14ms/step - loss: 0.6060 - accuracy: 0.7820 - val_loss: 1.6639 - val_accuracy: 0.5254\n",
            "4\n",
            "Model: \"model_10\"\n",
            "_________________________________________________________________\n",
            "Layer (type)                 Output Shape              Param #   \n",
            "=================================================================\n",
            "input_11 (InputLayer)        [(None, 48, 1)]           0         \n",
            "_________________________________________________________________\n",
            "conv1d_26 (Conv1D)           (None, 46, 64)            256       \n",
            "_________________________________________________________________\n",
            "conv1d_27 (Conv1D)           (None, 44, 64)            12352     \n",
            "_________________________________________________________________\n",
            "conv1d_28 (Conv1D)           (None, 42, 128)           24704     \n",
            "_________________________________________________________________\n",
            "dropout_17 (Dropout)         (None, 42, 128)           0         \n",
            "_________________________________________________________________\n",
            "max_pooling1d_12 (MaxPooling (None, 21, 128)           0         \n",
            "_________________________________________________________________\n",
            "lstm_6 (LSTM)                (None, 21, 200)           263200    \n",
            "_________________________________________________________________\n",
            "lstm_7 (LSTM)                (None, 21, 200)           320800    \n",
            "_________________________________________________________________\n",
            "lstm_8 (LSTM)                (None, 200)               320800    \n",
            "_________________________________________________________________\n",
            "dropout_18 (Dropout)         (None, 200)               0         \n",
            "_________________________________________________________________\n",
            "dense_20 (Dense)             (None, 200)               40200     \n",
            "_________________________________________________________________\n",
            "dense_21 (Dense)             (None, 5)                 1005      \n",
            "=================================================================\n",
            "Total params: 983,317\n",
            "Trainable params: 983,317\n",
            "Non-trainable params: 0\n",
            "_________________________________________________________________\n",
            "None\n",
            "Epoch 1/30\n",
            "17/17 [==============================] - 6s 88ms/step - loss: 0.6037 - accuracy: 0.8127 - val_loss: 2.0136 - val_accuracy: 0.2069\n",
            "Epoch 2/30\n",
            "17/17 [==============================] - 0s 15ms/step - loss: 0.5353 - accuracy: 0.8087 - val_loss: 1.9090 - val_accuracy: 0.2414\n",
            "Epoch 3/30\n",
            "17/17 [==============================] - 0s 15ms/step - loss: 0.5198 - accuracy: 0.8136 - val_loss: 1.4679 - val_accuracy: 0.3276\n",
            "Epoch 4/30\n",
            "17/17 [==============================] - 0s 16ms/step - loss: 0.4496 - accuracy: 0.8466 - val_loss: 2.0135 - val_accuracy: 0.3103\n",
            "Epoch 5/30\n",
            "17/17 [==============================] - 0s 14ms/step - loss: 0.4608 - accuracy: 0.8378 - val_loss: 2.0407 - val_accuracy: 0.2759\n",
            "Epoch 6/30\n",
            "17/17 [==============================] - 0s 14ms/step - loss: 0.3775 - accuracy: 0.8547 - val_loss: 2.4747 - val_accuracy: 0.3103\n",
            "Epoch 7/30\n",
            "17/17 [==============================] - 0s 14ms/step - loss: 0.4975 - accuracy: 0.8417 - val_loss: 2.6565 - val_accuracy: 0.2241\n",
            "Epoch 8/30\n",
            "17/17 [==============================] - 0s 15ms/step - loss: 0.4304 - accuracy: 0.8507 - val_loss: 1.5089 - val_accuracy: 0.2759\n",
            "Epoch 9/30\n",
            "17/17 [==============================] - 0s 14ms/step - loss: 0.3820 - accuracy: 0.8621 - val_loss: 1.7651 - val_accuracy: 0.2931\n",
            "Epoch 10/30\n",
            "17/17 [==============================] - 0s 14ms/step - loss: 0.3613 - accuracy: 0.8823 - val_loss: 2.7441 - val_accuracy: 0.2241\n",
            "Epoch 11/30\n",
            "17/17 [==============================] - 0s 16ms/step - loss: 0.3871 - accuracy: 0.8500 - val_loss: 2.6380 - val_accuracy: 0.3276\n",
            "Epoch 12/30\n",
            "17/17 [==============================] - 0s 15ms/step - loss: 0.3960 - accuracy: 0.8708 - val_loss: 2.0428 - val_accuracy: 0.2586\n",
            "Epoch 13/30\n",
            "17/17 [==============================] - 0s 15ms/step - loss: 0.3808 - accuracy: 0.8728 - val_loss: 2.9953 - val_accuracy: 0.2759\n",
            "Epoch 14/30\n",
            "17/17 [==============================] - 0s 15ms/step - loss: 0.3860 - accuracy: 0.8688 - val_loss: 2.0482 - val_accuracy: 0.2759\n",
            "Epoch 15/30\n",
            "17/17 [==============================] - 0s 15ms/step - loss: 0.3882 - accuracy: 0.8707 - val_loss: 2.4495 - val_accuracy: 0.2414\n",
            "Epoch 16/30\n",
            "17/17 [==============================] - 0s 15ms/step - loss: 0.3372 - accuracy: 0.8834 - val_loss: 2.0242 - val_accuracy: 0.3793\n",
            "Epoch 17/30\n",
            "17/17 [==============================] - 0s 14ms/step - loss: 0.3490 - accuracy: 0.8789 - val_loss: 3.2508 - val_accuracy: 0.2069\n",
            "Epoch 18/30\n",
            "17/17 [==============================] - 0s 14ms/step - loss: 0.4402 - accuracy: 0.8569 - val_loss: 3.2141 - val_accuracy: 0.0862\n",
            "Epoch 19/30\n",
            "17/17 [==============================] - 0s 15ms/step - loss: 0.3518 - accuracy: 0.8785 - val_loss: 1.6803 - val_accuracy: 0.3793\n",
            "Epoch 20/30\n",
            "17/17 [==============================] - 0s 15ms/step - loss: 0.2951 - accuracy: 0.9041 - val_loss: 2.7803 - val_accuracy: 0.1897\n",
            "Epoch 21/30\n",
            "17/17 [==============================] - 0s 14ms/step - loss: 0.2903 - accuracy: 0.8961 - val_loss: 2.6746 - val_accuracy: 0.2586\n",
            "Epoch 22/30\n",
            "17/17 [==============================] - 0s 14ms/step - loss: 0.4652 - accuracy: 0.8477 - val_loss: 2.7181 - val_accuracy: 0.2069\n",
            "Epoch 23/30\n",
            "17/17 [==============================] - 0s 15ms/step - loss: 0.4715 - accuracy: 0.8407 - val_loss: 2.8558 - val_accuracy: 0.1897\n",
            "Epoch 24/30\n",
            "17/17 [==============================] - 0s 15ms/step - loss: 0.3603 - accuracy: 0.8744 - val_loss: 2.1642 - val_accuracy: 0.3621\n",
            "Epoch 25/30\n",
            "17/17 [==============================] - 0s 14ms/step - loss: 0.2882 - accuracy: 0.8980 - val_loss: 3.1504 - val_accuracy: 0.2241\n",
            "Epoch 26/30\n",
            "17/17 [==============================] - 0s 14ms/step - loss: 0.2744 - accuracy: 0.8837 - val_loss: 3.5684 - val_accuracy: 0.1897\n",
            "Epoch 27/30\n",
            "17/17 [==============================] - 0s 14ms/step - loss: 0.2166 - accuracy: 0.9197 - val_loss: 4.5219 - val_accuracy: 0.2241\n",
            "Epoch 28/30\n",
            "17/17 [==============================] - 0s 16ms/step - loss: 0.2224 - accuracy: 0.9350 - val_loss: 3.0570 - val_accuracy: 0.2414\n",
            "Epoch 29/30\n",
            "17/17 [==============================] - 0s 15ms/step - loss: 0.2905 - accuracy: 0.8928 - val_loss: 2.2255 - val_accuracy: 0.2759\n",
            "Epoch 30/30\n",
            "17/17 [==============================] - 0s 15ms/step - loss: 0.3621 - accuracy: 0.8603 - val_loss: 3.2712 - val_accuracy: 0.1724\n",
            "5\n",
            "Model: \"model_10\"\n",
            "_________________________________________________________________\n",
            "Layer (type)                 Output Shape              Param #   \n",
            "=================================================================\n",
            "input_11 (InputLayer)        [(None, 48, 1)]           0         \n",
            "_________________________________________________________________\n",
            "conv1d_26 (Conv1D)           (None, 46, 64)            256       \n",
            "_________________________________________________________________\n",
            "conv1d_27 (Conv1D)           (None, 44, 64)            12352     \n",
            "_________________________________________________________________\n",
            "conv1d_28 (Conv1D)           (None, 42, 128)           24704     \n",
            "_________________________________________________________________\n",
            "dropout_17 (Dropout)         (None, 42, 128)           0         \n",
            "_________________________________________________________________\n",
            "max_pooling1d_12 (MaxPooling (None, 21, 128)           0         \n",
            "_________________________________________________________________\n",
            "lstm_6 (LSTM)                (None, 21, 200)           263200    \n",
            "_________________________________________________________________\n",
            "lstm_7 (LSTM)                (None, 21, 200)           320800    \n",
            "_________________________________________________________________\n",
            "lstm_8 (LSTM)                (None, 200)               320800    \n",
            "_________________________________________________________________\n",
            "dropout_18 (Dropout)         (None, 200)               0         \n",
            "_________________________________________________________________\n",
            "dense_20 (Dense)             (None, 200)               40200     \n",
            "_________________________________________________________________\n",
            "dense_21 (Dense)             (None, 5)                 1005      \n",
            "=================================================================\n",
            "Total params: 983,317\n",
            "Trainable params: 983,317\n",
            "Non-trainable params: 0\n",
            "_________________________________________________________________\n",
            "None\n",
            "Epoch 1/30\n",
            "17/17 [==============================] - 6s 88ms/step - loss: 0.5509 - accuracy: 0.8233 - val_loss: 0.7988 - val_accuracy: 0.6552\n",
            "Epoch 2/30\n",
            "17/17 [==============================] - 0s 15ms/step - loss: 0.4878 - accuracy: 0.8159 - val_loss: 0.8084 - val_accuracy: 0.6207\n",
            "Epoch 3/30\n",
            "17/17 [==============================] - 0s 14ms/step - loss: 0.5014 - accuracy: 0.8247 - val_loss: 0.8169 - val_accuracy: 0.5862\n",
            "Epoch 4/30\n",
            "17/17 [==============================] - 0s 15ms/step - loss: 0.3894 - accuracy: 0.8506 - val_loss: 0.7378 - val_accuracy: 0.6552\n",
            "Epoch 5/30\n",
            "17/17 [==============================] - 0s 14ms/step - loss: 0.3653 - accuracy: 0.8913 - val_loss: 0.7774 - val_accuracy: 0.6724\n",
            "Epoch 6/30\n",
            "17/17 [==============================] - 0s 15ms/step - loss: 0.4144 - accuracy: 0.8325 - val_loss: 0.7508 - val_accuracy: 0.6034\n",
            "Epoch 7/30\n",
            "17/17 [==============================] - 0s 15ms/step - loss: 0.3178 - accuracy: 0.8836 - val_loss: 0.7868 - val_accuracy: 0.6034\n",
            "Epoch 8/30\n",
            "17/17 [==============================] - 0s 15ms/step - loss: 0.3348 - accuracy: 0.8731 - val_loss: 0.7664 - val_accuracy: 0.6207\n",
            "Epoch 9/30\n",
            "17/17 [==============================] - 0s 14ms/step - loss: 0.3464 - accuracy: 0.8576 - val_loss: 0.8164 - val_accuracy: 0.6724\n",
            "Epoch 10/30\n",
            "17/17 [==============================] - 0s 15ms/step - loss: 0.2811 - accuracy: 0.8994 - val_loss: 1.0587 - val_accuracy: 0.6034\n",
            "Epoch 11/30\n",
            "17/17 [==============================] - 0s 15ms/step - loss: 0.3130 - accuracy: 0.8757 - val_loss: 0.9107 - val_accuracy: 0.6724\n",
            "Epoch 12/30\n",
            "17/17 [==============================] - 0s 15ms/step - loss: 0.2589 - accuracy: 0.8918 - val_loss: 0.9586 - val_accuracy: 0.6207\n",
            "Epoch 13/30\n",
            "17/17 [==============================] - 0s 14ms/step - loss: 0.4535 - accuracy: 0.8301 - val_loss: 1.3130 - val_accuracy: 0.6207\n",
            "Epoch 14/30\n",
            "17/17 [==============================] - 0s 15ms/step - loss: 0.4512 - accuracy: 0.8493 - val_loss: 1.2738 - val_accuracy: 0.5690\n",
            "Epoch 15/30\n",
            "17/17 [==============================] - 0s 15ms/step - loss: 0.3997 - accuracy: 0.8511 - val_loss: 0.9396 - val_accuracy: 0.6034\n",
            "Epoch 16/30\n",
            "17/17 [==============================] - 0s 15ms/step - loss: 0.3466 - accuracy: 0.8696 - val_loss: 0.9470 - val_accuracy: 0.6034\n",
            "Epoch 17/30\n",
            "17/17 [==============================] - 0s 14ms/step - loss: 0.3126 - accuracy: 0.8686 - val_loss: 1.3294 - val_accuracy: 0.5862\n",
            "Epoch 18/30\n",
            "17/17 [==============================] - 0s 15ms/step - loss: 0.3297 - accuracy: 0.8713 - val_loss: 1.2151 - val_accuracy: 0.6034\n",
            "Epoch 19/30\n",
            "17/17 [==============================] - 0s 15ms/step - loss: 0.2798 - accuracy: 0.8852 - val_loss: 0.8872 - val_accuracy: 0.6379\n",
            "Epoch 20/30\n",
            "17/17 [==============================] - 0s 15ms/step - loss: 0.2242 - accuracy: 0.9320 - val_loss: 1.0885 - val_accuracy: 0.6207\n",
            "Epoch 21/30\n",
            "17/17 [==============================] - 0s 14ms/step - loss: 0.3036 - accuracy: 0.8842 - val_loss: 1.0592 - val_accuracy: 0.6207\n",
            "Epoch 22/30\n",
            "17/17 [==============================] - 0s 15ms/step - loss: 0.2460 - accuracy: 0.8896 - val_loss: 1.0340 - val_accuracy: 0.6552\n",
            "Epoch 23/30\n",
            "17/17 [==============================] - 0s 14ms/step - loss: 0.2061 - accuracy: 0.9223 - val_loss: 1.1244 - val_accuracy: 0.6552\n",
            "Epoch 24/30\n",
            "17/17 [==============================] - 0s 15ms/step - loss: 0.2456 - accuracy: 0.9181 - val_loss: 1.4330 - val_accuracy: 0.6207\n",
            "Epoch 25/30\n",
            "17/17 [==============================] - 0s 14ms/step - loss: 0.1723 - accuracy: 0.9326 - val_loss: 1.1069 - val_accuracy: 0.6379\n",
            "Epoch 26/30\n",
            "17/17 [==============================] - 0s 15ms/step - loss: 0.2122 - accuracy: 0.9190 - val_loss: 1.2375 - val_accuracy: 0.5172\n",
            "Epoch 27/30\n",
            "17/17 [==============================] - 0s 15ms/step - loss: 0.1915 - accuracy: 0.9307 - val_loss: 1.2842 - val_accuracy: 0.6034\n",
            "Epoch 28/30\n",
            "17/17 [==============================] - 0s 15ms/step - loss: 0.2874 - accuracy: 0.9059 - val_loss: 1.6854 - val_accuracy: 0.5862\n",
            "Epoch 29/30\n",
            "17/17 [==============================] - 0s 14ms/step - loss: 0.1939 - accuracy: 0.9335 - val_loss: 1.0281 - val_accuracy: 0.6552\n",
            "Epoch 30/30\n",
            "17/17 [==============================] - 0s 16ms/step - loss: 0.2324 - accuracy: 0.9169 - val_loss: 1.0853 - val_accuracy: 0.7069\n",
            "6\n",
            "Model: \"model_10\"\n",
            "_________________________________________________________________\n",
            "Layer (type)                 Output Shape              Param #   \n",
            "=================================================================\n",
            "input_11 (InputLayer)        [(None, 48, 1)]           0         \n",
            "_________________________________________________________________\n",
            "conv1d_26 (Conv1D)           (None, 46, 64)            256       \n",
            "_________________________________________________________________\n",
            "conv1d_27 (Conv1D)           (None, 44, 64)            12352     \n",
            "_________________________________________________________________\n",
            "conv1d_28 (Conv1D)           (None, 42, 128)           24704     \n",
            "_________________________________________________________________\n",
            "dropout_17 (Dropout)         (None, 42, 128)           0         \n",
            "_________________________________________________________________\n",
            "max_pooling1d_12 (MaxPooling (None, 21, 128)           0         \n",
            "_________________________________________________________________\n",
            "lstm_6 (LSTM)                (None, 21, 200)           263200    \n",
            "_________________________________________________________________\n",
            "lstm_7 (LSTM)                (None, 21, 200)           320800    \n",
            "_________________________________________________________________\n",
            "lstm_8 (LSTM)                (None, 200)               320800    \n",
            "_________________________________________________________________\n",
            "dropout_18 (Dropout)         (None, 200)               0         \n",
            "_________________________________________________________________\n",
            "dense_20 (Dense)             (None, 200)               40200     \n",
            "_________________________________________________________________\n",
            "dense_21 (Dense)             (None, 5)                 1005      \n",
            "=================================================================\n",
            "Total params: 983,317\n",
            "Trainable params: 983,317\n",
            "Non-trainable params: 0\n",
            "_________________________________________________________________\n",
            "None\n",
            "Epoch 1/30\n",
            "17/17 [==============================] - 6s 86ms/step - loss: 0.3246 - accuracy: 0.8830 - val_loss: 0.1832 - val_accuracy: 0.9483\n",
            "Epoch 2/30\n",
            "17/17 [==============================] - 0s 15ms/step - loss: 0.3081 - accuracy: 0.8775 - val_loss: 0.1821 - val_accuracy: 0.9483\n",
            "Epoch 3/30\n",
            "17/17 [==============================] - 0s 15ms/step - loss: 0.1907 - accuracy: 0.9219 - val_loss: 0.2183 - val_accuracy: 0.9138\n",
            "Epoch 4/30\n",
            "17/17 [==============================] - 0s 15ms/step - loss: 0.1732 - accuracy: 0.9331 - val_loss: 0.3163 - val_accuracy: 0.8966\n",
            "Epoch 5/30\n",
            "17/17 [==============================] - 0s 15ms/step - loss: 0.1746 - accuracy: 0.9385 - val_loss: 0.7328 - val_accuracy: 0.6724\n",
            "Epoch 6/30\n",
            "17/17 [==============================] - 0s 15ms/step - loss: 0.2657 - accuracy: 0.8779 - val_loss: 0.3170 - val_accuracy: 0.8621\n",
            "Epoch 7/30\n",
            "17/17 [==============================] - 0s 16ms/step - loss: 0.2063 - accuracy: 0.9377 - val_loss: 0.2513 - val_accuracy: 0.8966\n",
            "Epoch 8/30\n",
            "17/17 [==============================] - 0s 15ms/step - loss: 0.2048 - accuracy: 0.9237 - val_loss: 0.2338 - val_accuracy: 0.9138\n",
            "Epoch 9/30\n",
            "17/17 [==============================] - 0s 15ms/step - loss: 0.1609 - accuracy: 0.9535 - val_loss: 0.2252 - val_accuracy: 0.9310\n",
            "Epoch 10/30\n",
            "17/17 [==============================] - 0s 15ms/step - loss: 0.1655 - accuracy: 0.9395 - val_loss: 0.2086 - val_accuracy: 0.9310\n",
            "Epoch 11/30\n",
            "17/17 [==============================] - 0s 15ms/step - loss: 0.1317 - accuracy: 0.9464 - val_loss: 0.4920 - val_accuracy: 0.8103\n",
            "Epoch 12/30\n",
            "17/17 [==============================] - 0s 14ms/step - loss: 0.1460 - accuracy: 0.9521 - val_loss: 0.1092 - val_accuracy: 0.9483\n",
            "Epoch 13/30\n",
            "17/17 [==============================] - 0s 15ms/step - loss: 0.2285 - accuracy: 0.9181 - val_loss: 0.2932 - val_accuracy: 0.9138\n",
            "Epoch 14/30\n",
            "17/17 [==============================] - 0s 14ms/step - loss: 0.2158 - accuracy: 0.9228 - val_loss: 0.5634 - val_accuracy: 0.7414\n",
            "Epoch 15/30\n",
            "17/17 [==============================] - 0s 15ms/step - loss: 0.1675 - accuracy: 0.9372 - val_loss: 0.6072 - val_accuracy: 0.7414\n",
            "Epoch 16/30\n",
            "17/17 [==============================] - 0s 15ms/step - loss: 0.1775 - accuracy: 0.9322 - val_loss: 0.5954 - val_accuracy: 0.8103\n",
            "Epoch 17/30\n",
            "17/17 [==============================] - 0s 15ms/step - loss: 0.2828 - accuracy: 0.9024 - val_loss: 0.1527 - val_accuracy: 0.9483\n",
            "Epoch 18/30\n",
            "17/17 [==============================] - 0s 14ms/step - loss: 0.2110 - accuracy: 0.9345 - val_loss: 0.2138 - val_accuracy: 0.8793\n",
            "Epoch 19/30\n",
            "17/17 [==============================] - 0s 14ms/step - loss: 0.1904 - accuracy: 0.9299 - val_loss: 0.5438 - val_accuracy: 0.7241\n",
            "Epoch 20/30\n",
            "17/17 [==============================] - 0s 16ms/step - loss: 0.1928 - accuracy: 0.9174 - val_loss: 0.3487 - val_accuracy: 0.8966\n",
            "Epoch 21/30\n",
            "17/17 [==============================] - 0s 15ms/step - loss: 0.1998 - accuracy: 0.9296 - val_loss: 0.1085 - val_accuracy: 0.9828\n",
            "Epoch 22/30\n",
            "17/17 [==============================] - 0s 14ms/step - loss: 0.2067 - accuracy: 0.9230 - val_loss: 0.1378 - val_accuracy: 0.9483\n",
            "Epoch 23/30\n",
            "17/17 [==============================] - 0s 15ms/step - loss: 0.2015 - accuracy: 0.9228 - val_loss: 0.2294 - val_accuracy: 0.9655\n",
            "Epoch 24/30\n",
            "17/17 [==============================] - 0s 16ms/step - loss: 0.1535 - accuracy: 0.9412 - val_loss: 0.2590 - val_accuracy: 0.9310\n",
            "Epoch 25/30\n",
            "17/17 [==============================] - 0s 15ms/step - loss: 0.0871 - accuracy: 0.9690 - val_loss: 0.3691 - val_accuracy: 0.8621\n",
            "Epoch 26/30\n",
            "17/17 [==============================] - 0s 15ms/step - loss: 0.1590 - accuracy: 0.9250 - val_loss: 0.4944 - val_accuracy: 0.8103\n",
            "Epoch 27/30\n",
            "17/17 [==============================] - 0s 14ms/step - loss: 0.1784 - accuracy: 0.9428 - val_loss: 0.2239 - val_accuracy: 0.9310\n",
            "Epoch 28/30\n",
            "17/17 [==============================] - 0s 14ms/step - loss: 0.1345 - accuracy: 0.9548 - val_loss: 0.1920 - val_accuracy: 0.9138\n",
            "Epoch 29/30\n",
            "17/17 [==============================] - 0s 14ms/step - loss: 0.0704 - accuracy: 0.9778 - val_loss: 0.3926 - val_accuracy: 0.8448\n",
            "Epoch 30/30\n",
            "17/17 [==============================] - 0s 15ms/step - loss: 0.0937 - accuracy: 0.9752 - val_loss: 0.1977 - val_accuracy: 0.8793\n",
            "7\n",
            "Model: \"model_10\"\n",
            "_________________________________________________________________\n",
            "Layer (type)                 Output Shape              Param #   \n",
            "=================================================================\n",
            "input_11 (InputLayer)        [(None, 48, 1)]           0         \n",
            "_________________________________________________________________\n",
            "conv1d_26 (Conv1D)           (None, 46, 64)            256       \n",
            "_________________________________________________________________\n",
            "conv1d_27 (Conv1D)           (None, 44, 64)            12352     \n",
            "_________________________________________________________________\n",
            "conv1d_28 (Conv1D)           (None, 42, 128)           24704     \n",
            "_________________________________________________________________\n",
            "dropout_17 (Dropout)         (None, 42, 128)           0         \n",
            "_________________________________________________________________\n",
            "max_pooling1d_12 (MaxPooling (None, 21, 128)           0         \n",
            "_________________________________________________________________\n",
            "lstm_6 (LSTM)                (None, 21, 200)           263200    \n",
            "_________________________________________________________________\n",
            "lstm_7 (LSTM)                (None, 21, 200)           320800    \n",
            "_________________________________________________________________\n",
            "lstm_8 (LSTM)                (None, 200)               320800    \n",
            "_________________________________________________________________\n",
            "dropout_18 (Dropout)         (None, 200)               0         \n",
            "_________________________________________________________________\n",
            "dense_20 (Dense)             (None, 200)               40200     \n",
            "_________________________________________________________________\n",
            "dense_21 (Dense)             (None, 5)                 1005      \n",
            "=================================================================\n",
            "Total params: 983,317\n",
            "Trainable params: 983,317\n",
            "Non-trainable params: 0\n",
            "_________________________________________________________________\n",
            "None\n",
            "Epoch 1/30\n",
            "17/17 [==============================] - 6s 88ms/step - loss: 0.1782 - accuracy: 0.9405 - val_loss: 0.0543 - val_accuracy: 0.9828\n",
            "Epoch 2/30\n",
            "17/17 [==============================] - 0s 14ms/step - loss: 0.1637 - accuracy: 0.9301 - val_loss: 0.1141 - val_accuracy: 0.9655\n",
            "Epoch 3/30\n",
            "17/17 [==============================] - 0s 15ms/step - loss: 0.1526 - accuracy: 0.9440 - val_loss: 0.0479 - val_accuracy: 0.9655\n",
            "Epoch 4/30\n",
            "17/17 [==============================] - 0s 15ms/step - loss: 0.0998 - accuracy: 0.9722 - val_loss: 0.0043 - val_accuracy: 1.0000\n",
            "Epoch 5/30\n",
            "17/17 [==============================] - 0s 14ms/step - loss: 0.1148 - accuracy: 0.9547 - val_loss: 0.0748 - val_accuracy: 0.9655\n",
            "Epoch 6/30\n",
            "17/17 [==============================] - 0s 14ms/step - loss: 0.1083 - accuracy: 0.9617 - val_loss: 0.0985 - val_accuracy: 0.9828\n",
            "Epoch 7/30\n",
            "17/17 [==============================] - 0s 15ms/step - loss: 0.1210 - accuracy: 0.9492 - val_loss: 0.1150 - val_accuracy: 0.9138\n",
            "Epoch 8/30\n",
            "17/17 [==============================] - 0s 15ms/step - loss: 0.1440 - accuracy: 0.9416 - val_loss: 0.0842 - val_accuracy: 0.9655\n",
            "Epoch 9/30\n",
            "17/17 [==============================] - 0s 15ms/step - loss: 0.1507 - accuracy: 0.9474 - val_loss: 0.0097 - val_accuracy: 1.0000\n",
            "Epoch 10/30\n",
            "17/17 [==============================] - 0s 15ms/step - loss: 0.1105 - accuracy: 0.9676 - val_loss: 0.0913 - val_accuracy: 0.9483\n",
            "Epoch 11/30\n",
            "17/17 [==============================] - 0s 15ms/step - loss: 0.1520 - accuracy: 0.9593 - val_loss: 0.1587 - val_accuracy: 0.9310\n",
            "Epoch 12/30\n",
            "17/17 [==============================] - 0s 14ms/step - loss: 0.2675 - accuracy: 0.9197 - val_loss: 0.0264 - val_accuracy: 1.0000\n",
            "Epoch 13/30\n",
            "17/17 [==============================] - 0s 15ms/step - loss: 0.1112 - accuracy: 0.9693 - val_loss: 0.1341 - val_accuracy: 0.9310\n",
            "Epoch 14/30\n",
            "17/17 [==============================] - 0s 15ms/step - loss: 0.0895 - accuracy: 0.9582 - val_loss: 0.0898 - val_accuracy: 0.9483\n",
            "Epoch 15/30\n",
            "17/17 [==============================] - 0s 15ms/step - loss: 0.0887 - accuracy: 0.9722 - val_loss: 0.0685 - val_accuracy: 0.9655\n",
            "Epoch 16/30\n",
            "17/17 [==============================] - 0s 15ms/step - loss: 0.0922 - accuracy: 0.9686 - val_loss: 0.1842 - val_accuracy: 0.9310\n",
            "Epoch 17/30\n",
            "17/17 [==============================] - 0s 15ms/step - loss: 0.1100 - accuracy: 0.9638 - val_loss: 0.2844 - val_accuracy: 0.8621\n",
            "Epoch 18/30\n",
            "17/17 [==============================] - 0s 15ms/step - loss: 0.1312 - accuracy: 0.9613 - val_loss: 0.1058 - val_accuracy: 0.9310\n",
            "Epoch 19/30\n",
            "17/17 [==============================] - 0s 16ms/step - loss: 0.0836 - accuracy: 0.9748 - val_loss: 0.3854 - val_accuracy: 0.8793\n",
            "Epoch 20/30\n",
            "17/17 [==============================] - 0s 15ms/step - loss: 0.0660 - accuracy: 0.9828 - val_loss: 0.5221 - val_accuracy: 0.8448\n",
            "Epoch 21/30\n",
            "17/17 [==============================] - 0s 15ms/step - loss: 0.2125 - accuracy: 0.9271 - val_loss: 0.1149 - val_accuracy: 0.9655\n",
            "Epoch 22/30\n",
            "17/17 [==============================] - 0s 15ms/step - loss: 0.1729 - accuracy: 0.9419 - val_loss: 0.2360 - val_accuracy: 0.9483\n",
            "Epoch 23/30\n",
            "17/17 [==============================] - 0s 15ms/step - loss: 0.1353 - accuracy: 0.9592 - val_loss: 0.0736 - val_accuracy: 0.9655\n",
            "Epoch 24/30\n",
            "17/17 [==============================] - 0s 15ms/step - loss: 0.1005 - accuracy: 0.9620 - val_loss: 0.0744 - val_accuracy: 0.9828\n",
            "Epoch 25/30\n",
            "17/17 [==============================] - 0s 15ms/step - loss: 0.0772 - accuracy: 0.9687 - val_loss: 0.2697 - val_accuracy: 0.8966\n",
            "Epoch 26/30\n",
            "17/17 [==============================] - 0s 15ms/step - loss: 0.1187 - accuracy: 0.9653 - val_loss: 0.1847 - val_accuracy: 0.9483\n",
            "Epoch 27/30\n",
            "17/17 [==============================] - 0s 15ms/step - loss: 0.0793 - accuracy: 0.9773 - val_loss: 0.3554 - val_accuracy: 0.8966\n",
            "Epoch 28/30\n",
            "17/17 [==============================] - 0s 15ms/step - loss: 0.1023 - accuracy: 0.9673 - val_loss: 0.2096 - val_accuracy: 0.9310\n",
            "Epoch 29/30\n",
            "17/17 [==============================] - 0s 15ms/step - loss: 0.0567 - accuracy: 0.9885 - val_loss: 0.3034 - val_accuracy: 0.8966\n",
            "Epoch 30/30\n",
            "17/17 [==============================] - 0s 16ms/step - loss: 0.0459 - accuracy: 0.9819 - val_loss: 0.3451 - val_accuracy: 0.9138\n",
            "8\n",
            "Model: \"model_10\"\n",
            "_________________________________________________________________\n",
            "Layer (type)                 Output Shape              Param #   \n",
            "=================================================================\n",
            "input_11 (InputLayer)        [(None, 48, 1)]           0         \n",
            "_________________________________________________________________\n",
            "conv1d_26 (Conv1D)           (None, 46, 64)            256       \n",
            "_________________________________________________________________\n",
            "conv1d_27 (Conv1D)           (None, 44, 64)            12352     \n",
            "_________________________________________________________________\n",
            "conv1d_28 (Conv1D)           (None, 42, 128)           24704     \n",
            "_________________________________________________________________\n",
            "dropout_17 (Dropout)         (None, 42, 128)           0         \n",
            "_________________________________________________________________\n",
            "max_pooling1d_12 (MaxPooling (None, 21, 128)           0         \n",
            "_________________________________________________________________\n",
            "lstm_6 (LSTM)                (None, 21, 200)           263200    \n",
            "_________________________________________________________________\n",
            "lstm_7 (LSTM)                (None, 21, 200)           320800    \n",
            "_________________________________________________________________\n",
            "lstm_8 (LSTM)                (None, 200)               320800    \n",
            "_________________________________________________________________\n",
            "dropout_18 (Dropout)         (None, 200)               0         \n",
            "_________________________________________________________________\n",
            "dense_20 (Dense)             (None, 200)               40200     \n",
            "_________________________________________________________________\n",
            "dense_21 (Dense)             (None, 5)                 1005      \n",
            "=================================================================\n",
            "Total params: 983,317\n",
            "Trainable params: 983,317\n",
            "Non-trainable params: 0\n",
            "_________________________________________________________________\n",
            "None\n",
            "Epoch 1/30\n",
            "17/17 [==============================] - 6s 86ms/step - loss: 0.1433 - accuracy: 0.9578 - val_loss: 0.0489 - val_accuracy: 0.9828\n",
            "Epoch 2/30\n",
            "17/17 [==============================] - 0s 15ms/step - loss: 0.1120 - accuracy: 0.9613 - val_loss: 0.0102 - val_accuracy: 1.0000\n",
            "Epoch 3/30\n",
            "17/17 [==============================] - 0s 15ms/step - loss: 0.0828 - accuracy: 0.9725 - val_loss: 0.0469 - val_accuracy: 0.9828\n",
            "Epoch 4/30\n",
            "17/17 [==============================] - 0s 15ms/step - loss: 0.0812 - accuracy: 0.9774 - val_loss: 0.0305 - val_accuracy: 0.9828\n",
            "Epoch 5/30\n",
            "17/17 [==============================] - 0s 15ms/step - loss: 0.0721 - accuracy: 0.9755 - val_loss: 0.0588 - val_accuracy: 0.9655\n",
            "Epoch 6/30\n",
            "17/17 [==============================] - 0s 15ms/step - loss: 0.0758 - accuracy: 0.9672 - val_loss: 0.0492 - val_accuracy: 0.9828\n",
            "Epoch 7/30\n",
            "17/17 [==============================] - 0s 14ms/step - loss: 0.0852 - accuracy: 0.9716 - val_loss: 0.0826 - val_accuracy: 0.9655\n",
            "Epoch 8/30\n",
            "17/17 [==============================] - 0s 15ms/step - loss: 0.1100 - accuracy: 0.9707 - val_loss: 0.1072 - val_accuracy: 0.9655\n",
            "Epoch 9/30\n",
            "17/17 [==============================] - 0s 16ms/step - loss: 0.0430 - accuracy: 0.9844 - val_loss: 0.3442 - val_accuracy: 0.8966\n",
            "Epoch 10/30\n",
            "17/17 [==============================] - 0s 16ms/step - loss: 0.0664 - accuracy: 0.9706 - val_loss: 0.2755 - val_accuracy: 0.8793\n",
            "Epoch 11/30\n",
            "17/17 [==============================] - 0s 16ms/step - loss: 0.1211 - accuracy: 0.9498 - val_loss: 0.0343 - val_accuracy: 1.0000\n",
            "Epoch 12/30\n",
            "17/17 [==============================] - 0s 15ms/step - loss: 0.0879 - accuracy: 0.9668 - val_loss: 0.1997 - val_accuracy: 0.9138\n",
            "Epoch 13/30\n",
            "17/17 [==============================] - 0s 16ms/step - loss: 0.0840 - accuracy: 0.9803 - val_loss: 0.1769 - val_accuracy: 0.9483\n",
            "Epoch 14/30\n",
            "17/17 [==============================] - 0s 15ms/step - loss: 0.0820 - accuracy: 0.9788 - val_loss: 0.1764 - val_accuracy: 0.9138\n",
            "Epoch 15/30\n",
            "17/17 [==============================] - 0s 15ms/step - loss: 0.0873 - accuracy: 0.9666 - val_loss: 0.0675 - val_accuracy: 0.9828\n",
            "Epoch 16/30\n",
            "17/17 [==============================] - 0s 14ms/step - loss: 0.1086 - accuracy: 0.9833 - val_loss: 0.1390 - val_accuracy: 0.9483\n",
            "Epoch 17/30\n",
            "17/17 [==============================] - 0s 16ms/step - loss: 0.0827 - accuracy: 0.9733 - val_loss: 0.2420 - val_accuracy: 0.9138\n",
            "Epoch 18/30\n",
            "17/17 [==============================] - 0s 15ms/step - loss: 0.0802 - accuracy: 0.9769 - val_loss: 0.0889 - val_accuracy: 0.9483\n",
            "Epoch 19/30\n",
            "17/17 [==============================] - 0s 15ms/step - loss: 0.0712 - accuracy: 0.9688 - val_loss: 0.1748 - val_accuracy: 0.9138\n",
            "Epoch 20/30\n",
            "17/17 [==============================] - 0s 16ms/step - loss: 0.0454 - accuracy: 0.9880 - val_loss: 0.2261 - val_accuracy: 0.8966\n",
            "Epoch 21/30\n",
            "17/17 [==============================] - 0s 16ms/step - loss: 0.0448 - accuracy: 0.9891 - val_loss: 0.3013 - val_accuracy: 0.8966\n",
            "Epoch 22/30\n",
            "17/17 [==============================] - 0s 15ms/step - loss: 0.0496 - accuracy: 0.9780 - val_loss: 0.5789 - val_accuracy: 0.8276\n",
            "Epoch 23/30\n",
            "17/17 [==============================] - 0s 14ms/step - loss: 0.1636 - accuracy: 0.9573 - val_loss: 0.2428 - val_accuracy: 0.8966\n",
            "Epoch 24/30\n",
            "17/17 [==============================] - 0s 15ms/step - loss: 0.1156 - accuracy: 0.9631 - val_loss: 0.1765 - val_accuracy: 0.9138\n",
            "Epoch 25/30\n",
            "17/17 [==============================] - 0s 15ms/step - loss: 0.0549 - accuracy: 0.9878 - val_loss: 0.2670 - val_accuracy: 0.8966\n",
            "Epoch 26/30\n",
            "17/17 [==============================] - 0s 15ms/step - loss: 0.0423 - accuracy: 0.9885 - val_loss: 0.1506 - val_accuracy: 0.9655\n",
            "Epoch 27/30\n",
            "17/17 [==============================] - 0s 15ms/step - loss: 0.0509 - accuracy: 0.9889 - val_loss: 0.4603 - val_accuracy: 0.8793\n",
            "Epoch 28/30\n",
            "17/17 [==============================] - 0s 14ms/step - loss: 0.1197 - accuracy: 0.9684 - val_loss: 0.1850 - val_accuracy: 0.9138\n",
            "Epoch 29/30\n",
            "17/17 [==============================] - 0s 15ms/step - loss: 0.1297 - accuracy: 0.9430 - val_loss: 0.2118 - val_accuracy: 0.9310\n",
            "Epoch 30/30\n",
            "17/17 [==============================] - 0s 15ms/step - loss: 0.1130 - accuracy: 0.9667 - val_loss: 0.1355 - val_accuracy: 0.9483\n",
            "9\n",
            "Model: \"model_10\"\n",
            "_________________________________________________________________\n",
            "Layer (type)                 Output Shape              Param #   \n",
            "=================================================================\n",
            "input_11 (InputLayer)        [(None, 48, 1)]           0         \n",
            "_________________________________________________________________\n",
            "conv1d_26 (Conv1D)           (None, 46, 64)            256       \n",
            "_________________________________________________________________\n",
            "conv1d_27 (Conv1D)           (None, 44, 64)            12352     \n",
            "_________________________________________________________________\n",
            "conv1d_28 (Conv1D)           (None, 42, 128)           24704     \n",
            "_________________________________________________________________\n",
            "dropout_17 (Dropout)         (None, 42, 128)           0         \n",
            "_________________________________________________________________\n",
            "max_pooling1d_12 (MaxPooling (None, 21, 128)           0         \n",
            "_________________________________________________________________\n",
            "lstm_6 (LSTM)                (None, 21, 200)           263200    \n",
            "_________________________________________________________________\n",
            "lstm_7 (LSTM)                (None, 21, 200)           320800    \n",
            "_________________________________________________________________\n",
            "lstm_8 (LSTM)                (None, 200)               320800    \n",
            "_________________________________________________________________\n",
            "dropout_18 (Dropout)         (None, 200)               0         \n",
            "_________________________________________________________________\n",
            "dense_20 (Dense)             (None, 200)               40200     \n",
            "_________________________________________________________________\n",
            "dense_21 (Dense)             (None, 5)                 1005      \n",
            "=================================================================\n",
            "Total params: 983,317\n",
            "Trainable params: 983,317\n",
            "Non-trainable params: 0\n",
            "_________________________________________________________________\n",
            "None\n",
            "Epoch 1/30\n",
            "17/17 [==============================] - 6s 86ms/step - loss: 0.1294 - accuracy: 0.9601 - val_loss: 0.0940 - val_accuracy: 0.9655\n",
            "Epoch 2/30\n",
            "17/17 [==============================] - 0s 17ms/step - loss: 0.0720 - accuracy: 0.9754 - val_loss: 0.0420 - val_accuracy: 1.0000\n",
            "Epoch 3/30\n",
            "17/17 [==============================] - 0s 15ms/step - loss: 0.0645 - accuracy: 0.9774 - val_loss: 0.0563 - val_accuracy: 0.9828\n",
            "Epoch 4/30\n",
            "17/17 [==============================] - 0s 15ms/step - loss: 0.1289 - accuracy: 0.9787 - val_loss: 0.0657 - val_accuracy: 0.9655\n",
            "Epoch 5/30\n",
            "17/17 [==============================] - 0s 15ms/step - loss: 0.1647 - accuracy: 0.9566 - val_loss: 0.2581 - val_accuracy: 0.8793\n",
            "Epoch 6/30\n",
            "17/17 [==============================] - 0s 15ms/step - loss: 0.0514 - accuracy: 0.9797 - val_loss: 0.0249 - val_accuracy: 1.0000\n",
            "Epoch 7/30\n",
            "17/17 [==============================] - 0s 15ms/step - loss: 0.0343 - accuracy: 0.9858 - val_loss: 0.0485 - val_accuracy: 0.9828\n",
            "Epoch 8/30\n",
            "17/17 [==============================] - 0s 15ms/step - loss: 0.0377 - accuracy: 0.9807 - val_loss: 0.0953 - val_accuracy: 0.9655\n",
            "Epoch 9/30\n",
            "17/17 [==============================] - 0s 15ms/step - loss: 0.1082 - accuracy: 0.9709 - val_loss: 0.0758 - val_accuracy: 0.9655\n",
            "Epoch 10/30\n",
            "17/17 [==============================] - 0s 15ms/step - loss: 0.0680 - accuracy: 0.9767 - val_loss: 0.0393 - val_accuracy: 0.9655\n",
            "Epoch 11/30\n",
            "17/17 [==============================] - 0s 14ms/step - loss: 0.1205 - accuracy: 0.9749 - val_loss: 0.0507 - val_accuracy: 1.0000\n",
            "Epoch 12/30\n",
            "17/17 [==============================] - 0s 15ms/step - loss: 0.0671 - accuracy: 0.9819 - val_loss: 0.0295 - val_accuracy: 0.9828\n",
            "Epoch 13/30\n",
            "17/17 [==============================] - 0s 15ms/step - loss: 0.0399 - accuracy: 0.9852 - val_loss: 0.0155 - val_accuracy: 1.0000\n",
            "Epoch 14/30\n",
            "17/17 [==============================] - 0s 16ms/step - loss: 0.0278 - accuracy: 0.9902 - val_loss: 0.0118 - val_accuracy: 1.0000\n",
            "Epoch 15/30\n",
            "17/17 [==============================] - 0s 15ms/step - loss: 0.0328 - accuracy: 0.9885 - val_loss: 0.1394 - val_accuracy: 0.9483\n",
            "Epoch 16/30\n",
            "17/17 [==============================] - 0s 15ms/step - loss: 0.0531 - accuracy: 0.9895 - val_loss: 0.0919 - val_accuracy: 0.9483\n",
            "Epoch 17/30\n",
            "17/17 [==============================] - 0s 15ms/step - loss: 0.0677 - accuracy: 0.9818 - val_loss: 0.1139 - val_accuracy: 0.9655\n",
            "Epoch 18/30\n",
            "17/17 [==============================] - 0s 15ms/step - loss: 0.0721 - accuracy: 0.9851 - val_loss: 0.1052 - val_accuracy: 0.9483\n",
            "Epoch 19/30\n",
            "17/17 [==============================] - 0s 15ms/step - loss: 0.1143 - accuracy: 0.9655 - val_loss: 0.0197 - val_accuracy: 1.0000\n",
            "Epoch 20/30\n",
            "17/17 [==============================] - 0s 15ms/step - loss: 0.0891 - accuracy: 0.9675 - val_loss: 0.0239 - val_accuracy: 0.9828\n",
            "Epoch 21/30\n",
            "17/17 [==============================] - 0s 15ms/step - loss: 0.1219 - accuracy: 0.9618 - val_loss: 0.0703 - val_accuracy: 0.9828\n",
            "Epoch 22/30\n",
            "17/17 [==============================] - 0s 15ms/step - loss: 0.0538 - accuracy: 0.9850 - val_loss: 0.0422 - val_accuracy: 0.9828\n",
            "Epoch 23/30\n",
            "17/17 [==============================] - 0s 16ms/step - loss: 0.0586 - accuracy: 0.9859 - val_loss: 0.0363 - val_accuracy: 0.9828\n",
            "Epoch 24/30\n",
            "17/17 [==============================] - 0s 15ms/step - loss: 0.0434 - accuracy: 0.9908 - val_loss: 0.0308 - val_accuracy: 1.0000\n",
            "Epoch 25/30\n",
            "17/17 [==============================] - 0s 16ms/step - loss: 0.0776 - accuracy: 0.9788 - val_loss: 0.3053 - val_accuracy: 0.9310\n",
            "Epoch 26/30\n",
            "17/17 [==============================] - 0s 15ms/step - loss: 0.1323 - accuracy: 0.9723 - val_loss: 0.1195 - val_accuracy: 0.9310\n",
            "Epoch 27/30\n",
            "17/17 [==============================] - 0s 15ms/step - loss: 0.0568 - accuracy: 0.9846 - val_loss: 0.0371 - val_accuracy: 0.9828\n",
            "Epoch 28/30\n",
            "17/17 [==============================] - 0s 15ms/step - loss: 0.0575 - accuracy: 0.9804 - val_loss: 0.2332 - val_accuracy: 0.9310\n",
            "Epoch 29/30\n",
            "17/17 [==============================] - 0s 16ms/step - loss: 0.0357 - accuracy: 0.9868 - val_loss: 0.1429 - val_accuracy: 0.9655\n",
            "Epoch 30/30\n",
            "17/17 [==============================] - 0s 15ms/step - loss: 0.0191 - accuracy: 0.9967 - val_loss: 0.0525 - val_accuracy: 0.9828\n",
            "10\n",
            "Epoch 1/30\n",
            "17/17 [==============================] - 6s 88ms/step - loss: 0.1299 - accuracy: 0.9659 - val_loss: 0.0168 - val_accuracy: 1.0000\n",
            "Epoch 2/30\n",
            "17/17 [==============================] - 0s 15ms/step - loss: 0.0624 - accuracy: 0.9791 - val_loss: 0.3134 - val_accuracy: 0.9310\n",
            "Epoch 3/30\n",
            "17/17 [==============================] - 0s 15ms/step - loss: 0.1663 - accuracy: 0.9386 - val_loss: 0.0497 - val_accuracy: 1.0000\n",
            "Epoch 4/30\n",
            "17/17 [==============================] - 0s 15ms/step - loss: 0.1306 - accuracy: 0.9485 - val_loss: 0.0227 - val_accuracy: 1.0000\n",
            "Epoch 5/30\n",
            "17/17 [==============================] - 0s 15ms/step - loss: 0.1155 - accuracy: 0.9644 - val_loss: 0.0216 - val_accuracy: 1.0000\n",
            "Epoch 6/30\n",
            "17/17 [==============================] - 0s 15ms/step - loss: 0.0383 - accuracy: 0.9902 - val_loss: 0.0141 - val_accuracy: 1.0000\n",
            "Epoch 7/30\n",
            "17/17 [==============================] - 0s 15ms/step - loss: 0.0205 - accuracy: 0.9940 - val_loss: 0.0090 - val_accuracy: 1.0000\n",
            "Epoch 8/30\n",
            "17/17 [==============================] - 0s 15ms/step - loss: 0.0253 - accuracy: 0.9865 - val_loss: 0.0056 - val_accuracy: 1.0000\n",
            "Epoch 9/30\n",
            "17/17 [==============================] - 0s 14ms/step - loss: 0.0542 - accuracy: 0.9844 - val_loss: 0.0089 - val_accuracy: 1.0000\n",
            "Epoch 10/30\n",
            "17/17 [==============================] - 0s 15ms/step - loss: 0.0595 - accuracy: 0.9828 - val_loss: 0.0163 - val_accuracy: 1.0000\n",
            "Epoch 11/30\n",
            "17/17 [==============================] - 0s 15ms/step - loss: 0.0827 - accuracy: 0.9767 - val_loss: 0.0321 - val_accuracy: 1.0000\n",
            "Epoch 12/30\n",
            "17/17 [==============================] - 0s 16ms/step - loss: 0.0690 - accuracy: 0.9752 - val_loss: 0.1701 - val_accuracy: 0.9138\n",
            "Epoch 13/30\n",
            "17/17 [==============================] - 0s 15ms/step - loss: 0.0306 - accuracy: 0.9904 - val_loss: 0.1674 - val_accuracy: 0.9310\n",
            "Epoch 14/30\n",
            "17/17 [==============================] - 0s 16ms/step - loss: 0.0267 - accuracy: 0.9881 - val_loss: 0.0251 - val_accuracy: 0.9828\n",
            "Epoch 15/30\n",
            "17/17 [==============================] - 0s 15ms/step - loss: 0.0162 - accuracy: 0.9926 - val_loss: 0.0041 - val_accuracy: 1.0000\n",
            "Epoch 16/30\n",
            "17/17 [==============================] - 0s 15ms/step - loss: 0.0163 - accuracy: 0.9977 - val_loss: 0.0149 - val_accuracy: 0.9828\n",
            "Epoch 17/30\n",
            "17/17 [==============================] - 0s 15ms/step - loss: 0.0328 - accuracy: 0.9839 - val_loss: 0.0568 - val_accuracy: 0.9655\n",
            "Epoch 18/30\n",
            "17/17 [==============================] - 0s 16ms/step - loss: 0.0894 - accuracy: 0.9788 - val_loss: 0.0255 - val_accuracy: 1.0000\n",
            "Epoch 19/30\n",
            "17/17 [==============================] - 0s 15ms/step - loss: 0.0853 - accuracy: 0.9726 - val_loss: 0.0349 - val_accuracy: 1.0000\n",
            "Epoch 20/30\n",
            "17/17 [==============================] - 0s 16ms/step - loss: 0.0636 - accuracy: 0.9796 - val_loss: 0.0179 - val_accuracy: 1.0000\n",
            "Epoch 21/30\n",
            "17/17 [==============================] - 0s 15ms/step - loss: 0.0203 - accuracy: 0.9982 - val_loss: 0.0261 - val_accuracy: 0.9828\n",
            "Epoch 22/30\n",
            "17/17 [==============================] - 0s 16ms/step - loss: 0.0126 - accuracy: 0.9962 - val_loss: 0.0262 - val_accuracy: 0.9828\n",
            "Epoch 23/30\n",
            "17/17 [==============================] - 0s 17ms/step - loss: 0.0155 - accuracy: 0.9922 - val_loss: 0.1151 - val_accuracy: 0.9483\n",
            "Epoch 24/30\n",
            "17/17 [==============================] - 0s 16ms/step - loss: 0.1103 - accuracy: 0.9614 - val_loss: 0.1187 - val_accuracy: 0.9655\n",
            "Epoch 25/30\n",
            "17/17 [==============================] - 0s 15ms/step - loss: 0.0350 - accuracy: 0.9793 - val_loss: 0.0455 - val_accuracy: 0.9828\n",
            "Epoch 26/30\n",
            "17/17 [==============================] - 0s 15ms/step - loss: 0.0420 - accuracy: 0.9856 - val_loss: 0.0347 - val_accuracy: 0.9655\n",
            "Epoch 27/30\n",
            "17/17 [==============================] - 0s 15ms/step - loss: 0.0628 - accuracy: 0.9756 - val_loss: 0.0338 - val_accuracy: 0.9655\n",
            "Epoch 28/30\n",
            "17/17 [==============================] - 0s 15ms/step - loss: 0.0252 - accuracy: 0.9890 - val_loss: 0.0362 - val_accuracy: 0.9828\n",
            "Epoch 29/30\n",
            "17/17 [==============================] - 0s 16ms/step - loss: 0.0303 - accuracy: 0.9926 - val_loss: 0.0448 - val_accuracy: 0.9828\n",
            "Epoch 30/30\n",
            "17/17 [==============================] - 0s 14ms/step - loss: 0.0212 - accuracy: 0.9928 - val_loss: 0.0282 - val_accuracy: 0.9828\n"
          ],
          "name": "stdout"
        }
      ]
    },
    {
      "cell_type": "markdown",
      "metadata": {
        "id": "CDQSYEX7HDca"
      },
      "source": [
        ""
      ]
    },
    {
      "cell_type": "code",
      "metadata": {
        "colab": {
          "base_uri": "https://localhost:8080/"
        },
        "id": "e_ki_5mZG4qb",
        "outputId": "418d1627-460f-4690-f621-7ec0ae9fabc4"
      },
      "source": [
        "np.mean(scores)   ###10Fold Test Sccuracy"
      ],
      "execution_count": null,
      "outputs": [
        {
          "output_type": "execute_result",
          "data": {
            "text/plain": [
              "0.6755698421975452"
            ]
          },
          "metadata": {
            "tags": []
          },
          "execution_count": 55
        }
      ]
    },
    {
      "cell_type": "code",
      "metadata": {
        "colab": {
          "base_uri": "https://localhost:8080/"
        },
        "id": "oRCWFYIxJPp9",
        "outputId": "67603e1f-0593-4619-a069-f883cdf34c9e"
      },
      "source": [
        "np.mean(train_scores) ###10Fold Train Accuracy"
      ],
      "execution_count": null,
      "outputs": [
        {
          "output_type": "execute_result",
          "data": {
            "text/plain": [
              "0.9069080334423847"
            ]
          },
          "metadata": {
            "tags": []
          },
          "execution_count": 56
        }
      ]
    },
    {
      "cell_type": "code",
      "metadata": {
        "id": "OZqwuk9naC2d"
      },
      "source": [
        "\r\n",
        "def model_evaluate(model, test_X):\r\n",
        "    pred = model.predict(test_X)\r\n",
        "    y_te = y_test.argmax(axis = 1)\r\n",
        "    pred_te = pred.argmax(axis = 1)\r\n",
        "    print(\"CLASSIFICATION REPORT \\n\")\r\n",
        "    print(classification_report(y_te, pred_te))\r\n",
        "    print('\\n \\n')\r\n",
        "    print('CONFUSION MATRIX \\n')\r\n",
        "    print(confusion_matrix(y_te, pred_te))"
      ],
      "execution_count": 47,
      "outputs": []
    },
    {
      "cell_type": "code",
      "metadata": {
        "colab": {
          "base_uri": "https://localhost:8080/"
        },
        "id": "a6EeTqc5aPiU",
        "outputId": "2ef4eacd-176d-4d10-b9e1-68e9d3ac9c3f"
      },
      "source": [
        "## Here the model should be trained on X_train only, use that model to test, F1, Kappa etc..\r\n",
        "model_evaluate(model, X_test)"
      ],
      "execution_count": 48,
      "outputs": [
        {
          "output_type": "stream",
          "text": [
            "CLASSIFICATION REPORT \n",
            "\n",
            "              precision    recall  f1-score   support\n",
            "\n",
            "           0       1.00      0.29      0.44         7\n",
            "           1       0.55      0.89      0.68        47\n",
            "           2       0.00      0.00      0.00         9\n",
            "           3       0.40      0.22      0.29        18\n",
            "           4       0.00      0.00      0.00         7\n",
            "\n",
            "    accuracy                           0.55        88\n",
            "   macro avg       0.39      0.28      0.28        88\n",
            "weighted avg       0.46      0.55      0.46        88\n",
            "\n",
            "\n",
            " \n",
            "\n",
            "CONFUSION MATRIX \n",
            "\n",
            "[[ 2  4  0  1  0]\n",
            " [ 0 42  0  5  0]\n",
            " [ 0  9  0  0  0]\n",
            " [ 0 14  0  4  0]\n",
            " [ 0  7  0  0  0]]\n"
          ],
          "name": "stdout"
        },
        {
          "output_type": "stream",
          "text": [
            "/usr/local/lib/python3.7/dist-packages/sklearn/metrics/_classification.py:1272: UndefinedMetricWarning: Precision and F-score are ill-defined and being set to 0.0 in labels with no predicted samples. Use `zero_division` parameter to control this behavior.\n",
            "  _warn_prf(average, modifier, msg_start, len(result))\n"
          ],
          "name": "stderr"
        }
      ]
    },
    {
      "cell_type": "code",
      "metadata": {
        "id": "_dcxv3bvI94-"
      },
      "source": [
        "def print_performance_metrics():\r\n",
        "  \r\n",
        "    print('Accuracy:', np.round(metrics.accuracy_score(y_test, max_y_pred_test),4))\r\n",
        "    print('Precision:', np.round(metrics.precision_score(y_test, \r\n",
        "                                max_y_pred_test,average='weighted'),4))\r\n",
        "    print('Recall:', np.round(metrics.recall_score(y_test, max_y_pred_test,\r\n",
        "                                               average='weighted'),4))\r\n",
        "    print('F1 Score:', np.round(metrics.f1_score(y_test, max_y_pred_test,\r\n",
        "                                               average='weighted'),4))\r\n",
        "    print('Cohen Kappa Score:', np.round(metrics.cohen_kappa_score(y_test.argmax(axis=1), max_y_pred_test.argmax(axis=1)),4))\r\n",
        "    print('Matthews Corrcoef:', np.round(metrics.matthews_corrcoef(y_test.argmax(axis=1), max_y_pred_test.argmax(axis=1)),4)) \r\n",
        "    print('ROC AUC:', (metrics.roc_auc_score(y_test, max_y_pred_test,average='macro')))\r\n",
        "    print('\\t\\tClassification Report:\\n', metrics.classification_report(y_test, max_y_pred_test))\r\n",
        "\r\n",
        "\r\n",
        "def print_confusion_matrix_and_save():\r\n",
        "    mat = confusion_matrix(y_test.argmax(axis=1), max_y_pred_test.argmax(axis=1))\r\n",
        "    sns.heatmap(mat.T, square=True, annot=True, fmt='d', cbar=False)\r\n",
        "    plt.title('Confusion Matrix')\r\n",
        "    plt.ylabel('True Label')\r\n",
        "    plt.xlabel('Predicted Label')\r\n",
        "    #plt.show()\r\n",
        "\r\n",
        "    plt.savefig(\"Hand.jpg\")\r\n",
        "    # Save SVG in a fake file object.\r\n",
        "    f = BytesIO()\r\n",
        "    plt.savefig(f, format=\"svg\")"
      ],
      "execution_count": 49,
      "outputs": []
    },
    {
      "cell_type": "code",
      "metadata": {
        "colab": {
          "base_uri": "https://localhost:8080/"
        },
        "id": "fhobotbTahj8",
        "outputId": "a04b663a-cfac-4551-f7b8-257f7b2b2beb"
      },
      "source": [
        "pred_test   = model.predict(X_test)\r\n",
        "max_y_pred_test = np.round(pred_test)\r\n",
        "print_performance_metrics()"
      ],
      "execution_count": 50,
      "outputs": [
        {
          "output_type": "stream",
          "text": [
            "Accuracy: 0.5341\n",
            "Precision: 0.4704\n",
            "Recall: 0.5341\n",
            "F1 Score: 0.4609\n",
            "Cohen Kappa Score: 0.1219\n",
            "Matthews Corrcoef: 0.1473\n",
            "ROC AUC: 0.5528360557161803\n",
            "\t\tClassification Report:\n",
            "               precision    recall  f1-score   support\n",
            "\n",
            "           0       1.00      0.29      0.44         7\n",
            "           1       0.56      0.87      0.68        47\n",
            "           2       0.00      0.00      0.00         9\n",
            "           3       0.44      0.22      0.30        18\n",
            "           4       0.00      0.00      0.00         7\n",
            "\n",
            "   micro avg       0.56      0.53      0.55        88\n",
            "   macro avg       0.40      0.28      0.28        88\n",
            "weighted avg       0.47      0.53      0.46        88\n",
            " samples avg       0.53      0.53      0.53        88\n",
            "\n"
          ],
          "name": "stdout"
        },
        {
          "output_type": "stream",
          "text": [
            "/usr/local/lib/python3.7/dist-packages/sklearn/metrics/_classification.py:1272: UndefinedMetricWarning: Precision is ill-defined and being set to 0.0 in labels with no predicted samples. Use `zero_division` parameter to control this behavior.\n",
            "  _warn_prf(average, modifier, msg_start, len(result))\n",
            "/usr/local/lib/python3.7/dist-packages/sklearn/metrics/_classification.py:1272: UndefinedMetricWarning: Precision and F-score are ill-defined and being set to 0.0 in labels with no predicted samples. Use `zero_division` parameter to control this behavior.\n",
            "  _warn_prf(average, modifier, msg_start, len(result))\n",
            "/usr/local/lib/python3.7/dist-packages/sklearn/metrics/_classification.py:1272: UndefinedMetricWarning: Precision and F-score are ill-defined and being set to 0.0 in samples with no predicted labels. Use `zero_division` parameter to control this behavior.\n",
            "  _warn_prf(average, modifier, msg_start, len(result))\n"
          ],
          "name": "stderr"
        }
      ]
    },
    {
      "cell_type": "code",
      "metadata": {
        "id": "vR5ku01-JLld"
      },
      "source": [
        ""
      ],
      "execution_count": null,
      "outputs": []
    }
  ]
}