{
  "nbformat": 4,
  "nbformat_minor": 0,
  "metadata": {
    "colab": {
      "name": "WPD_HeartBeatSoundExperimentation.ipynb",
      "provenance": [],
      "collapsed_sections": []
    },
    "kernelspec": {
      "name": "python3",
      "display_name": "Python 3"
    },
    "accelerator": "GPU"
  },
  "cells": [
    {
      "cell_type": "code",
      "metadata": {
        "id": "w7K7x4z3FDTj"
      },
      "source": [
        "import numpy as np\r\n",
        "import pandas as pd\r\n",
        "import matplotlib.pyplot as plt\r\n",
        "import seaborn as sns\r\n",
        "# %matplotlib inline\r\n",
        "\r\n",
        "from io import BytesIO #needed for plot\r\n",
        "import seaborn as sns; sns.set()\r\n",
        "\r\n",
        "from keras.models import Model\r\n",
        "from keras.layers import LSTM, Dropout, Dense, Conv1D, ConvLSTM2D, Input, Bidirectional, TimeDistributed,GRU\r\n",
        "from keras.layers import MaxPooling1D, Flatten, BatchNormalization\r\n",
        "from keras.utils import plot_model\r\n",
        "from keras.models import load_model\r\n",
        "from numpy import save\r\n",
        "from numpy import load\r\n",
        "import sklearn\r\n",
        "from scipy import stats\r\n",
        "from sklearn import metrics\r\n",
        "from keras.optimizers import Adam, SGD, RMSprop\r\n",
        "from keras.models import load_model\r\n",
        "from sklearn.metrics import confusion_matrix\r\n",
        "from sklearn.metrics import accuracy_score\r\n",
        "from sklearn.model_selection import KFold, StratifiedKFold\r\n",
        "from sklearn.metrics import classification_report\r\n",
        "from sklearn.preprocessing import MinMaxScaler\r\n",
        "from sklearn.model_selection import train_test_split\r\n",
        "import pickle\r\n"
      ],
      "execution_count": 2,
      "outputs": []
    },
    {
      "cell_type": "code",
      "metadata": {
        "id": "qAfkN0xgFMbv"
      },
      "source": [
        "from keras.layers import Conv2D, MaxPooling2D, BatchNormalization"
      ],
      "execution_count": 3,
      "outputs": []
    },
    {
      "cell_type": "code",
      "metadata": {
        "colab": {
          "base_uri": "https://localhost:8080/"
        },
        "id": "62HQC3zyKH74",
        "outputId": "87317d36-6922-480d-e60d-4ca779e5d97e"
      },
      "source": [
        "from google.colab import drive\n",
        "drive.mount('/content/drive')"
      ],
      "execution_count": 4,
      "outputs": [
        {
          "output_type": "stream",
          "text": [
            "Mounted at /content/drive\n"
          ],
          "name": "stdout"
        }
      ]
    },
    {
      "cell_type": "code",
      "metadata": {
        "colab": {
          "base_uri": "https://localhost:8080/",
          "height": 34
        },
        "id": "klfmOM79F3X2",
        "outputId": "7eee3194-edf1-434d-fd86-426fbb44e71e"
      },
      "source": [
        "pwd"
      ],
      "execution_count": 5,
      "outputs": [
        {
          "output_type": "execute_result",
          "data": {
            "application/vnd.google.colaboratory.intrinsic+json": {
              "type": "string"
            },
            "text/plain": [
              "'/content'"
            ]
          },
          "metadata": {
            "tags": []
          },
          "execution_count": 5
        }
      ]
    },
    {
      "cell_type": "code",
      "metadata": {
        "colab": {
          "base_uri": "https://localhost:8080/"
        },
        "id": "yxQRv2nUF_IW",
        "outputId": "8e495d30-a172-4730-ece0-681889cc6570"
      },
      "source": [
        "cd /content/drive/MyDrive/AI ML Things/University of Turku Research Internship"
      ],
      "execution_count": 6,
      "outputs": [
        {
          "output_type": "stream",
          "text": [
            "/content/drive/MyDrive/AI ML Things/University of Turku Research Internship\n"
          ],
          "name": "stdout"
        }
      ]
    },
    {
      "cell_type": "code",
      "metadata": {
        "colab": {
          "base_uri": "https://localhost:8080/"
        },
        "id": "8_7M4TEaGCdW",
        "outputId": "44f6b973-b1a4-497c-b8e0-22adb89d0f89"
      },
      "source": [
        "cd WPD_features/"
      ],
      "execution_count": 7,
      "outputs": [
        {
          "output_type": "stream",
          "text": [
            "/content/drive/MyDrive/AI ML Things/University of Turku Research Internship/WPD_features\n"
          ],
          "name": "stdout"
        }
      ]
    },
    {
      "cell_type": "code",
      "metadata": {
        "colab": {
          "base_uri": "https://localhost:8080/"
        },
        "id": "x3vV9nu0GGzb",
        "outputId": "5a7cef04-1d10-4310-e0b8-e0f6713e3ec2"
      },
      "source": [
        "ls"
      ],
      "execution_count": 8,
      "outputs": [
        {
          "output_type": "stream",
          "text": [
            "\u001b[0m\u001b[01;34m'Labelled and Unlabelled Data Seperated'\u001b[0m/  'x_data_wpd .npy'\n",
            " \u001b[01;34mWPD_features_parts\u001b[0m/                        y_data_wpd.npy\n"
          ],
          "name": "stdout"
        }
      ]
    },
    {
      "cell_type": "code",
      "metadata": {
        "id": "xPDLYNsJGImr"
      },
      "source": [
        "X = np.load(\"x_data_wpd .npy\")\r\n",
        "y = np.load(\"y_data_wpd.npy\")\r\n",
        "X = X[:583]\r\n",
        "y = y[:583]"
      ],
      "execution_count": 9,
      "outputs": []
    },
    {
      "cell_type": "code",
      "metadata": {
        "id": "n8BzrLANGVKA"
      },
      "source": [
        "def one_hot_target(y):\r\n",
        "    \r\n",
        "    y_one_hot = pd.get_dummies(y)\r\n",
        "    \r\n",
        "    return y_one_hot.values"
      ],
      "execution_count": 10,
      "outputs": []
    },
    {
      "cell_type": "code",
      "metadata": {
        "id": "zgrCVBjRHMVk"
      },
      "source": [
        "y_ = one_hot_target(y)"
      ],
      "execution_count": 11,
      "outputs": []
    },
    {
      "cell_type": "code",
      "metadata": {
        "id": "vF5mFHQCGdtS"
      },
      "source": [
        "## FOR CNN model\r\n",
        "train_X = X.reshape(-1,  83, 1)\r\n",
        "train_y = y_\r\n",
        "#WHY IS THE INPUT SHAPE RESHAPED"
      ],
      "execution_count": 12,
      "outputs": []
    },
    {
      "cell_type": "code",
      "metadata": {
        "id": "xMioKBt6RWBa"
      },
      "source": [
        "### FOR LSTM model\r\n",
        "train_X = X.reshape(-1,  83, 1)\r\n",
        "train_y = y_"
      ],
      "execution_count": 13,
      "outputs": []
    },
    {
      "cell_type": "code",
      "metadata": {
        "id": "lJrxY_bBRuq1"
      },
      "source": [
        "### FOR GRU model \r\n",
        "train_X = X.reshape(-1,  83, 1)\r\n",
        "train_y = y_"
      ],
      "execution_count": 14,
      "outputs": []
    },
    {
      "cell_type": "code",
      "metadata": {
        "id": "GJi5NWe2SqDN"
      },
      "source": [
        "### FOR CNN+LSTM model and CNN + BiLSTM model\r\n",
        "train_X = X.reshape(-1,  83, 1)\r\n",
        "train_y = y_"
      ],
      "execution_count": 15,
      "outputs": []
    },
    {
      "cell_type": "code",
      "metadata": {
        "id": "yL4eWDnUZI22"
      },
      "source": [
        "X_train, X_test, y_train, y_test = train_test_split(train_X, train_y ,test_size=0.15, random_state=42, shuffle = True)"
      ],
      "execution_count": 16,
      "outputs": []
    },
    {
      "cell_type": "code",
      "metadata": {
        "id": "O9x2IfDyQWEh"
      },
      "source": [
        "#What does input_ mean ?????"
      ],
      "execution_count": 17,
      "outputs": []
    },
    {
      "cell_type": "code",
      "metadata": {
        "id": "-dZxvgzUFWuN"
      },
      "source": [
        "def CNN2():\r\n",
        "\r\n",
        "  input_ = Input(shape = ( 83, 1))\r\n",
        "  x = (Conv1D(filters = 64, kernel_size = 3, activation = 'relu'))(input_)\r\n",
        "  x = (Conv1D(filters =64,kernel_size =  3,activation = 'relu'))(x)\r\n",
        "  x = (Dropout(0.1))(x)\r\n",
        "  x = (MaxPooling1D(pool_size=2))(x)\r\n",
        "  x = (Conv1D(filters =128, kernel_size = 3,activation = 'relu'))(x)\r\n",
        "  x = (Conv1D(filters =256,kernel_size = 4,activation ='relu'))(x)\r\n",
        "  x = (Dropout(0.2))(x)\r\n",
        "  x = (MaxPooling1D(pool_size=2))(x)\r\n",
        "  x = (Flatten())(x)\r\n",
        "  x = Dense(200, activation = 'relu')(x)\r\n",
        "  output = Dense(5, activation = 'softmax')(x)\r\n",
        "\r\n",
        "  model = Model(input_, output)\r\n",
        "  \r\n",
        "  return model"
      ],
      "execution_count": 18,
      "outputs": []
    },
    {
      "cell_type": "code",
      "metadata": {
        "colab": {
          "base_uri": "https://localhost:8080/"
        },
        "id": "xRiEZnFKQ4gK",
        "outputId": "3221e282-e44c-4b51-deec-196a10a0b0b3"
      },
      "source": [
        "CNN2()"
      ],
      "execution_count": 20,
      "outputs": [
        {
          "output_type": "execute_result",
          "data": {
            "text/plain": [
              "<tensorflow.python.keras.engine.functional.Functional at 0x7f73b03b1e90>"
            ]
          },
          "metadata": {
            "tags": []
          },
          "execution_count": 20
        }
      ]
    },
    {
      "cell_type": "code",
      "metadata": {
        "id": "ENcUbhZuFirh"
      },
      "source": [
        "def LSTM_Model()  : \r\n",
        "    print(y.sum(0))\r\n",
        "    input_ = Input(shape = (83,1))\r\n",
        "    x = LSTM(83, return_sequences=True)(input_)\r\n",
        "    #x = Dropout(0.1)(x)\r\n",
        "    x = (LSTM(83, return_sequences= True))(x)\r\n",
        "    x = LSTM(83)(x)\r\n",
        "    x = Dropout(0.2)(x)\r\n",
        "    #x = Dropout(0.2)(x)\r\n",
        "    x = Dense(units = 200, activation='relu')(x)\r\n",
        "    x = Dense(units = 200, activation='relu')(x)\r\n",
        "    x  = Dense(units = 200, activation='relu')(x)\r\n",
        "    output = Dense(5,  activation='softmax')(x)\r\n",
        "\r\n",
        "    LSTM_model = Model(input_, output)\r\n",
        "    return LSTM_model\r\n"
      ],
      "execution_count": 29,
      "outputs": []
    },
    {
      "cell_type": "code",
      "metadata": {
        "colab": {
          "base_uri": "https://localhost:8080/"
        },
        "id": "BaKAb0XQSON3",
        "outputId": "e4d1dcce-5070-4d5c-a1a5-591ccc894de3"
      },
      "source": [
        "LSTM_Model()"
      ],
      "execution_count": 30,
      "outputs": [
        {
          "output_type": "stream",
          "text": [
            "954.0\n"
          ],
          "name": "stdout"
        },
        {
          "output_type": "execute_result",
          "data": {
            "text/plain": [
              "<tensorflow.python.keras.engine.functional.Functional at 0x7f73667ef150>"
            ]
          },
          "metadata": {
            "tags": []
          },
          "execution_count": 30
        }
      ]
    },
    {
      "cell_type": "code",
      "metadata": {
        "colab": {
          "base_uri": "https://localhost:8080/"
        },
        "id": "7hLmb-IuSQRy",
        "outputId": "6ee84c19-da0d-4bc6-b3eb-7a2627fda48a"
      },
      "source": [
        "model=LSTM_Model()"
      ],
      "execution_count": null,
      "outputs": [
        {
          "output_type": "stream",
          "text": [
            "954.0\n"
          ],
          "name": "stdout"
        }
      ]
    },
    {
      "cell_type": "code",
      "metadata": {
        "id": "wBGCJG4aR0AV"
      },
      "source": [
        "def stacked_GRU():\r\n",
        "\r\n",
        "  input_ = Input(shape = (83, 1))\r\n",
        "  x = GRU(83, return_sequences =True)(input_)\r\n",
        "  x = GRU(83, return_sequences = True)(x)\r\n",
        "  x = Dropout(0.2)(x)\r\n",
        "  x = GRU(83)(x)\r\n",
        "  x = Dense(100, activation = 'relu')(x)\r\n",
        "  output = Dense(5, activation = 'softmax')(x)\r\n",
        "\r\n",
        "  GRU_model = Model(input_, output)\r\n",
        "\r\n",
        "  return GRU_model"
      ],
      "execution_count": 19,
      "outputs": []
    },
    {
      "cell_type": "code",
      "metadata": {
        "colab": {
          "base_uri": "https://localhost:8080/"
        },
        "id": "jETq_3YLtUZ9",
        "outputId": "324f5f4e-bec2-4c1a-b49e-61a7dc69904a"
      },
      "source": [
        "stacked_GRU()"
      ],
      "execution_count": 20,
      "outputs": [
        {
          "output_type": "execute_result",
          "data": {
            "text/plain": [
              "<tensorflow.python.keras.engine.functional.Functional at 0x7ffa700bf910>"
            ]
          },
          "metadata": {
            "tags": []
          },
          "execution_count": 20
        }
      ]
    },
    {
      "cell_type": "code",
      "metadata": {
        "id": "YKyiXCJoSegb"
      },
      "source": [
        "def CONV_LSTM_model():\r\n",
        "\r\n",
        "    input_ = Input(shape = (83, 1))\r\n",
        "    x = (Conv1D(filters=64, kernel_size=3, activation='relu'))(input_)\r\n",
        "    x = (Conv1D(filters=64, kernel_size=3, activation='relu'))(x)\r\n",
        "    x = (Conv1D(filters=128, kernel_size=3, activation='relu'))(x)\r\n",
        "    x = (Dropout(0.2))(x)\r\n",
        "    x = (MaxPooling1D(pool_size=2))(x)\r\n",
        "    #x = (Flatten())(x)\r\n",
        "    x = LSTM(200, return_sequences= True)(x)\r\n",
        "    x =LSTM(200, return_sequences=True)(x)\r\n",
        "    x = LSTM(200)(x)\r\n",
        "    x = Dropout(0.2)(x)\r\n",
        "    x = Dense(200, activation='relu')(x)\r\n",
        "    output = Dense(5, activation='softmax')(x)\r\n",
        "\r\n",
        "    Conv_LSTM_model = Model(input_, output)\r\n",
        "\r\n",
        "    return Conv_LSTM_model"
      ],
      "execution_count": 28,
      "outputs": []
    },
    {
      "cell_type": "code",
      "metadata": {
        "colab": {
          "base_uri": "https://localhost:8080/"
        },
        "id": "bgf9oEmNUqid",
        "outputId": "7719bba1-9e89-4dcf-d160-6a495a8ad4d9"
      },
      "source": [
        "CONV_LSTM_model()"
      ],
      "execution_count": 29,
      "outputs": [
        {
          "output_type": "execute_result",
          "data": {
            "text/plain": [
              "<tensorflow.python.keras.engine.functional.Functional at 0x7ff9f216c390>"
            ]
          },
          "metadata": {
            "tags": []
          },
          "execution_count": 29
        }
      ]
    },
    {
      "cell_type": "code",
      "metadata": {
        "id": "tBfLCtDAS-o_"
      },
      "source": [
        "def CONV_BiLSTM_model():\r\n",
        "\r\n",
        "    input_ = Input(shape = (83, 1))\r\n",
        "    x = (Conv1D(filters=64, kernel_size=3, activation='relu'))(input_)\r\n",
        "    x = (Conv1D(filters=64, kernel_size=3, activation='relu'))(x)\r\n",
        "    x = (Conv1D(filters=128, kernel_size=3, activation='relu'))(x)\r\n",
        "    x = (Dropout(0.2))(x)\r\n",
        "    x = (MaxPooling1D(pool_size=2))(x)\r\n",
        "    #x = TimeDistributed(Flatten())(x)\r\n",
        "    x = Bidirectional(LSTM(100, return_sequences= True))(x)\r\n",
        "    x = Bidirectional(LSTM(200, return_sequences=True))(x)\r\n",
        "    x = LSTM(400)(x)\r\n",
        "    x = Dropout(0.2)(x)\r\n",
        "    x = Dense(200, activation='relu')(x)\r\n",
        "    output = Dense(5, activation='softmax')(x)\r\n",
        "\r\n",
        "    Conv_LSTM_model = Model(input_, output)\r\n",
        "\r\n",
        "    return Conv_LSTM_model"
      ],
      "execution_count": 37,
      "outputs": []
    },
    {
      "cell_type": "code",
      "metadata": {
        "colab": {
          "base_uri": "https://localhost:8080/"
        },
        "id": "gBNJRc_IyOY3",
        "outputId": "22338ee3-9f81-4b1d-88df-e96f6297daca"
      },
      "source": [
        "CONV_BiLSTM_model()"
      ],
      "execution_count": 38,
      "outputs": [
        {
          "output_type": "execute_result",
          "data": {
            "text/plain": [
              "<tensorflow.python.keras.engine.functional.Functional at 0x7ffa5ad96fd0>"
            ]
          },
          "metadata": {
            "tags": []
          },
          "execution_count": 38
        }
      ]
    },
    {
      "cell_type": "code",
      "metadata": {
        "id": "ODTLOyv2TT77"
      },
      "source": [
        "def Conv_LSTM2D_model1():\r\n",
        "    input_ = Input(shape = ((83,1, 1, 1)))\r\n",
        "    x = ConvLSTM2D(filters = 64, kernel_size = (1,3), activation = 'relu')(input_)\r\n",
        "    #x = (Conv1D(filters=64, kernel_size=3, activation='relu'))(x)\r\n",
        "    x = (Conv1D(filters=128, kernel_size=3, activation='relu'))(x)\r\n",
        "    x = (Dropout(0.2))(x)\r\n",
        "    x = (MaxPooling1D(pool_size=2))(x)\r\n",
        "    x = TimeDistributed(Flatten())(x)\r\n",
        "    x = Bidirectional(LSTM(100, return_sequences= True))(x)\r\n",
        "    x = LSTM(200)(x)\r\n",
        "    x = Dropout(0.2)(x)\r\n",
        "    x = Dense(200, activation='relu')(x)\r\n",
        "    output = Dense(5, activation='softmax')(x)\r\n",
        "    \r\n",
        "    \r\n",
        "    ConvLSTM2D_model = Model(input_, output)\r\n",
        "\r\n",
        "    return ConvLSTM2D_model"
      ],
      "execution_count": null,
      "outputs": []
    },
    {
      "cell_type": "code",
      "metadata": {
        "id": "eyG1SuLRNGfQ"
      },
      "source": [
        "def train_model_(model):\r\n",
        "  \r\n",
        "  model  = model ### \r\n",
        "  model.compile(loss = 'categorical_crossentropy', optimizer = Adam(), metrics = ['accuracy'])\r\n",
        "        \r\n",
        "\r\n",
        "  r = model.fit(X_train, y_train, batch_size = 32, epochs = 30, validation_split = 0.1)\r\n",
        "  #return 4, 6\r\n",
        "  return model,r"
      ],
      "execution_count": 39,
      "outputs": []
    },
    {
      "cell_type": "code",
      "metadata": {
        "id": "VnSKkW40S-Q7"
      },
      "source": [
        ""
      ],
      "execution_count": 31,
      "outputs": []
    },
    {
      "cell_type": "code",
      "metadata": {
        "colab": {
          "base_uri": "https://localhost:8080/"
        },
        "id": "002aj-I4NST8",
        "outputId": "4cb042aa-1a0f-4ae9-ea12-373ce20d485e"
      },
      "source": [
        "model, r = train_model_(CONV_BiLSTM_model())"
      ],
      "execution_count": 40,
      "outputs": [
        {
          "output_type": "stream",
          "text": [
            "Epoch 1/30\n",
            "14/14 [==============================] - 7s 131ms/step - loss: 1.2471 - accuracy: 0.4715 - val_loss: 1.0144 - val_accuracy: 0.6600\n",
            "Epoch 2/30\n",
            "14/14 [==============================] - 0s 23ms/step - loss: 0.9564 - accuracy: 0.6691 - val_loss: 0.9282 - val_accuracy: 0.6600\n",
            "Epoch 3/30\n",
            "14/14 [==============================] - 0s 23ms/step - loss: 0.8726 - accuracy: 0.6835 - val_loss: 0.9657 - val_accuracy: 0.6400\n",
            "Epoch 4/30\n",
            "14/14 [==============================] - 0s 22ms/step - loss: 0.9235 - accuracy: 0.6758 - val_loss: 0.9183 - val_accuracy: 0.6600\n",
            "Epoch 5/30\n",
            "14/14 [==============================] - 0s 23ms/step - loss: 0.8791 - accuracy: 0.7100 - val_loss: 0.9237 - val_accuracy: 0.6600\n",
            "Epoch 6/30\n",
            "14/14 [==============================] - 0s 23ms/step - loss: 0.8526 - accuracy: 0.7047 - val_loss: 0.9025 - val_accuracy: 0.6600\n",
            "Epoch 7/30\n",
            "14/14 [==============================] - 0s 23ms/step - loss: 0.8365 - accuracy: 0.7034 - val_loss: 0.9123 - val_accuracy: 0.6600\n",
            "Epoch 8/30\n",
            "14/14 [==============================] - 0s 23ms/step - loss: 0.8677 - accuracy: 0.6767 - val_loss: 0.9328 - val_accuracy: 0.6600\n",
            "Epoch 9/30\n",
            "14/14 [==============================] - 0s 23ms/step - loss: 0.9361 - accuracy: 0.6332 - val_loss: 0.9135 - val_accuracy: 0.6600\n",
            "Epoch 10/30\n",
            "14/14 [==============================] - 0s 23ms/step - loss: 0.8965 - accuracy: 0.6704 - val_loss: 0.9241 - val_accuracy: 0.6400\n",
            "Epoch 11/30\n",
            "14/14 [==============================] - 0s 23ms/step - loss: 0.8999 - accuracy: 0.6738 - val_loss: 0.8717 - val_accuracy: 0.6400\n",
            "Epoch 12/30\n",
            "14/14 [==============================] - 0s 23ms/step - loss: 0.8278 - accuracy: 0.6850 - val_loss: 0.8321 - val_accuracy: 0.7000\n",
            "Epoch 13/30\n",
            "14/14 [==============================] - 0s 23ms/step - loss: 0.8845 - accuracy: 0.6839 - val_loss: 0.8514 - val_accuracy: 0.6600\n",
            "Epoch 14/30\n",
            "14/14 [==============================] - 0s 23ms/step - loss: 0.8807 - accuracy: 0.6721 - val_loss: 0.9314 - val_accuracy: 0.6600\n",
            "Epoch 15/30\n",
            "14/14 [==============================] - 0s 23ms/step - loss: 0.9650 - accuracy: 0.6245 - val_loss: 0.9019 - val_accuracy: 0.6600\n",
            "Epoch 16/30\n",
            "14/14 [==============================] - 0s 23ms/step - loss: 0.9011 - accuracy: 0.6643 - val_loss: 0.8737 - val_accuracy: 0.6600\n",
            "Epoch 17/30\n",
            "14/14 [==============================] - 0s 23ms/step - loss: 0.8497 - accuracy: 0.6771 - val_loss: 0.8627 - val_accuracy: 0.6600\n",
            "Epoch 18/30\n",
            "14/14 [==============================] - 0s 23ms/step - loss: 0.8524 - accuracy: 0.6841 - val_loss: 0.8558 - val_accuracy: 0.6600\n",
            "Epoch 19/30\n",
            "14/14 [==============================] - 0s 24ms/step - loss: 0.8386 - accuracy: 0.6952 - val_loss: 0.8306 - val_accuracy: 0.6600\n",
            "Epoch 20/30\n",
            "14/14 [==============================] - 0s 23ms/step - loss: 0.8352 - accuracy: 0.6815 - val_loss: 0.8549 - val_accuracy: 0.6600\n",
            "Epoch 21/30\n",
            "14/14 [==============================] - 0s 23ms/step - loss: 0.8281 - accuracy: 0.6807 - val_loss: 0.7806 - val_accuracy: 0.6600\n",
            "Epoch 22/30\n",
            "14/14 [==============================] - 0s 23ms/step - loss: 0.8684 - accuracy: 0.6570 - val_loss: 0.7719 - val_accuracy: 0.7000\n",
            "Epoch 23/30\n",
            "14/14 [==============================] - 0s 23ms/step - loss: 0.8115 - accuracy: 0.7111 - val_loss: 0.9045 - val_accuracy: 0.6600\n",
            "Epoch 24/30\n",
            "14/14 [==============================] - 0s 23ms/step - loss: 0.9458 - accuracy: 0.6502 - val_loss: 0.7924 - val_accuracy: 0.7000\n",
            "Epoch 25/30\n",
            "14/14 [==============================] - 0s 24ms/step - loss: 0.8872 - accuracy: 0.6513 - val_loss: 0.8354 - val_accuracy: 0.7400\n",
            "Epoch 26/30\n",
            "14/14 [==============================] - 0s 23ms/step - loss: 0.8423 - accuracy: 0.6828 - val_loss: 0.7826 - val_accuracy: 0.7000\n",
            "Epoch 27/30\n",
            "14/14 [==============================] - 0s 23ms/step - loss: 0.7947 - accuracy: 0.7126 - val_loss: 0.7258 - val_accuracy: 0.7200\n",
            "Epoch 28/30\n",
            "14/14 [==============================] - 0s 23ms/step - loss: 0.8325 - accuracy: 0.6643 - val_loss: 0.8590 - val_accuracy: 0.6600\n",
            "Epoch 29/30\n",
            "14/14 [==============================] - 0s 23ms/step - loss: 0.7853 - accuracy: 0.7147 - val_loss: 0.7868 - val_accuracy: 0.7000\n",
            "Epoch 30/30\n",
            "14/14 [==============================] - 0s 23ms/step - loss: 0.7435 - accuracy: 0.7181 - val_loss: 0.8180 - val_accuracy: 0.7000\n"
          ],
          "name": "stdout"
        }
      ]
    },
    {
      "cell_type": "code",
      "metadata": {
        "id": "aM37v0PbFvTV"
      },
      "source": [
        "def KFoldCV(train_X,y, model):  # This performs 10 Fold Cross validation on user dependant model\r\n",
        "\r\n",
        "    scores = []\r\n",
        "    train_scores = []\r\n",
        "    Kfold_CV = KFold(n_splits = 10, random_state=42)\r\n",
        "    i = 0\r\n",
        "\r\n",
        "    for train_index, test_index in Kfold_CV.split(train_X):\r\n",
        "\r\n",
        "        #CNN2()\r\n",
        "        i += 1\r\n",
        "        print(i)\r\n",
        "        \r\n",
        "          #break\r\n",
        "        Conv_LSTM_model  = model\r\n",
        "        Conv_LSTM_model.compile(loss = 'categorical_crossentropy', optimizer = Adam(), metrics = ['accuracy'])\r\n",
        "        if i<10:\r\n",
        "          print(Conv_LSTM_model.summary())\r\n",
        "\r\n",
        "        r = Conv_LSTM_model.fit(train_X[train_index], y[train_index], batch_size = 32, epochs = 30, validation_data = (train_X[test_index],y[test_index]))\r\n",
        "\r\n",
        "        # Evaluate on train\r\n",
        "        pred_train = Conv_LSTM_model.predict(train_X[train_index])\r\n",
        "        pred_train_te = pred_train.argmax(axis = 1)\r\n",
        "        train_te = y[train_index].argmax(axis = 1)\r\n",
        "        accuracy_train   = accuracy_score(train_te, pred_train_te)\r\n",
        "        train_scores.append(accuracy_train)\r\n",
        "        \r\n",
        "        # Evaluate on test\r\n",
        "        pred  = Conv_LSTM_model.predict(train_X[test_index])\r\n",
        "        pred_te = pred.argmax(axis = 1)\r\n",
        "        test_te = y[test_index].argmax(axis = 1)\r\n",
        "        accuracy = accuracy_score(test_te, pred_te)\r\n",
        "        scores.append(accuracy)\r\n",
        "\r\n",
        "    return scores, train_scores, Conv_LSTM_model,r"
      ],
      "execution_count": null,
      "outputs": []
    },
    {
      "cell_type": "code",
      "metadata": {
        "colab": {
          "base_uri": "https://localhost:8080/"
        },
        "id": "sLEkOdRWHF1L",
        "outputId": "be05c921-8cbc-47e0-864d-e3dbf7558a6c"
      },
      "source": [
        "### This cell performs 10 Cross Validation , to get Accuracy\r\n",
        "## Test Accuracy = np.mean(scores)\r\n",
        "## Train Accuracy = np.mean(train_scores)\r\n",
        "scores, train_scores, model, r = KFoldCV(train_X,train_y, CONV_LSTM_model()) ## Write model type as third parameter"
      ],
      "execution_count": null,
      "outputs": [
        {
          "output_type": "stream",
          "text": [
            "/usr/local/lib/python3.7/dist-packages/sklearn/model_selection/_split.py:296: FutureWarning: Setting a random_state has no effect since shuffle is False. This will raise an error in 0.24. You should leave random_state to its default (None), or set shuffle=True.\n",
            "  FutureWarning\n"
          ],
          "name": "stderr"
        },
        {
          "output_type": "stream",
          "text": [
            "1\n",
            "Model: \"model_12\"\n",
            "_________________________________________________________________\n",
            "Layer (type)                 Output Shape              Param #   \n",
            "=================================================================\n",
            "input_13 (InputLayer)        [(None, 83, 1)]           0         \n",
            "_________________________________________________________________\n",
            "conv1d_28 (Conv1D)           (None, 81, 64)            256       \n",
            "_________________________________________________________________\n",
            "conv1d_29 (Conv1D)           (None, 79, 64)            12352     \n",
            "_________________________________________________________________\n",
            "conv1d_30 (Conv1D)           (None, 77, 128)           24704     \n",
            "_________________________________________________________________\n",
            "dropout_20 (Dropout)         (None, 77, 128)           0         \n",
            "_________________________________________________________________\n",
            "max_pooling1d_12 (MaxPooling (None, 38, 128)           0         \n",
            "_________________________________________________________________\n",
            "lstm_24 (LSTM)               (None, 38, 200)           263200    \n",
            "_________________________________________________________________\n",
            "lstm_25 (LSTM)               (None, 38, 200)           320800    \n",
            "_________________________________________________________________\n",
            "lstm_26 (LSTM)               (None, 200)               320800    \n",
            "_________________________________________________________________\n",
            "dropout_21 (Dropout)         (None, 200)               0         \n",
            "_________________________________________________________________\n",
            "dense_32 (Dense)             (None, 200)               40200     \n",
            "_________________________________________________________________\n",
            "dense_33 (Dense)             (None, 5)                 1005      \n",
            "=================================================================\n",
            "Total params: 983,317\n",
            "Trainable params: 983,317\n",
            "Non-trainable params: 0\n",
            "_________________________________________________________________\n",
            "None\n",
            "Epoch 1/30\n",
            "17/17 [==============================] - 7s 92ms/step - loss: 1.1868 - accuracy: 0.5128 - val_loss: 4.1944 - val_accuracy: 0.3220\n",
            "Epoch 2/30\n",
            "17/17 [==============================] - 0s 15ms/step - loss: 1.0279 - accuracy: 0.6177 - val_loss: 4.3875 - val_accuracy: 0.3220\n",
            "Epoch 3/30\n",
            "17/17 [==============================] - 0s 14ms/step - loss: 1.0051 - accuracy: 0.6231 - val_loss: 4.6188 - val_accuracy: 0.3220\n",
            "Epoch 4/30\n",
            "17/17 [==============================] - 0s 16ms/step - loss: 1.0148 - accuracy: 0.6227 - val_loss: 3.8814 - val_accuracy: 0.3220\n",
            "Epoch 5/30\n",
            "17/17 [==============================] - 0s 15ms/step - loss: 0.9687 - accuracy: 0.6333 - val_loss: 4.6814 - val_accuracy: 0.3220\n",
            "Epoch 6/30\n",
            "17/17 [==============================] - 0s 14ms/step - loss: 0.9637 - accuracy: 0.6531 - val_loss: 4.9305 - val_accuracy: 0.3220\n",
            "Epoch 7/30\n",
            "17/17 [==============================] - 0s 14ms/step - loss: 0.9154 - accuracy: 0.6605 - val_loss: 4.3503 - val_accuracy: 0.0847\n",
            "Epoch 8/30\n",
            "17/17 [==============================] - 0s 15ms/step - loss: 0.8990 - accuracy: 0.6615 - val_loss: 4.6339 - val_accuracy: 0.0169\n",
            "Epoch 9/30\n",
            "17/17 [==============================] - 0s 14ms/step - loss: 0.8740 - accuracy: 0.6281 - val_loss: 4.4606 - val_accuracy: 0.3220\n",
            "Epoch 10/30\n",
            "17/17 [==============================] - 0s 14ms/step - loss: 0.9228 - accuracy: 0.6363 - val_loss: 4.5826 - val_accuracy: 0.0339\n",
            "Epoch 11/30\n",
            "17/17 [==============================] - 0s 14ms/step - loss: 0.8991 - accuracy: 0.6225 - val_loss: 4.2624 - val_accuracy: 0.3051\n",
            "Epoch 12/30\n",
            "17/17 [==============================] - 0s 14ms/step - loss: 0.8816 - accuracy: 0.6391 - val_loss: 4.6174 - val_accuracy: 0.2881\n",
            "Epoch 13/30\n",
            "17/17 [==============================] - 0s 15ms/step - loss: 0.8906 - accuracy: 0.6593 - val_loss: 4.9556 - val_accuracy: 0.2373\n",
            "Epoch 14/30\n",
            "17/17 [==============================] - 0s 14ms/step - loss: 0.9055 - accuracy: 0.6555 - val_loss: 5.1785 - val_accuracy: 0.2542\n",
            "Epoch 15/30\n",
            "17/17 [==============================] - 0s 15ms/step - loss: 0.8628 - accuracy: 0.6510 - val_loss: 5.2527 - val_accuracy: 0.3051\n",
            "Epoch 16/30\n",
            "17/17 [==============================] - 0s 15ms/step - loss: 0.8596 - accuracy: 0.6533 - val_loss: 5.0191 - val_accuracy: 0.3220\n",
            "Epoch 17/30\n",
            "17/17 [==============================] - 0s 14ms/step - loss: 0.8782 - accuracy: 0.6684 - val_loss: 5.4469 - val_accuracy: 0.0339\n",
            "Epoch 18/30\n",
            "17/17 [==============================] - 0s 15ms/step - loss: 0.9268 - accuracy: 0.6384 - val_loss: 4.6420 - val_accuracy: 0.2203\n",
            "Epoch 19/30\n",
            "17/17 [==============================] - 0s 14ms/step - loss: 0.8279 - accuracy: 0.6799 - val_loss: 4.9857 - val_accuracy: 0.2881\n",
            "Epoch 20/30\n",
            "17/17 [==============================] - 0s 15ms/step - loss: 0.8784 - accuracy: 0.6616 - val_loss: 5.1910 - val_accuracy: 0.3220\n",
            "Epoch 21/30\n",
            "17/17 [==============================] - 0s 15ms/step - loss: 0.8635 - accuracy: 0.6574 - val_loss: 5.0804 - val_accuracy: 0.1356\n",
            "Epoch 22/30\n",
            "17/17 [==============================] - 0s 14ms/step - loss: 0.8426 - accuracy: 0.6528 - val_loss: 5.5687 - val_accuracy: 0.1186\n",
            "Epoch 23/30\n",
            "17/17 [==============================] - 0s 14ms/step - loss: 0.9038 - accuracy: 0.6416 - val_loss: 5.0912 - val_accuracy: 0.3220\n",
            "Epoch 24/30\n",
            "17/17 [==============================] - 0s 15ms/step - loss: 0.8402 - accuracy: 0.6728 - val_loss: 4.9498 - val_accuracy: 0.3051\n",
            "Epoch 25/30\n",
            "17/17 [==============================] - 0s 15ms/step - loss: 0.9033 - accuracy: 0.6515 - val_loss: 5.2115 - val_accuracy: 0.3220\n",
            "Epoch 26/30\n",
            "17/17 [==============================] - 0s 15ms/step - loss: 0.8453 - accuracy: 0.6665 - val_loss: 5.3173 - val_accuracy: 0.1017\n",
            "Epoch 27/30\n",
            "17/17 [==============================] - 0s 14ms/step - loss: 0.8804 - accuracy: 0.6496 - val_loss: 5.4249 - val_accuracy: 0.0339\n",
            "Epoch 28/30\n",
            "17/17 [==============================] - 0s 15ms/step - loss: 0.8534 - accuracy: 0.6700 - val_loss: 5.3990 - val_accuracy: 0.0678\n",
            "Epoch 29/30\n",
            "17/17 [==============================] - 0s 14ms/step - loss: 0.8697 - accuracy: 0.6434 - val_loss: 5.3669 - val_accuracy: 0.2712\n",
            "Epoch 30/30\n",
            "17/17 [==============================] - 0s 14ms/step - loss: 0.8521 - accuracy: 0.6643 - val_loss: 5.6799 - val_accuracy: 0.0678\n",
            "2\n",
            "Model: \"model_12\"\n",
            "_________________________________________________________________\n",
            "Layer (type)                 Output Shape              Param #   \n",
            "=================================================================\n",
            "input_13 (InputLayer)        [(None, 83, 1)]           0         \n",
            "_________________________________________________________________\n",
            "conv1d_28 (Conv1D)           (None, 81, 64)            256       \n",
            "_________________________________________________________________\n",
            "conv1d_29 (Conv1D)           (None, 79, 64)            12352     \n",
            "_________________________________________________________________\n",
            "conv1d_30 (Conv1D)           (None, 77, 128)           24704     \n",
            "_________________________________________________________________\n",
            "dropout_20 (Dropout)         (None, 77, 128)           0         \n",
            "_________________________________________________________________\n",
            "max_pooling1d_12 (MaxPooling (None, 38, 128)           0         \n",
            "_________________________________________________________________\n",
            "lstm_24 (LSTM)               (None, 38, 200)           263200    \n",
            "_________________________________________________________________\n",
            "lstm_25 (LSTM)               (None, 38, 200)           320800    \n",
            "_________________________________________________________________\n",
            "lstm_26 (LSTM)               (None, 200)               320800    \n",
            "_________________________________________________________________\n",
            "dropout_21 (Dropout)         (None, 200)               0         \n",
            "_________________________________________________________________\n",
            "dense_32 (Dense)             (None, 200)               40200     \n",
            "_________________________________________________________________\n",
            "dense_33 (Dense)             (None, 5)                 1005      \n",
            "=================================================================\n",
            "Total params: 983,317\n",
            "Trainable params: 983,317\n",
            "Non-trainable params: 0\n",
            "_________________________________________________________________\n",
            "None\n",
            "Epoch 1/30\n",
            "17/17 [==============================] - 5s 78ms/step - loss: 1.1521 - accuracy: 0.6387 - val_loss: 1.7577 - val_accuracy: 0.3729\n",
            "Epoch 2/30\n",
            "17/17 [==============================] - 0s 14ms/step - loss: 0.7897 - accuracy: 0.7656 - val_loss: 2.5503 - val_accuracy: 0.3390\n",
            "Epoch 3/30\n",
            "17/17 [==============================] - 0s 14ms/step - loss: 0.7758 - accuracy: 0.7255 - val_loss: 2.9893 - val_accuracy: 0.3051\n",
            "Epoch 4/30\n",
            "17/17 [==============================] - 0s 15ms/step - loss: 0.7378 - accuracy: 0.7431 - val_loss: 2.9723 - val_accuracy: 0.2712\n",
            "Epoch 5/30\n",
            "17/17 [==============================] - 0s 15ms/step - loss: 0.6908 - accuracy: 0.7727 - val_loss: 2.8543 - val_accuracy: 0.2542\n",
            "Epoch 6/30\n",
            "17/17 [==============================] - 0s 14ms/step - loss: 0.7194 - accuracy: 0.7510 - val_loss: 3.0868 - val_accuracy: 0.2542\n",
            "Epoch 7/30\n",
            "17/17 [==============================] - 0s 14ms/step - loss: 0.6765 - accuracy: 0.7731 - val_loss: 3.0002 - val_accuracy: 0.3220\n",
            "Epoch 8/30\n",
            "17/17 [==============================] - 0s 14ms/step - loss: 0.6829 - accuracy: 0.7632 - val_loss: 3.2920 - val_accuracy: 0.2712\n",
            "Epoch 9/30\n",
            "17/17 [==============================] - 0s 14ms/step - loss: 0.7541 - accuracy: 0.7280 - val_loss: 3.4616 - val_accuracy: 0.2881\n",
            "Epoch 10/30\n",
            "17/17 [==============================] - 0s 14ms/step - loss: 0.6996 - accuracy: 0.7537 - val_loss: 3.8755 - val_accuracy: 0.1864\n",
            "Epoch 11/30\n",
            "17/17 [==============================] - 0s 15ms/step - loss: 0.7426 - accuracy: 0.7351 - val_loss: 3.3976 - val_accuracy: 0.2881\n",
            "Epoch 12/30\n",
            "17/17 [==============================] - 0s 14ms/step - loss: 0.7305 - accuracy: 0.7466 - val_loss: 3.6662 - val_accuracy: 0.2203\n",
            "Epoch 13/30\n",
            "17/17 [==============================] - 0s 14ms/step - loss: 0.6957 - accuracy: 0.7505 - val_loss: 3.6415 - val_accuracy: 0.2373\n",
            "Epoch 14/30\n",
            "17/17 [==============================] - 0s 14ms/step - loss: 0.6690 - accuracy: 0.7707 - val_loss: 3.4625 - val_accuracy: 0.2373\n",
            "Epoch 15/30\n",
            "17/17 [==============================] - 0s 14ms/step - loss: 0.7854 - accuracy: 0.7116 - val_loss: 3.7309 - val_accuracy: 0.2373\n",
            "Epoch 16/30\n",
            "17/17 [==============================] - 0s 15ms/step - loss: 0.6646 - accuracy: 0.7620 - val_loss: 3.4313 - val_accuracy: 0.2034\n",
            "Epoch 17/30\n",
            "17/17 [==============================] - 0s 15ms/step - loss: 0.7016 - accuracy: 0.7505 - val_loss: 3.5759 - val_accuracy: 0.2034\n",
            "Epoch 18/30\n",
            "17/17 [==============================] - 0s 14ms/step - loss: 0.7341 - accuracy: 0.7299 - val_loss: 3.8037 - val_accuracy: 0.1864\n",
            "Epoch 19/30\n",
            "17/17 [==============================] - 0s 15ms/step - loss: 0.7141 - accuracy: 0.7482 - val_loss: 3.4355 - val_accuracy: 0.2542\n",
            "Epoch 20/30\n",
            "17/17 [==============================] - 0s 14ms/step - loss: 0.6415 - accuracy: 0.7874 - val_loss: 3.4331 - val_accuracy: 0.2712\n",
            "Epoch 21/30\n",
            "17/17 [==============================] - 0s 15ms/step - loss: 0.6582 - accuracy: 0.7865 - val_loss: 3.9310 - val_accuracy: 0.2542\n",
            "Epoch 22/30\n",
            "17/17 [==============================] - 0s 14ms/step - loss: 0.7079 - accuracy: 0.7545 - val_loss: 4.0820 - val_accuracy: 0.2203\n",
            "Epoch 23/30\n",
            "17/17 [==============================] - 0s 14ms/step - loss: 0.6591 - accuracy: 0.7617 - val_loss: 3.8437 - val_accuracy: 0.3051\n",
            "Epoch 24/30\n",
            "17/17 [==============================] - 0s 14ms/step - loss: 0.7018 - accuracy: 0.7596 - val_loss: 4.1214 - val_accuracy: 0.1864\n",
            "Epoch 25/30\n",
            "17/17 [==============================] - 0s 14ms/step - loss: 0.7153 - accuracy: 0.7369 - val_loss: 3.8362 - val_accuracy: 0.2203\n",
            "Epoch 26/30\n",
            "17/17 [==============================] - 0s 14ms/step - loss: 0.6624 - accuracy: 0.7546 - val_loss: 3.9951 - val_accuracy: 0.2034\n",
            "Epoch 27/30\n",
            "17/17 [==============================] - 0s 14ms/step - loss: 0.6649 - accuracy: 0.7572 - val_loss: 4.1299 - val_accuracy: 0.2203\n",
            "Epoch 28/30\n",
            "17/17 [==============================] - 0s 15ms/step - loss: 0.6039 - accuracy: 0.8005 - val_loss: 3.9393 - val_accuracy: 0.2373\n",
            "Epoch 29/30\n",
            "17/17 [==============================] - 0s 14ms/step - loss: 0.6871 - accuracy: 0.7546 - val_loss: 4.4196 - val_accuracy: 0.1864\n",
            "Epoch 30/30\n",
            "17/17 [==============================] - 0s 14ms/step - loss: 0.6657 - accuracy: 0.7588 - val_loss: 4.2444 - val_accuracy: 0.2542\n",
            "3\n",
            "Model: \"model_12\"\n",
            "_________________________________________________________________\n",
            "Layer (type)                 Output Shape              Param #   \n",
            "=================================================================\n",
            "input_13 (InputLayer)        [(None, 83, 1)]           0         \n",
            "_________________________________________________________________\n",
            "conv1d_28 (Conv1D)           (None, 81, 64)            256       \n",
            "_________________________________________________________________\n",
            "conv1d_29 (Conv1D)           (None, 79, 64)            12352     \n",
            "_________________________________________________________________\n",
            "conv1d_30 (Conv1D)           (None, 77, 128)           24704     \n",
            "_________________________________________________________________\n",
            "dropout_20 (Dropout)         (None, 77, 128)           0         \n",
            "_________________________________________________________________\n",
            "max_pooling1d_12 (MaxPooling (None, 38, 128)           0         \n",
            "_________________________________________________________________\n",
            "lstm_24 (LSTM)               (None, 38, 200)           263200    \n",
            "_________________________________________________________________\n",
            "lstm_25 (LSTM)               (None, 38, 200)           320800    \n",
            "_________________________________________________________________\n",
            "lstm_26 (LSTM)               (None, 200)               320800    \n",
            "_________________________________________________________________\n",
            "dropout_21 (Dropout)         (None, 200)               0         \n",
            "_________________________________________________________________\n",
            "dense_32 (Dense)             (None, 200)               40200     \n",
            "_________________________________________________________________\n",
            "dense_33 (Dense)             (None, 5)                 1005      \n",
            "=================================================================\n",
            "Total params: 983,317\n",
            "Trainable params: 983,317\n",
            "Non-trainable params: 0\n",
            "_________________________________________________________________\n",
            "None\n",
            "Epoch 1/30\n",
            "17/17 [==============================] - 5s 75ms/step - loss: 0.9515 - accuracy: 0.7478 - val_loss: 1.4701 - val_accuracy: 0.3390\n",
            "Epoch 2/30\n",
            "17/17 [==============================] - 0s 15ms/step - loss: 0.7809 - accuracy: 0.7352 - val_loss: 1.7932 - val_accuracy: 0.1864\n",
            "Epoch 3/30\n",
            "17/17 [==============================] - 0s 14ms/step - loss: 0.7244 - accuracy: 0.7590 - val_loss: 1.6992 - val_accuracy: 0.2881\n",
            "Epoch 4/30\n",
            "17/17 [==============================] - 0s 15ms/step - loss: 0.7177 - accuracy: 0.7491 - val_loss: 1.5203 - val_accuracy: 0.3220\n",
            "Epoch 5/30\n",
            "17/17 [==============================] - 0s 14ms/step - loss: 0.6516 - accuracy: 0.7839 - val_loss: 1.4497 - val_accuracy: 0.3559\n",
            "Epoch 6/30\n",
            "17/17 [==============================] - 0s 14ms/step - loss: 0.7063 - accuracy: 0.7747 - val_loss: 1.6996 - val_accuracy: 0.2712\n",
            "Epoch 7/30\n",
            "17/17 [==============================] - 0s 15ms/step - loss: 0.6520 - accuracy: 0.7819 - val_loss: 1.2203 - val_accuracy: 0.3898\n",
            "Epoch 8/30\n",
            "17/17 [==============================] - 0s 15ms/step - loss: 0.6483 - accuracy: 0.7741 - val_loss: 1.5614 - val_accuracy: 0.3051\n",
            "Epoch 9/30\n",
            "17/17 [==============================] - 0s 14ms/step - loss: 0.6194 - accuracy: 0.7860 - val_loss: 1.2780 - val_accuracy: 0.4407\n",
            "Epoch 10/30\n",
            "17/17 [==============================] - 0s 15ms/step - loss: 0.6551 - accuracy: 0.7615 - val_loss: 1.5764 - val_accuracy: 0.3898\n",
            "Epoch 11/30\n",
            "17/17 [==============================] - 0s 14ms/step - loss: 0.6403 - accuracy: 0.7712 - val_loss: 1.7350 - val_accuracy: 0.3220\n",
            "Epoch 12/30\n",
            "17/17 [==============================] - 0s 14ms/step - loss: 0.6881 - accuracy: 0.7659 - val_loss: 1.9176 - val_accuracy: 0.2712\n",
            "Epoch 13/30\n",
            "17/17 [==============================] - 0s 15ms/step - loss: 0.6267 - accuracy: 0.7881 - val_loss: 1.7943 - val_accuracy: 0.2712\n",
            "Epoch 14/30\n",
            "17/17 [==============================] - 0s 14ms/step - loss: 0.6383 - accuracy: 0.7703 - val_loss: 2.1561 - val_accuracy: 0.2542\n",
            "Epoch 15/30\n",
            "17/17 [==============================] - 0s 14ms/step - loss: 0.6561 - accuracy: 0.7668 - val_loss: 1.3141 - val_accuracy: 0.4915\n",
            "Epoch 16/30\n",
            "17/17 [==============================] - 0s 15ms/step - loss: 0.6073 - accuracy: 0.7866 - val_loss: 1.6727 - val_accuracy: 0.4237\n",
            "Epoch 17/30\n",
            "17/17 [==============================] - 0s 14ms/step - loss: 0.5703 - accuracy: 0.7967 - val_loss: 1.6861 - val_accuracy: 0.4576\n",
            "Epoch 18/30\n",
            "17/17 [==============================] - 0s 15ms/step - loss: 0.5209 - accuracy: 0.8266 - val_loss: 1.2092 - val_accuracy: 0.5763\n",
            "Epoch 19/30\n",
            "17/17 [==============================] - 0s 15ms/step - loss: 0.5955 - accuracy: 0.7703 - val_loss: 1.5739 - val_accuracy: 0.4576\n",
            "Epoch 20/30\n",
            "17/17 [==============================] - 0s 14ms/step - loss: 0.5821 - accuracy: 0.7947 - val_loss: 1.5366 - val_accuracy: 0.3390\n",
            "Epoch 21/30\n",
            "17/17 [==============================] - 0s 14ms/step - loss: 0.6432 - accuracy: 0.7717 - val_loss: 1.6328 - val_accuracy: 0.3390\n",
            "Epoch 22/30\n",
            "17/17 [==============================] - 0s 14ms/step - loss: 0.5403 - accuracy: 0.8161 - val_loss: 1.7336 - val_accuracy: 0.4576\n",
            "Epoch 23/30\n",
            "17/17 [==============================] - 0s 14ms/step - loss: 0.6339 - accuracy: 0.7851 - val_loss: 1.6030 - val_accuracy: 0.3729\n",
            "Epoch 24/30\n",
            "17/17 [==============================] - 0s 14ms/step - loss: 0.5855 - accuracy: 0.7974 - val_loss: 2.0850 - val_accuracy: 0.2542\n",
            "Epoch 25/30\n",
            "17/17 [==============================] - 0s 14ms/step - loss: 0.5796 - accuracy: 0.7982 - val_loss: 1.5508 - val_accuracy: 0.3898\n",
            "Epoch 26/30\n",
            "17/17 [==============================] - 0s 15ms/step - loss: 0.5406 - accuracy: 0.8159 - val_loss: 1.6343 - val_accuracy: 0.4068\n",
            "Epoch 27/30\n",
            "17/17 [==============================] - 0s 15ms/step - loss: 0.5268 - accuracy: 0.8194 - val_loss: 1.5761 - val_accuracy: 0.4407\n",
            "Epoch 28/30\n",
            "17/17 [==============================] - 0s 14ms/step - loss: 0.5053 - accuracy: 0.8133 - val_loss: 1.7269 - val_accuracy: 0.3729\n",
            "Epoch 29/30\n",
            "17/17 [==============================] - 0s 15ms/step - loss: 0.5301 - accuracy: 0.8039 - val_loss: 1.8134 - val_accuracy: 0.4407\n",
            "Epoch 30/30\n",
            "17/17 [==============================] - 0s 15ms/step - loss: 0.4996 - accuracy: 0.8145 - val_loss: 2.0000 - val_accuracy: 0.4068\n",
            "4\n",
            "Model: \"model_12\"\n",
            "_________________________________________________________________\n",
            "Layer (type)                 Output Shape              Param #   \n",
            "=================================================================\n",
            "input_13 (InputLayer)        [(None, 83, 1)]           0         \n",
            "_________________________________________________________________\n",
            "conv1d_28 (Conv1D)           (None, 81, 64)            256       \n",
            "_________________________________________________________________\n",
            "conv1d_29 (Conv1D)           (None, 79, 64)            12352     \n",
            "_________________________________________________________________\n",
            "conv1d_30 (Conv1D)           (None, 77, 128)           24704     \n",
            "_________________________________________________________________\n",
            "dropout_20 (Dropout)         (None, 77, 128)           0         \n",
            "_________________________________________________________________\n",
            "max_pooling1d_12 (MaxPooling (None, 38, 128)           0         \n",
            "_________________________________________________________________\n",
            "lstm_24 (LSTM)               (None, 38, 200)           263200    \n",
            "_________________________________________________________________\n",
            "lstm_25 (LSTM)               (None, 38, 200)           320800    \n",
            "_________________________________________________________________\n",
            "lstm_26 (LSTM)               (None, 200)               320800    \n",
            "_________________________________________________________________\n",
            "dropout_21 (Dropout)         (None, 200)               0         \n",
            "_________________________________________________________________\n",
            "dense_32 (Dense)             (None, 200)               40200     \n",
            "_________________________________________________________________\n",
            "dense_33 (Dense)             (None, 5)                 1005      \n",
            "=================================================================\n",
            "Total params: 983,317\n",
            "Trainable params: 983,317\n",
            "Non-trainable params: 0\n",
            "_________________________________________________________________\n",
            "None\n",
            "Epoch 1/30\n",
            "17/17 [==============================] - 5s 90ms/step - loss: 0.5791 - accuracy: 0.8161 - val_loss: 1.6544 - val_accuracy: 0.2759\n",
            "Epoch 2/30\n",
            "17/17 [==============================] - 0s 15ms/step - loss: 0.4828 - accuracy: 0.8274 - val_loss: 1.8743 - val_accuracy: 0.2241\n",
            "Epoch 3/30\n",
            "17/17 [==============================] - 0s 15ms/step - loss: 0.4642 - accuracy: 0.8452 - val_loss: 1.7847 - val_accuracy: 0.1724\n",
            "Epoch 4/30\n",
            "17/17 [==============================] - 0s 14ms/step - loss: 0.4883 - accuracy: 0.8468 - val_loss: 2.0133 - val_accuracy: 0.2414\n",
            "Epoch 5/30\n",
            "17/17 [==============================] - 0s 15ms/step - loss: 0.4858 - accuracy: 0.8352 - val_loss: 2.0496 - val_accuracy: 0.2241\n",
            "Epoch 6/30\n",
            "17/17 [==============================] - 0s 14ms/step - loss: 0.4065 - accuracy: 0.8759 - val_loss: 2.0626 - val_accuracy: 0.2241\n",
            "Epoch 7/30\n",
            "17/17 [==============================] - 0s 15ms/step - loss: 0.3740 - accuracy: 0.8670 - val_loss: 2.2989 - val_accuracy: 0.1897\n",
            "Epoch 8/30\n",
            "17/17 [==============================] - 0s 15ms/step - loss: 0.4721 - accuracy: 0.8337 - val_loss: 2.5172 - val_accuracy: 0.2414\n",
            "Epoch 9/30\n",
            "17/17 [==============================] - 0s 15ms/step - loss: 0.3791 - accuracy: 0.8635 - val_loss: 2.1437 - val_accuracy: 0.2069\n",
            "Epoch 10/30\n",
            "17/17 [==============================] - 0s 15ms/step - loss: 0.4603 - accuracy: 0.8492 - val_loss: 1.8192 - val_accuracy: 0.1207\n",
            "Epoch 11/30\n",
            "17/17 [==============================] - 0s 14ms/step - loss: 0.5338 - accuracy: 0.8067 - val_loss: 2.1058 - val_accuracy: 0.2414\n",
            "Epoch 12/30\n",
            "17/17 [==============================] - 0s 14ms/step - loss: 0.4512 - accuracy: 0.8316 - val_loss: 2.0809 - val_accuracy: 0.2586\n",
            "Epoch 13/30\n",
            "17/17 [==============================] - 0s 15ms/step - loss: 0.3672 - accuracy: 0.8802 - val_loss: 2.7121 - val_accuracy: 0.1724\n",
            "Epoch 14/30\n",
            "17/17 [==============================] - 0s 15ms/step - loss: 0.3750 - accuracy: 0.8687 - val_loss: 2.4344 - val_accuracy: 0.1897\n",
            "Epoch 15/30\n",
            "17/17 [==============================] - 0s 15ms/step - loss: 0.3861 - accuracy: 0.8627 - val_loss: 2.2956 - val_accuracy: 0.1207\n",
            "Epoch 16/30\n",
            "17/17 [==============================] - 0s 15ms/step - loss: 0.3502 - accuracy: 0.8867 - val_loss: 2.2857 - val_accuracy: 0.2069\n",
            "Epoch 17/30\n",
            "17/17 [==============================] - 0s 15ms/step - loss: 0.3234 - accuracy: 0.8928 - val_loss: 2.8223 - val_accuracy: 0.1897\n",
            "Epoch 18/30\n",
            "17/17 [==============================] - 0s 15ms/step - loss: 0.3372 - accuracy: 0.8808 - val_loss: 3.2885 - val_accuracy: 0.2241\n",
            "Epoch 19/30\n",
            "17/17 [==============================] - 0s 14ms/step - loss: 0.3457 - accuracy: 0.8678 - val_loss: 2.8007 - val_accuracy: 0.1897\n",
            "Epoch 20/30\n",
            "17/17 [==============================] - 0s 14ms/step - loss: 0.4017 - accuracy: 0.8804 - val_loss: 4.1122 - val_accuracy: 0.1552\n",
            "Epoch 21/30\n",
            "17/17 [==============================] - 0s 14ms/step - loss: 0.3398 - accuracy: 0.8746 - val_loss: 3.2928 - val_accuracy: 0.1897\n",
            "Epoch 22/30\n",
            "17/17 [==============================] - 0s 15ms/step - loss: 0.2795 - accuracy: 0.8885 - val_loss: 3.4949 - val_accuracy: 0.2069\n",
            "Epoch 23/30\n",
            "17/17 [==============================] - 0s 14ms/step - loss: 0.2959 - accuracy: 0.8940 - val_loss: 3.3591 - val_accuracy: 0.2241\n",
            "Epoch 24/30\n",
            "17/17 [==============================] - 0s 14ms/step - loss: 0.2941 - accuracy: 0.8930 - val_loss: 3.4722 - val_accuracy: 0.2069\n",
            "Epoch 25/30\n",
            "17/17 [==============================] - 0s 15ms/step - loss: 0.2522 - accuracy: 0.9118 - val_loss: 3.8324 - val_accuracy: 0.2241\n",
            "Epoch 26/30\n",
            "17/17 [==============================] - 0s 14ms/step - loss: 0.2609 - accuracy: 0.8881 - val_loss: 3.8402 - val_accuracy: 0.1724\n",
            "Epoch 27/30\n",
            "17/17 [==============================] - 0s 14ms/step - loss: 0.2968 - accuracy: 0.9011 - val_loss: 3.0758 - val_accuracy: 0.3448\n",
            "Epoch 28/30\n",
            "17/17 [==============================] - 0s 14ms/step - loss: 0.2680 - accuracy: 0.9082 - val_loss: 3.2450 - val_accuracy: 0.2069\n",
            "Epoch 29/30\n",
            "17/17 [==============================] - 0s 15ms/step - loss: 0.2802 - accuracy: 0.8961 - val_loss: 4.1013 - val_accuracy: 0.1897\n",
            "Epoch 30/30\n",
            "17/17 [==============================] - 0s 15ms/step - loss: 0.2712 - accuracy: 0.9086 - val_loss: 4.4074 - val_accuracy: 0.2586\n",
            "5\n",
            "Model: \"model_12\"\n",
            "_________________________________________________________________\n",
            "Layer (type)                 Output Shape              Param #   \n",
            "=================================================================\n",
            "input_13 (InputLayer)        [(None, 83, 1)]           0         \n",
            "_________________________________________________________________\n",
            "conv1d_28 (Conv1D)           (None, 81, 64)            256       \n",
            "_________________________________________________________________\n",
            "conv1d_29 (Conv1D)           (None, 79, 64)            12352     \n",
            "_________________________________________________________________\n",
            "conv1d_30 (Conv1D)           (None, 77, 128)           24704     \n",
            "_________________________________________________________________\n",
            "dropout_20 (Dropout)         (None, 77, 128)           0         \n",
            "_________________________________________________________________\n",
            "max_pooling1d_12 (MaxPooling (None, 38, 128)           0         \n",
            "_________________________________________________________________\n",
            "lstm_24 (LSTM)               (None, 38, 200)           263200    \n",
            "_________________________________________________________________\n",
            "lstm_25 (LSTM)               (None, 38, 200)           320800    \n",
            "_________________________________________________________________\n",
            "lstm_26 (LSTM)               (None, 200)               320800    \n",
            "_________________________________________________________________\n",
            "dropout_21 (Dropout)         (None, 200)               0         \n",
            "_________________________________________________________________\n",
            "dense_32 (Dense)             (None, 200)               40200     \n",
            "_________________________________________________________________\n",
            "dense_33 (Dense)             (None, 5)                 1005      \n",
            "=================================================================\n",
            "Total params: 983,317\n",
            "Trainable params: 983,317\n",
            "Non-trainable params: 0\n",
            "_________________________________________________________________\n",
            "None\n",
            "Epoch 1/30\n",
            "17/17 [==============================] - 5s 75ms/step - loss: 0.5502 - accuracy: 0.8522 - val_loss: 0.5342 - val_accuracy: 0.7931\n",
            "Epoch 2/30\n",
            "17/17 [==============================] - 0s 15ms/step - loss: 0.4443 - accuracy: 0.8391 - val_loss: 0.3970 - val_accuracy: 0.8621\n",
            "Epoch 3/30\n",
            "17/17 [==============================] - 0s 14ms/step - loss: 0.4452 - accuracy: 0.8474 - val_loss: 0.5554 - val_accuracy: 0.7241\n",
            "Epoch 4/30\n",
            "17/17 [==============================] - 0s 14ms/step - loss: 0.4328 - accuracy: 0.8504 - val_loss: 0.5338 - val_accuracy: 0.7759\n",
            "Epoch 5/30\n",
            "17/17 [==============================] - 0s 14ms/step - loss: 0.3468 - accuracy: 0.8901 - val_loss: 0.4732 - val_accuracy: 0.8621\n",
            "Epoch 6/30\n",
            "17/17 [==============================] - 0s 14ms/step - loss: 0.2742 - accuracy: 0.9235 - val_loss: 0.5344 - val_accuracy: 0.7759\n",
            "Epoch 7/30\n",
            "17/17 [==============================] - 0s 14ms/step - loss: 0.2957 - accuracy: 0.9165 - val_loss: 0.6927 - val_accuracy: 0.7069\n",
            "Epoch 8/30\n",
            "17/17 [==============================] - 0s 14ms/step - loss: 0.3768 - accuracy: 0.8461 - val_loss: 0.5055 - val_accuracy: 0.7241\n",
            "Epoch 9/30\n",
            "17/17 [==============================] - 0s 14ms/step - loss: 0.3357 - accuracy: 0.8809 - val_loss: 0.6523 - val_accuracy: 0.6897\n",
            "Epoch 10/30\n",
            "17/17 [==============================] - 0s 15ms/step - loss: 0.3651 - accuracy: 0.8787 - val_loss: 0.4440 - val_accuracy: 0.8276\n",
            "Epoch 11/30\n",
            "17/17 [==============================] - 0s 14ms/step - loss: 0.2825 - accuracy: 0.9022 - val_loss: 0.5404 - val_accuracy: 0.8103\n",
            "Epoch 12/30\n",
            "17/17 [==============================] - 0s 15ms/step - loss: 0.2688 - accuracy: 0.9099 - val_loss: 0.6592 - val_accuracy: 0.7241\n",
            "Epoch 13/30\n",
            "17/17 [==============================] - 0s 15ms/step - loss: 0.2338 - accuracy: 0.9267 - val_loss: 0.6441 - val_accuracy: 0.7414\n",
            "Epoch 14/30\n",
            "17/17 [==============================] - 0s 14ms/step - loss: 0.3200 - accuracy: 0.8981 - val_loss: 0.5178 - val_accuracy: 0.7759\n",
            "Epoch 15/30\n",
            "17/17 [==============================] - 0s 14ms/step - loss: 0.4411 - accuracy: 0.8497 - val_loss: 0.7255 - val_accuracy: 0.7414\n",
            "Epoch 16/30\n",
            "17/17 [==============================] - 0s 14ms/step - loss: 0.3318 - accuracy: 0.8943 - val_loss: 0.5425 - val_accuracy: 0.7931\n",
            "Epoch 17/30\n",
            "17/17 [==============================] - 0s 14ms/step - loss: 0.2553 - accuracy: 0.9144 - val_loss: 0.5677 - val_accuracy: 0.7931\n",
            "Epoch 18/30\n",
            "17/17 [==============================] - 0s 14ms/step - loss: 0.1862 - accuracy: 0.9216 - val_loss: 0.7229 - val_accuracy: 0.7241\n",
            "Epoch 19/30\n",
            "17/17 [==============================] - 0s 14ms/step - loss: 0.2467 - accuracy: 0.9214 - val_loss: 0.8699 - val_accuracy: 0.6379\n",
            "Epoch 20/30\n",
            "17/17 [==============================] - 0s 14ms/step - loss: 0.2744 - accuracy: 0.9028 - val_loss: 0.6107 - val_accuracy: 0.7414\n",
            "Epoch 21/30\n",
            "17/17 [==============================] - 0s 14ms/step - loss: 0.2590 - accuracy: 0.9097 - val_loss: 0.5014 - val_accuracy: 0.7414\n",
            "Epoch 22/30\n",
            "17/17 [==============================] - 0s 14ms/step - loss: 0.2410 - accuracy: 0.9134 - val_loss: 0.6288 - val_accuracy: 0.7414\n",
            "Epoch 23/30\n",
            "17/17 [==============================] - 0s 15ms/step - loss: 0.3119 - accuracy: 0.8906 - val_loss: 0.6053 - val_accuracy: 0.7586\n",
            "Epoch 24/30\n",
            "17/17 [==============================] - 0s 15ms/step - loss: 0.1789 - accuracy: 0.9274 - val_loss: 0.6470 - val_accuracy: 0.7586\n",
            "Epoch 25/30\n",
            "17/17 [==============================] - 0s 14ms/step - loss: 0.1704 - accuracy: 0.9341 - val_loss: 1.3440 - val_accuracy: 0.6207\n",
            "Epoch 26/30\n",
            "17/17 [==============================] - 0s 14ms/step - loss: 0.2728 - accuracy: 0.9216 - val_loss: 0.6077 - val_accuracy: 0.7586\n",
            "Epoch 27/30\n",
            "17/17 [==============================] - 0s 15ms/step - loss: 0.1618 - accuracy: 0.9534 - val_loss: 0.6069 - val_accuracy: 0.7241\n",
            "Epoch 28/30\n",
            "17/17 [==============================] - 0s 14ms/step - loss: 0.1675 - accuracy: 0.9448 - val_loss: 0.8448 - val_accuracy: 0.6724\n",
            "Epoch 29/30\n",
            "17/17 [==============================] - 0s 14ms/step - loss: 0.1376 - accuracy: 0.9442 - val_loss: 0.9184 - val_accuracy: 0.7414\n",
            "Epoch 30/30\n",
            "17/17 [==============================] - 0s 14ms/step - loss: 0.1748 - accuracy: 0.9377 - val_loss: 0.6228 - val_accuracy: 0.7414\n",
            "6\n",
            "Model: \"model_12\"\n",
            "_________________________________________________________________\n",
            "Layer (type)                 Output Shape              Param #   \n",
            "=================================================================\n",
            "input_13 (InputLayer)        [(None, 83, 1)]           0         \n",
            "_________________________________________________________________\n",
            "conv1d_28 (Conv1D)           (None, 81, 64)            256       \n",
            "_________________________________________________________________\n",
            "conv1d_29 (Conv1D)           (None, 79, 64)            12352     \n",
            "_________________________________________________________________\n",
            "conv1d_30 (Conv1D)           (None, 77, 128)           24704     \n",
            "_________________________________________________________________\n",
            "dropout_20 (Dropout)         (None, 77, 128)           0         \n",
            "_________________________________________________________________\n",
            "max_pooling1d_12 (MaxPooling (None, 38, 128)           0         \n",
            "_________________________________________________________________\n",
            "lstm_24 (LSTM)               (None, 38, 200)           263200    \n",
            "_________________________________________________________________\n",
            "lstm_25 (LSTM)               (None, 38, 200)           320800    \n",
            "_________________________________________________________________\n",
            "lstm_26 (LSTM)               (None, 200)               320800    \n",
            "_________________________________________________________________\n",
            "dropout_21 (Dropout)         (None, 200)               0         \n",
            "_________________________________________________________________\n",
            "dense_32 (Dense)             (None, 200)               40200     \n",
            "_________________________________________________________________\n",
            "dense_33 (Dense)             (None, 5)                 1005      \n",
            "=================================================================\n",
            "Total params: 983,317\n",
            "Trainable params: 983,317\n",
            "Non-trainable params: 0\n",
            "_________________________________________________________________\n",
            "None\n",
            "Epoch 1/30\n",
            "17/17 [==============================] - 5s 77ms/step - loss: 0.2455 - accuracy: 0.9133 - val_loss: 0.3028 - val_accuracy: 0.8793\n",
            "Epoch 2/30\n",
            "17/17 [==============================] - 0s 15ms/step - loss: 0.1998 - accuracy: 0.9218 - val_loss: 0.2587 - val_accuracy: 0.9310\n",
            "Epoch 3/30\n",
            "17/17 [==============================] - 0s 15ms/step - loss: 0.1707 - accuracy: 0.9418 - val_loss: 0.1330 - val_accuracy: 0.9828\n",
            "Epoch 4/30\n",
            "17/17 [==============================] - 0s 15ms/step - loss: 0.1307 - accuracy: 0.9485 - val_loss: 0.1370 - val_accuracy: 0.9483\n",
            "Epoch 5/30\n",
            "17/17 [==============================] - 0s 15ms/step - loss: 0.1063 - accuracy: 0.9603 - val_loss: 0.1522 - val_accuracy: 0.9655\n",
            "Epoch 6/30\n",
            "17/17 [==============================] - 0s 15ms/step - loss: 0.1238 - accuracy: 0.9584 - val_loss: 0.2398 - val_accuracy: 0.9828\n",
            "Epoch 7/30\n",
            "17/17 [==============================] - 0s 14ms/step - loss: 0.1016 - accuracy: 0.9623 - val_loss: 0.2041 - val_accuracy: 0.9828\n",
            "Epoch 8/30\n",
            "17/17 [==============================] - 0s 15ms/step - loss: 0.1148 - accuracy: 0.9560 - val_loss: 0.1174 - val_accuracy: 0.9655\n",
            "Epoch 9/30\n",
            "17/17 [==============================] - 0s 15ms/step - loss: 0.1652 - accuracy: 0.9409 - val_loss: 0.2797 - val_accuracy: 0.9138\n",
            "Epoch 10/30\n",
            "17/17 [==============================] - 0s 14ms/step - loss: 0.2650 - accuracy: 0.9011 - val_loss: 0.3587 - val_accuracy: 0.7931\n",
            "Epoch 11/30\n",
            "17/17 [==============================] - 0s 14ms/step - loss: 0.2160 - accuracy: 0.9285 - val_loss: 0.1015 - val_accuracy: 0.9655\n",
            "Epoch 12/30\n",
            "17/17 [==============================] - 0s 15ms/step - loss: 0.1694 - accuracy: 0.9448 - val_loss: 0.2227 - val_accuracy: 0.8966\n",
            "Epoch 13/30\n",
            "17/17 [==============================] - 0s 15ms/step - loss: 0.1386 - accuracy: 0.9406 - val_loss: 0.1123 - val_accuracy: 0.9828\n",
            "Epoch 14/30\n",
            "17/17 [==============================] - 0s 15ms/step - loss: 0.1363 - accuracy: 0.9461 - val_loss: 0.0967 - val_accuracy: 0.9828\n",
            "Epoch 15/30\n",
            "17/17 [==============================] - 0s 15ms/step - loss: 0.2082 - accuracy: 0.9225 - val_loss: 0.1724 - val_accuracy: 0.8966\n",
            "Epoch 16/30\n",
            "17/17 [==============================] - 0s 15ms/step - loss: 0.1808 - accuracy: 0.9423 - val_loss: 0.1213 - val_accuracy: 0.9828\n",
            "Epoch 17/30\n",
            "17/17 [==============================] - 0s 14ms/step - loss: 0.1003 - accuracy: 0.9713 - val_loss: 0.2430 - val_accuracy: 0.8621\n",
            "Epoch 18/30\n",
            "17/17 [==============================] - 0s 15ms/step - loss: 0.0816 - accuracy: 0.9674 - val_loss: 0.5171 - val_accuracy: 0.7759\n",
            "Epoch 19/30\n",
            "17/17 [==============================] - 0s 15ms/step - loss: 0.1286 - accuracy: 0.9557 - val_loss: 0.4162 - val_accuracy: 0.8448\n",
            "Epoch 20/30\n",
            "17/17 [==============================] - 0s 16ms/step - loss: 0.1114 - accuracy: 0.9517 - val_loss: 0.1761 - val_accuracy: 0.9138\n",
            "Epoch 21/30\n",
            "17/17 [==============================] - 0s 15ms/step - loss: 0.0876 - accuracy: 0.9630 - val_loss: 0.3528 - val_accuracy: 0.8276\n",
            "Epoch 22/30\n",
            "17/17 [==============================] - 0s 15ms/step - loss: 0.1663 - accuracy: 0.9314 - val_loss: 0.4507 - val_accuracy: 0.8793\n",
            "Epoch 23/30\n",
            "17/17 [==============================] - 0s 15ms/step - loss: 0.0924 - accuracy: 0.9584 - val_loss: 0.0796 - val_accuracy: 0.9483\n",
            "Epoch 24/30\n",
            "17/17 [==============================] - 0s 16ms/step - loss: 0.0892 - accuracy: 0.9677 - val_loss: 0.4027 - val_accuracy: 0.8276\n",
            "Epoch 25/30\n",
            "17/17 [==============================] - 0s 15ms/step - loss: 0.1242 - accuracy: 0.9569 - val_loss: 0.2518 - val_accuracy: 0.8621\n",
            "Epoch 26/30\n",
            "17/17 [==============================] - 0s 14ms/step - loss: 0.1092 - accuracy: 0.9611 - val_loss: 0.1211 - val_accuracy: 0.9483\n",
            "Epoch 27/30\n",
            "17/17 [==============================] - 0s 15ms/step - loss: 0.0773 - accuracy: 0.9756 - val_loss: 0.2219 - val_accuracy: 0.8966\n",
            "Epoch 28/30\n",
            "17/17 [==============================] - 0s 15ms/step - loss: 0.0708 - accuracy: 0.9774 - val_loss: 0.2229 - val_accuracy: 0.8621\n",
            "Epoch 29/30\n",
            "17/17 [==============================] - 0s 16ms/step - loss: 0.1164 - accuracy: 0.9637 - val_loss: 0.3709 - val_accuracy: 0.8621\n",
            "Epoch 30/30\n",
            "17/17 [==============================] - 0s 15ms/step - loss: 0.0685 - accuracy: 0.9728 - val_loss: 0.4120 - val_accuracy: 0.8103\n",
            "7\n",
            "Model: \"model_12\"\n",
            "_________________________________________________________________\n",
            "Layer (type)                 Output Shape              Param #   \n",
            "=================================================================\n",
            "input_13 (InputLayer)        [(None, 83, 1)]           0         \n",
            "_________________________________________________________________\n",
            "conv1d_28 (Conv1D)           (None, 81, 64)            256       \n",
            "_________________________________________________________________\n",
            "conv1d_29 (Conv1D)           (None, 79, 64)            12352     \n",
            "_________________________________________________________________\n",
            "conv1d_30 (Conv1D)           (None, 77, 128)           24704     \n",
            "_________________________________________________________________\n",
            "dropout_20 (Dropout)         (None, 77, 128)           0         \n",
            "_________________________________________________________________\n",
            "max_pooling1d_12 (MaxPooling (None, 38, 128)           0         \n",
            "_________________________________________________________________\n",
            "lstm_24 (LSTM)               (None, 38, 200)           263200    \n",
            "_________________________________________________________________\n",
            "lstm_25 (LSTM)               (None, 38, 200)           320800    \n",
            "_________________________________________________________________\n",
            "lstm_26 (LSTM)               (None, 200)               320800    \n",
            "_________________________________________________________________\n",
            "dropout_21 (Dropout)         (None, 200)               0         \n",
            "_________________________________________________________________\n",
            "dense_32 (Dense)             (None, 200)               40200     \n",
            "_________________________________________________________________\n",
            "dense_33 (Dense)             (None, 5)                 1005      \n",
            "=================================================================\n",
            "Total params: 983,317\n",
            "Trainable params: 983,317\n",
            "Non-trainable params: 0\n",
            "_________________________________________________________________\n",
            "None\n",
            "Epoch 1/30\n",
            "17/17 [==============================] - 5s 76ms/step - loss: 0.1771 - accuracy: 0.9359 - val_loss: 0.0761 - val_accuracy: 0.9483\n",
            "Epoch 2/30\n",
            "17/17 [==============================] - 0s 15ms/step - loss: 0.2071 - accuracy: 0.9299 - val_loss: 0.0979 - val_accuracy: 0.9828\n",
            "Epoch 3/30\n",
            "17/17 [==============================] - 0s 15ms/step - loss: 0.1032 - accuracy: 0.9653 - val_loss: 0.0976 - val_accuracy: 0.9655\n",
            "Epoch 4/30\n",
            "17/17 [==============================] - 0s 14ms/step - loss: 0.0563 - accuracy: 0.9767 - val_loss: 0.0501 - val_accuracy: 0.9655\n",
            "Epoch 5/30\n",
            "17/17 [==============================] - 0s 14ms/step - loss: 0.0582 - accuracy: 0.9781 - val_loss: 0.3182 - val_accuracy: 0.8966\n",
            "Epoch 6/30\n",
            "17/17 [==============================] - 0s 15ms/step - loss: 0.1189 - accuracy: 0.9644 - val_loss: 0.0865 - val_accuracy: 0.9655\n",
            "Epoch 7/30\n",
            "17/17 [==============================] - 0s 14ms/step - loss: 0.1553 - accuracy: 0.9470 - val_loss: 0.0262 - val_accuracy: 1.0000\n",
            "Epoch 8/30\n",
            "17/17 [==============================] - 0s 15ms/step - loss: 0.0837 - accuracy: 0.9799 - val_loss: 0.2078 - val_accuracy: 0.9483\n",
            "Epoch 9/30\n",
            "17/17 [==============================] - 0s 15ms/step - loss: 0.1116 - accuracy: 0.9712 - val_loss: 0.2390 - val_accuracy: 0.8966\n",
            "Epoch 10/30\n",
            "17/17 [==============================] - 0s 14ms/step - loss: 0.1391 - accuracy: 0.9579 - val_loss: 0.0857 - val_accuracy: 0.9483\n",
            "Epoch 11/30\n",
            "17/17 [==============================] - 0s 15ms/step - loss: 0.0715 - accuracy: 0.9758 - val_loss: 0.2409 - val_accuracy: 0.9138\n",
            "Epoch 12/30\n",
            "17/17 [==============================] - 0s 15ms/step - loss: 0.0628 - accuracy: 0.9770 - val_loss: 0.0424 - val_accuracy: 0.9828\n",
            "Epoch 13/30\n",
            "17/17 [==============================] - 0s 16ms/step - loss: 0.0537 - accuracy: 0.9755 - val_loss: 0.0590 - val_accuracy: 0.9655\n",
            "Epoch 14/30\n",
            "17/17 [==============================] - 0s 16ms/step - loss: 0.0687 - accuracy: 0.9723 - val_loss: 0.3291 - val_accuracy: 0.8966\n",
            "Epoch 15/30\n",
            "17/17 [==============================] - 0s 15ms/step - loss: 0.1004 - accuracy: 0.9716 - val_loss: 0.1887 - val_accuracy: 0.9138\n",
            "Epoch 16/30\n",
            "17/17 [==============================] - 0s 14ms/step - loss: 0.0531 - accuracy: 0.9751 - val_loss: 0.2693 - val_accuracy: 0.9310\n",
            "Epoch 17/30\n",
            "17/17 [==============================] - 0s 15ms/step - loss: 0.1054 - accuracy: 0.9536 - val_loss: 0.2570 - val_accuracy: 0.9310\n",
            "Epoch 18/30\n",
            "17/17 [==============================] - 0s 15ms/step - loss: 0.1178 - accuracy: 0.9627 - val_loss: 0.1888 - val_accuracy: 0.9138\n",
            "Epoch 19/30\n",
            "17/17 [==============================] - 0s 15ms/step - loss: 0.1119 - accuracy: 0.9581 - val_loss: 0.1141 - val_accuracy: 0.9483\n",
            "Epoch 20/30\n",
            "17/17 [==============================] - 0s 15ms/step - loss: 0.0758 - accuracy: 0.9674 - val_loss: 0.0735 - val_accuracy: 0.9655\n",
            "Epoch 21/30\n",
            "17/17 [==============================] - 0s 15ms/step - loss: 0.0342 - accuracy: 0.9821 - val_loss: 0.1928 - val_accuracy: 0.8966\n",
            "Epoch 22/30\n",
            "17/17 [==============================] - 0s 15ms/step - loss: 0.0323 - accuracy: 0.9955 - val_loss: 0.0717 - val_accuracy: 0.9655\n",
            "Epoch 23/30\n",
            "17/17 [==============================] - 0s 16ms/step - loss: 0.0459 - accuracy: 0.9888 - val_loss: 0.5586 - val_accuracy: 0.8103\n",
            "Epoch 24/30\n",
            "17/17 [==============================] - 0s 15ms/step - loss: 0.0258 - accuracy: 0.9914 - val_loss: 0.1623 - val_accuracy: 0.9483\n",
            "Epoch 25/30\n",
            "17/17 [==============================] - 0s 15ms/step - loss: 0.0923 - accuracy: 0.9748 - val_loss: 0.1559 - val_accuracy: 0.9138\n",
            "Epoch 26/30\n",
            "17/17 [==============================] - 0s 15ms/step - loss: 0.0557 - accuracy: 0.9763 - val_loss: 0.2319 - val_accuracy: 0.9483\n",
            "Epoch 27/30\n",
            "17/17 [==============================] - 0s 14ms/step - loss: 0.0721 - accuracy: 0.9773 - val_loss: 0.1564 - val_accuracy: 0.9655\n",
            "Epoch 28/30\n",
            "17/17 [==============================] - 0s 15ms/step - loss: 0.0524 - accuracy: 0.9727 - val_loss: 0.3609 - val_accuracy: 0.8966\n",
            "Epoch 29/30\n",
            "17/17 [==============================] - 0s 15ms/step - loss: 0.0838 - accuracy: 0.9721 - val_loss: 0.1099 - val_accuracy: 0.9483\n",
            "Epoch 30/30\n",
            "17/17 [==============================] - 0s 16ms/step - loss: 0.0646 - accuracy: 0.9749 - val_loss: 0.1754 - val_accuracy: 0.9483\n",
            "8\n",
            "Model: \"model_12\"\n",
            "_________________________________________________________________\n",
            "Layer (type)                 Output Shape              Param #   \n",
            "=================================================================\n",
            "input_13 (InputLayer)        [(None, 83, 1)]           0         \n",
            "_________________________________________________________________\n",
            "conv1d_28 (Conv1D)           (None, 81, 64)            256       \n",
            "_________________________________________________________________\n",
            "conv1d_29 (Conv1D)           (None, 79, 64)            12352     \n",
            "_________________________________________________________________\n",
            "conv1d_30 (Conv1D)           (None, 77, 128)           24704     \n",
            "_________________________________________________________________\n",
            "dropout_20 (Dropout)         (None, 77, 128)           0         \n",
            "_________________________________________________________________\n",
            "max_pooling1d_12 (MaxPooling (None, 38, 128)           0         \n",
            "_________________________________________________________________\n",
            "lstm_24 (LSTM)               (None, 38, 200)           263200    \n",
            "_________________________________________________________________\n",
            "lstm_25 (LSTM)               (None, 38, 200)           320800    \n",
            "_________________________________________________________________\n",
            "lstm_26 (LSTM)               (None, 200)               320800    \n",
            "_________________________________________________________________\n",
            "dropout_21 (Dropout)         (None, 200)               0         \n",
            "_________________________________________________________________\n",
            "dense_32 (Dense)             (None, 200)               40200     \n",
            "_________________________________________________________________\n",
            "dense_33 (Dense)             (None, 5)                 1005      \n",
            "=================================================================\n",
            "Total params: 983,317\n",
            "Trainable params: 983,317\n",
            "Non-trainable params: 0\n",
            "_________________________________________________________________\n",
            "None\n",
            "Epoch 1/30\n",
            "17/17 [==============================] - 5s 79ms/step - loss: 0.1249 - accuracy: 0.9696 - val_loss: 0.0054 - val_accuracy: 1.0000\n",
            "Epoch 2/30\n",
            "17/17 [==============================] - 0s 15ms/step - loss: 0.0558 - accuracy: 0.9745 - val_loss: 0.0175 - val_accuracy: 1.0000\n",
            "Epoch 3/30\n",
            "17/17 [==============================] - 0s 15ms/step - loss: 0.0423 - accuracy: 0.9823 - val_loss: 0.0223 - val_accuracy: 1.0000\n",
            "Epoch 4/30\n",
            "17/17 [==============================] - 0s 15ms/step - loss: 0.1416 - accuracy: 0.9629 - val_loss: 0.0543 - val_accuracy: 1.0000\n",
            "Epoch 5/30\n",
            "17/17 [==============================] - 0s 15ms/step - loss: 0.0787 - accuracy: 0.9716 - val_loss: 0.0354 - val_accuracy: 1.0000\n",
            "Epoch 6/30\n",
            "17/17 [==============================] - 0s 15ms/step - loss: 0.0703 - accuracy: 0.9763 - val_loss: 0.0132 - val_accuracy: 1.0000\n",
            "Epoch 7/30\n",
            "17/17 [==============================] - 0s 15ms/step - loss: 0.0590 - accuracy: 0.9838 - val_loss: 0.0148 - val_accuracy: 1.0000\n",
            "Epoch 8/30\n",
            "17/17 [==============================] - 0s 14ms/step - loss: 0.1008 - accuracy: 0.9606 - val_loss: 0.1304 - val_accuracy: 0.9655\n",
            "Epoch 9/30\n",
            "17/17 [==============================] - 0s 15ms/step - loss: 0.0862 - accuracy: 0.9680 - val_loss: 0.3418 - val_accuracy: 0.8966\n",
            "Epoch 10/30\n",
            "17/17 [==============================] - 0s 16ms/step - loss: 0.1904 - accuracy: 0.9557 - val_loss: 0.0761 - val_accuracy: 0.9655\n",
            "Epoch 11/30\n",
            "17/17 [==============================] - 0s 16ms/step - loss: 0.1302 - accuracy: 0.9513 - val_loss: 0.1142 - val_accuracy: 0.9483\n",
            "Epoch 12/30\n",
            "17/17 [==============================] - 0s 15ms/step - loss: 0.0989 - accuracy: 0.9607 - val_loss: 0.2041 - val_accuracy: 0.8966\n",
            "Epoch 13/30\n",
            "17/17 [==============================] - 0s 15ms/step - loss: 0.0484 - accuracy: 0.9812 - val_loss: 0.1482 - val_accuracy: 0.8793\n",
            "Epoch 14/30\n",
            "17/17 [==============================] - 0s 16ms/step - loss: 0.0621 - accuracy: 0.9841 - val_loss: 0.0140 - val_accuracy: 1.0000\n",
            "Epoch 15/30\n",
            "17/17 [==============================] - 0s 15ms/step - loss: 0.0649 - accuracy: 0.9756 - val_loss: 0.1833 - val_accuracy: 0.9483\n",
            "Epoch 16/30\n",
            "17/17 [==============================] - 0s 14ms/step - loss: 0.0310 - accuracy: 0.9912 - val_loss: 0.3242 - val_accuracy: 0.8793\n",
            "Epoch 17/30\n",
            "17/17 [==============================] - 0s 14ms/step - loss: 0.0363 - accuracy: 0.9821 - val_loss: 0.0038 - val_accuracy: 1.0000\n",
            "Epoch 18/30\n",
            "17/17 [==============================] - 0s 17ms/step - loss: 0.0167 - accuracy: 0.9936 - val_loss: 0.3399 - val_accuracy: 0.8793\n",
            "Epoch 19/30\n",
            "17/17 [==============================] - 0s 15ms/step - loss: 0.0471 - accuracy: 0.9887 - val_loss: 0.2578 - val_accuracy: 0.9138\n",
            "Epoch 20/30\n",
            "17/17 [==============================] - 0s 14ms/step - loss: 0.0365 - accuracy: 0.9818 - val_loss: 0.0085 - val_accuracy: 1.0000\n",
            "Epoch 21/30\n",
            "17/17 [==============================] - 0s 15ms/step - loss: 0.0449 - accuracy: 0.9791 - val_loss: 0.2520 - val_accuracy: 0.8448\n",
            "Epoch 22/30\n",
            "17/17 [==============================] - 0s 15ms/step - loss: 0.0299 - accuracy: 0.9940 - val_loss: 0.0243 - val_accuracy: 0.9828\n",
            "Epoch 23/30\n",
            "17/17 [==============================] - 0s 14ms/step - loss: 0.0247 - accuracy: 0.9897 - val_loss: 0.0812 - val_accuracy: 0.9655\n",
            "Epoch 24/30\n",
            "17/17 [==============================] - 0s 15ms/step - loss: 0.0165 - accuracy: 0.9955 - val_loss: 0.0060 - val_accuracy: 1.0000\n",
            "Epoch 25/30\n",
            "17/17 [==============================] - 0s 16ms/step - loss: 0.0271 - accuracy: 0.9909 - val_loss: 0.0255 - val_accuracy: 1.0000\n",
            "Epoch 26/30\n",
            "17/17 [==============================] - 0s 15ms/step - loss: 0.0698 - accuracy: 0.9802 - val_loss: 0.2933 - val_accuracy: 0.8621\n",
            "Epoch 27/30\n",
            "17/17 [==============================] - 0s 15ms/step - loss: 0.0566 - accuracy: 0.9807 - val_loss: 0.0440 - val_accuracy: 0.9828\n",
            "Epoch 28/30\n",
            "17/17 [==============================] - 0s 15ms/step - loss: 0.0310 - accuracy: 0.9970 - val_loss: 0.0514 - val_accuracy: 1.0000\n",
            "Epoch 29/30\n",
            "17/17 [==============================] - 0s 15ms/step - loss: 0.0139 - accuracy: 0.9970 - val_loss: 0.1385 - val_accuracy: 0.9483\n",
            "Epoch 30/30\n",
            "17/17 [==============================] - 0s 15ms/step - loss: 0.0389 - accuracy: 0.9914 - val_loss: 0.0105 - val_accuracy: 1.0000\n",
            "9\n",
            "Model: \"model_12\"\n",
            "_________________________________________________________________\n",
            "Layer (type)                 Output Shape              Param #   \n",
            "=================================================================\n",
            "input_13 (InputLayer)        [(None, 83, 1)]           0         \n",
            "_________________________________________________________________\n",
            "conv1d_28 (Conv1D)           (None, 81, 64)            256       \n",
            "_________________________________________________________________\n",
            "conv1d_29 (Conv1D)           (None, 79, 64)            12352     \n",
            "_________________________________________________________________\n",
            "conv1d_30 (Conv1D)           (None, 77, 128)           24704     \n",
            "_________________________________________________________________\n",
            "dropout_20 (Dropout)         (None, 77, 128)           0         \n",
            "_________________________________________________________________\n",
            "max_pooling1d_12 (MaxPooling (None, 38, 128)           0         \n",
            "_________________________________________________________________\n",
            "lstm_24 (LSTM)               (None, 38, 200)           263200    \n",
            "_________________________________________________________________\n",
            "lstm_25 (LSTM)               (None, 38, 200)           320800    \n",
            "_________________________________________________________________\n",
            "lstm_26 (LSTM)               (None, 200)               320800    \n",
            "_________________________________________________________________\n",
            "dropout_21 (Dropout)         (None, 200)               0         \n",
            "_________________________________________________________________\n",
            "dense_32 (Dense)             (None, 200)               40200     \n",
            "_________________________________________________________________\n",
            "dense_33 (Dense)             (None, 5)                 1005      \n",
            "=================================================================\n",
            "Total params: 983,317\n",
            "Trainable params: 983,317\n",
            "Non-trainable params: 0\n",
            "_________________________________________________________________\n",
            "None\n",
            "Epoch 1/30\n",
            "17/17 [==============================] - 5s 76ms/step - loss: 0.1157 - accuracy: 0.9669 - val_loss: 0.0023 - val_accuracy: 1.0000\n",
            "Epoch 2/30\n",
            "17/17 [==============================] - 0s 17ms/step - loss: 0.0560 - accuracy: 0.9816 - val_loss: 0.0024 - val_accuracy: 1.0000\n",
            "Epoch 3/30\n",
            "17/17 [==============================] - 0s 15ms/step - loss: 0.0469 - accuracy: 0.9815 - val_loss: 0.0255 - val_accuracy: 0.9828\n",
            "Epoch 4/30\n",
            "17/17 [==============================] - 0s 15ms/step - loss: 0.0289 - accuracy: 0.9902 - val_loss: 0.0030 - val_accuracy: 1.0000\n",
            "Epoch 5/30\n",
            "17/17 [==============================] - 0s 15ms/step - loss: 0.0332 - accuracy: 0.9905 - val_loss: 0.0023 - val_accuracy: 1.0000\n",
            "Epoch 6/30\n",
            "17/17 [==============================] - 0s 15ms/step - loss: 0.0141 - accuracy: 0.9968 - val_loss: 0.0110 - val_accuracy: 1.0000\n",
            "Epoch 7/30\n",
            "17/17 [==============================] - 0s 15ms/step - loss: 0.0322 - accuracy: 0.9939 - val_loss: 0.0110 - val_accuracy: 1.0000\n",
            "Epoch 8/30\n",
            "17/17 [==============================] - 0s 15ms/step - loss: 0.0374 - accuracy: 0.9759 - val_loss: 0.0068 - val_accuracy: 1.0000\n",
            "Epoch 9/30\n",
            "17/17 [==============================] - 0s 15ms/step - loss: 0.0234 - accuracy: 0.9928 - val_loss: 0.0074 - val_accuracy: 1.0000\n",
            "Epoch 10/30\n",
            "17/17 [==============================] - 0s 15ms/step - loss: 0.1264 - accuracy: 0.9621 - val_loss: 0.1375 - val_accuracy: 0.9828\n",
            "Epoch 11/30\n",
            "17/17 [==============================] - 0s 15ms/step - loss: 0.1298 - accuracy: 0.9517 - val_loss: 0.1644 - val_accuracy: 0.9655\n",
            "Epoch 12/30\n",
            "17/17 [==============================] - 0s 15ms/step - loss: 0.0943 - accuracy: 0.9663 - val_loss: 0.1005 - val_accuracy: 0.9828\n",
            "Epoch 13/30\n",
            "17/17 [==============================] - 0s 16ms/step - loss: 0.0719 - accuracy: 0.9770 - val_loss: 0.1130 - val_accuracy: 0.9828\n",
            "Epoch 14/30\n",
            "17/17 [==============================] - 0s 15ms/step - loss: 0.0212 - accuracy: 0.9967 - val_loss: 0.0826 - val_accuracy: 0.9828\n",
            "Epoch 15/30\n",
            "17/17 [==============================] - 0s 15ms/step - loss: 0.0330 - accuracy: 0.9807 - val_loss: 0.0798 - val_accuracy: 0.9828\n",
            "Epoch 16/30\n",
            "17/17 [==============================] - 0s 15ms/step - loss: 0.0301 - accuracy: 0.9870 - val_loss: 0.1182 - val_accuracy: 0.9655\n",
            "Epoch 17/30\n",
            "17/17 [==============================] - 0s 15ms/step - loss: 0.0180 - accuracy: 0.9909 - val_loss: 0.1708 - val_accuracy: 0.9655\n",
            "Epoch 18/30\n",
            "17/17 [==============================] - 0s 15ms/step - loss: 0.0517 - accuracy: 0.9845 - val_loss: 0.0983 - val_accuracy: 0.9655\n",
            "Epoch 19/30\n",
            "17/17 [==============================] - 0s 15ms/step - loss: 0.0330 - accuracy: 0.9824 - val_loss: 0.1304 - val_accuracy: 0.9483\n",
            "Epoch 20/30\n",
            "17/17 [==============================] - 0s 16ms/step - loss: 0.0233 - accuracy: 0.9940 - val_loss: 0.0506 - val_accuracy: 0.9828\n",
            "Epoch 21/30\n",
            "17/17 [==============================] - 0s 15ms/step - loss: 0.0302 - accuracy: 0.9961 - val_loss: 0.1221 - val_accuracy: 0.9483\n",
            "Epoch 22/30\n",
            "17/17 [==============================] - 0s 16ms/step - loss: 0.0130 - accuracy: 0.9946 - val_loss: 0.1163 - val_accuracy: 0.9655\n",
            "Epoch 23/30\n",
            "17/17 [==============================] - 0s 15ms/step - loss: 0.0389 - accuracy: 0.9924 - val_loss: 0.1321 - val_accuracy: 0.9655\n",
            "Epoch 24/30\n",
            "17/17 [==============================] - 0s 15ms/step - loss: 0.0164 - accuracy: 0.9978 - val_loss: 0.1562 - val_accuracy: 0.9483\n",
            "Epoch 25/30\n",
            "17/17 [==============================] - 0s 15ms/step - loss: 0.0836 - accuracy: 0.9740 - val_loss: 0.0505 - val_accuracy: 0.9655\n",
            "Epoch 26/30\n",
            "17/17 [==============================] - 0s 15ms/step - loss: 0.0749 - accuracy: 0.9763 - val_loss: 0.1563 - val_accuracy: 0.9483\n",
            "Epoch 27/30\n",
            "17/17 [==============================] - 0s 15ms/step - loss: 0.0268 - accuracy: 0.9912 - val_loss: 0.2082 - val_accuracy: 0.9483\n",
            "Epoch 28/30\n",
            "17/17 [==============================] - 0s 15ms/step - loss: 0.0198 - accuracy: 0.9908 - val_loss: 0.1016 - val_accuracy: 0.9655\n",
            "Epoch 29/30\n",
            "17/17 [==============================] - 0s 16ms/step - loss: 0.0494 - accuracy: 0.9858 - val_loss: 0.1597 - val_accuracy: 0.9310\n",
            "Epoch 30/30\n",
            "17/17 [==============================] - 0s 16ms/step - loss: 0.0809 - accuracy: 0.9765 - val_loss: 0.1393 - val_accuracy: 0.9655\n",
            "10\n",
            "Epoch 1/30\n",
            "17/17 [==============================] - 5s 76ms/step - loss: 0.0887 - accuracy: 0.9833 - val_loss: 0.0556 - val_accuracy: 0.9828\n",
            "Epoch 2/30\n",
            "17/17 [==============================] - 0s 15ms/step - loss: 0.0399 - accuracy: 0.9840 - val_loss: 0.0301 - val_accuracy: 1.0000\n",
            "Epoch 3/30\n",
            "17/17 [==============================] - 0s 15ms/step - loss: 0.0422 - accuracy: 0.9802 - val_loss: 0.0120 - val_accuracy: 1.0000\n",
            "Epoch 4/30\n",
            "17/17 [==============================] - 0s 15ms/step - loss: 0.0420 - accuracy: 0.9822 - val_loss: 0.0899 - val_accuracy: 0.9828\n",
            "Epoch 5/30\n",
            "17/17 [==============================] - 0s 15ms/step - loss: 0.0399 - accuracy: 0.9903 - val_loss: 0.0252 - val_accuracy: 0.9828\n",
            "Epoch 6/30\n",
            "17/17 [==============================] - 0s 15ms/step - loss: 0.0585 - accuracy: 0.9800 - val_loss: 0.0103 - val_accuracy: 1.0000\n",
            "Epoch 7/30\n",
            "17/17 [==============================] - 0s 15ms/step - loss: 0.0630 - accuracy: 0.9842 - val_loss: 0.0097 - val_accuracy: 1.0000\n",
            "Epoch 8/30\n",
            "17/17 [==============================] - 0s 15ms/step - loss: 0.0461 - accuracy: 0.9894 - val_loss: 0.0258 - val_accuracy: 0.9828\n",
            "Epoch 9/30\n",
            "17/17 [==============================] - 0s 15ms/step - loss: 0.0760 - accuracy: 0.9765 - val_loss: 0.1023 - val_accuracy: 0.9655\n",
            "Epoch 10/30\n",
            "17/17 [==============================] - 0s 15ms/step - loss: 0.0860 - accuracy: 0.9748 - val_loss: 0.2176 - val_accuracy: 0.9483\n",
            "Epoch 11/30\n",
            "17/17 [==============================] - 0s 15ms/step - loss: 0.1501 - accuracy: 0.9664 - val_loss: 0.0711 - val_accuracy: 0.9828\n",
            "Epoch 12/30\n",
            "17/17 [==============================] - 0s 16ms/step - loss: 0.1319 - accuracy: 0.9671 - val_loss: 0.0981 - val_accuracy: 0.9828\n",
            "Epoch 13/30\n",
            "17/17 [==============================] - 0s 15ms/step - loss: 0.0716 - accuracy: 0.9768 - val_loss: 0.1107 - val_accuracy: 0.9828\n",
            "Epoch 14/30\n",
            "17/17 [==============================] - 0s 15ms/step - loss: 0.0374 - accuracy: 0.9860 - val_loss: 0.0169 - val_accuracy: 1.0000\n",
            "Epoch 15/30\n",
            "17/17 [==============================] - 0s 15ms/step - loss: 0.0175 - accuracy: 0.9958 - val_loss: 0.1226 - val_accuracy: 0.9828\n",
            "Epoch 16/30\n",
            "17/17 [==============================] - 0s 16ms/step - loss: 0.0164 - accuracy: 0.9910 - val_loss: 0.1280 - val_accuracy: 0.9828\n",
            "Epoch 17/30\n",
            "17/17 [==============================] - 0s 15ms/step - loss: 0.0129 - accuracy: 0.9973 - val_loss: 0.1443 - val_accuracy: 0.9828\n",
            "Epoch 18/30\n",
            "17/17 [==============================] - 0s 15ms/step - loss: 0.0177 - accuracy: 0.9902 - val_loss: 0.1555 - val_accuracy: 0.9828\n",
            "Epoch 19/30\n",
            "17/17 [==============================] - 0s 15ms/step - loss: 0.0231 - accuracy: 0.9938 - val_loss: 0.1484 - val_accuracy: 0.9828\n",
            "Epoch 20/30\n",
            "17/17 [==============================] - 0s 16ms/step - loss: 0.0045 - accuracy: 0.9997 - val_loss: 0.0045 - val_accuracy: 1.0000\n",
            "Epoch 21/30\n",
            "17/17 [==============================] - 0s 15ms/step - loss: 0.0050 - accuracy: 0.9996 - val_loss: 0.0017 - val_accuracy: 1.0000\n",
            "Epoch 22/30\n",
            "17/17 [==============================] - 0s 15ms/step - loss: 0.0182 - accuracy: 0.9926 - val_loss: 0.1714 - val_accuracy: 0.9828\n",
            "Epoch 23/30\n",
            "17/17 [==============================] - 0s 15ms/step - loss: 0.0627 - accuracy: 0.9819 - val_loss: 0.1122 - val_accuracy: 0.9483\n",
            "Epoch 24/30\n",
            "17/17 [==============================] - 0s 15ms/step - loss: 0.0575 - accuracy: 0.9843 - val_loss: 0.2614 - val_accuracy: 0.9310\n",
            "Epoch 25/30\n",
            "17/17 [==============================] - 0s 15ms/step - loss: 0.0214 - accuracy: 0.9953 - val_loss: 0.1315 - val_accuracy: 0.9828\n",
            "Epoch 26/30\n",
            "17/17 [==============================] - 0s 15ms/step - loss: 0.0231 - accuracy: 0.9930 - val_loss: 0.1520 - val_accuracy: 0.9655\n",
            "Epoch 27/30\n",
            "17/17 [==============================] - 0s 15ms/step - loss: 0.0413 - accuracy: 0.9854 - val_loss: 0.1616 - val_accuracy: 0.9655\n",
            "Epoch 28/30\n",
            "17/17 [==============================] - 0s 15ms/step - loss: 0.0604 - accuracy: 0.9803 - val_loss: 0.1303 - val_accuracy: 0.9828\n",
            "Epoch 29/30\n",
            "17/17 [==============================] - 0s 16ms/step - loss: 0.0681 - accuracy: 0.9724 - val_loss: 0.0931 - val_accuracy: 0.9828\n",
            "Epoch 30/30\n",
            "17/17 [==============================] - 0s 15ms/step - loss: 0.0859 - accuracy: 0.9769 - val_loss: 0.1465 - val_accuracy: 0.9310\n"
          ],
          "name": "stdout"
        }
      ]
    },
    {
      "cell_type": "markdown",
      "metadata": {
        "id": "CDQSYEX7HDca"
      },
      "source": [
        ""
      ]
    },
    {
      "cell_type": "code",
      "metadata": {
        "colab": {
          "base_uri": "https://localhost:8080/"
        },
        "id": "e_ki_5mZG4qb",
        "outputId": "14cb660d-f9b5-4ab2-d966-3a98d902e9e3"
      },
      "source": [
        "np.mean(scores)   ###10Fold Test Sccuracy"
      ],
      "execution_count": null,
      "outputs": [
        {
          "output_type": "execute_result",
          "data": {
            "text/plain": [
              "0.6383985973115138"
            ]
          },
          "metadata": {
            "tags": []
          },
          "execution_count": 66
        }
      ]
    },
    {
      "cell_type": "code",
      "metadata": {
        "colab": {
          "base_uri": "https://localhost:8080/"
        },
        "id": "oRCWFYIxJPp9",
        "outputId": "5878f393-4737-4840-b428-7b39c83838e2"
      },
      "source": [
        "np.mean(train_scores) ###10Fold Train Accuracy"
      ],
      "execution_count": null,
      "outputs": [
        {
          "output_type": "execute_result",
          "data": {
            "text/plain": [
              "0.9019545619774627"
            ]
          },
          "metadata": {
            "tags": []
          },
          "execution_count": 67
        }
      ]
    },
    {
      "cell_type": "code",
      "metadata": {
        "id": "OZqwuk9naC2d"
      },
      "source": [
        "\r\n",
        "def model_evaluate(model, test_X):\r\n",
        "    pred = model.predict(test_X)\r\n",
        "    y_te = y_test.argmax(axis = 1)\r\n",
        "    pred_te = pred.argmax(axis = 1)\r\n",
        "    print(\"CLASSIFICATION REPORT \\n\")\r\n",
        "    print(classification_report(y_te, pred_te))\r\n",
        "    print('\\n \\n')\r\n",
        "    print('CONFUSION MATRIX \\n')\r\n",
        "    print(confusion_matrix(y_te, pred_te))"
      ],
      "execution_count": 41,
      "outputs": []
    },
    {
      "cell_type": "code",
      "metadata": {
        "colab": {
          "base_uri": "https://localhost:8080/"
        },
        "id": "a6EeTqc5aPiU",
        "outputId": "522e3412-9520-431d-bfa9-d500331bba1f"
      },
      "source": [
        "## Here the model should be trained on X_train only, use that model to test, F1, Kappa etc..\r\n",
        "model_evaluate(model, X_test)"
      ],
      "execution_count": 42,
      "outputs": [
        {
          "output_type": "stream",
          "text": [
            "CLASSIFICATION REPORT \n",
            "\n",
            "              precision    recall  f1-score   support\n",
            "\n",
            "           0       0.75      0.86      0.80         7\n",
            "           1       0.59      1.00      0.75        47\n",
            "           2       0.00      0.00      0.00         9\n",
            "           3       1.00      0.06      0.11        18\n",
            "           4       0.00      0.00      0.00         7\n",
            "\n",
            "    accuracy                           0.61        88\n",
            "   macro avg       0.47      0.38      0.33        88\n",
            "weighted avg       0.58      0.61      0.48        88\n",
            "\n",
            "\n",
            " \n",
            "\n",
            "CONFUSION MATRIX \n",
            "\n",
            "[[ 6  1  0  0  0]\n",
            " [ 0 47  0  0  0]\n",
            " [ 1  8  0  0  0]\n",
            " [ 1 16  0  1  0]\n",
            " [ 0  7  0  0  0]]\n"
          ],
          "name": "stdout"
        },
        {
          "output_type": "stream",
          "text": [
            "/usr/local/lib/python3.7/dist-packages/sklearn/metrics/_classification.py:1272: UndefinedMetricWarning: Precision and F-score are ill-defined and being set to 0.0 in labels with no predicted samples. Use `zero_division` parameter to control this behavior.\n",
            "  _warn_prf(average, modifier, msg_start, len(result))\n"
          ],
          "name": "stderr"
        }
      ]
    },
    {
      "cell_type": "code",
      "metadata": {
        "id": "_dcxv3bvI94-"
      },
      "source": [
        "def print_performance_metrics():\r\n",
        "  \r\n",
        "    print('Accuracy:', np.round(metrics.accuracy_score(y_test, max_y_pred_test),4))\r\n",
        "    print('Precision:', np.round(metrics.precision_score(y_test, \r\n",
        "                                max_y_pred_test,average='weighted'),4))\r\n",
        "    print('Recall:', np.round(metrics.recall_score(y_test, max_y_pred_test,\r\n",
        "                                               average='weighted'),4))\r\n",
        "    print('F1 Score:', np.round(metrics.f1_score(y_test, max_y_pred_test,\r\n",
        "                                               average='weighted'),4))\r\n",
        "    print('Cohen Kappa Score:', np.round(metrics.cohen_kappa_score(y_test.argmax(axis=1), max_y_pred_test.argmax(axis=1)),4))\r\n",
        "    print('Matthews Corrcoef:', np.round(metrics.matthews_corrcoef(y_test.argmax(axis=1), max_y_pred_test.argmax(axis=1)),4)) \r\n",
        "    print('ROC AUC:', (metrics.roc_auc_score(y_test, max_y_pred_test,average='macro')))\r\n",
        "    print('\\t\\tClassification Report:\\n', metrics.classification_report(y_test, max_y_pred_test))\r\n",
        "\r\n",
        "\r\n",
        "def print_confusion_matrix_and_save():\r\n",
        "    mat = confusion_matrix(y_test.argmax(axis=1), max_y_pred_test.argmax(axis=1))\r\n",
        "    sns.heatmap(mat.T, square=True, annot=True, fmt='d', cbar=False)\r\n",
        "    plt.title('Confusion Matrix')\r\n",
        "    plt.ylabel('True Label')\r\n",
        "    plt.xlabel('Predicted Label')\r\n",
        "    #plt.show()\r\n",
        "\r\n",
        "    plt.savefig(\"Hand.jpg\")\r\n",
        "    # Save SVG in a fake file object.\r\n",
        "    f = BytesIO()\r\n",
        "    plt.savefig(f, format=\"svg\")"
      ],
      "execution_count": 43,
      "outputs": []
    },
    {
      "cell_type": "code",
      "metadata": {
        "colab": {
          "base_uri": "https://localhost:8080/"
        },
        "id": "fhobotbTahj8",
        "outputId": "fe04bad6-74ec-4fcd-a3b3-758db2a0c7d8"
      },
      "source": [
        "pred_test   = model.predict(X_test)\r\n",
        "max_y_pred_test = np.round(pred_test)\r\n",
        "print_performance_metrics()"
      ],
      "execution_count": 44,
      "outputs": [
        {
          "output_type": "stream",
          "text": [
            "Accuracy: 0.6023\n",
            "Precision: 0.5792\n",
            "Recall: 0.6023\n",
            "F1 Score: 0.4783\n",
            "Cohen Kappa Score: 0.2294\n",
            "Matthews Corrcoef: 0.3254\n",
            "ROC AUC: 0.6086242654050992\n",
            "\t\tClassification Report:\n",
            "               precision    recall  f1-score   support\n",
            "\n",
            "           0       0.75      0.86      0.80         7\n",
            "           1       0.59      0.98      0.74        47\n",
            "           2       0.00      0.00      0.00         9\n",
            "           3       1.00      0.06      0.11        18\n",
            "           4       0.00      0.00      0.00         7\n",
            "\n",
            "   micro avg       0.61      0.60      0.61        88\n",
            "   macro avg       0.47      0.38      0.33        88\n",
            "weighted avg       0.58      0.60      0.48        88\n",
            " samples avg       0.60      0.60      0.60        88\n",
            "\n"
          ],
          "name": "stdout"
        },
        {
          "output_type": "stream",
          "text": [
            "/usr/local/lib/python3.7/dist-packages/sklearn/metrics/_classification.py:1272: UndefinedMetricWarning: Precision is ill-defined and being set to 0.0 in labels with no predicted samples. Use `zero_division` parameter to control this behavior.\n",
            "  _warn_prf(average, modifier, msg_start, len(result))\n",
            "/usr/local/lib/python3.7/dist-packages/sklearn/metrics/_classification.py:1272: UndefinedMetricWarning: Precision and F-score are ill-defined and being set to 0.0 in labels with no predicted samples. Use `zero_division` parameter to control this behavior.\n",
            "  _warn_prf(average, modifier, msg_start, len(result))\n",
            "/usr/local/lib/python3.7/dist-packages/sklearn/metrics/_classification.py:1272: UndefinedMetricWarning: Precision and F-score are ill-defined and being set to 0.0 in samples with no predicted labels. Use `zero_division` parameter to control this behavior.\n",
            "  _warn_prf(average, modifier, msg_start, len(result))\n"
          ],
          "name": "stderr"
        }
      ]
    },
    {
      "cell_type": "code",
      "metadata": {
        "id": "vR5ku01-JLld"
      },
      "source": [
        ""
      ],
      "execution_count": 44,
      "outputs": []
    }
  ]
}