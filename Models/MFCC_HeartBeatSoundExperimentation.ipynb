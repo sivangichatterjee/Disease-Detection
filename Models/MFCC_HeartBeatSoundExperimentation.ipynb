{
  "nbformat": 4,
  "nbformat_minor": 0,
  "metadata": {
    "colab": {
      "name": "MFCC_HeartBeatSoundExperimentation.ipynb",
      "provenance": [],
      "collapsed_sections": []
    },
    "kernelspec": {
      "name": "python3",
      "display_name": "Python 3"
    },
    "accelerator": "GPU"
  },
  "cells": [
    {
      "cell_type": "code",
      "metadata": {
        "id": "w7K7x4z3FDTj"
      },
      "source": [
        "import numpy as np\r\n",
        "import pandas as pd\r\n",
        "import matplotlib.pyplot as plt\r\n",
        "import seaborn as sns\r\n",
        "# %matplotlib inline\r\n",
        "\r\n",
        "from io import BytesIO #needed for plot\r\n",
        "import seaborn as sns; sns.set()\r\n",
        "\r\n",
        "from keras.models import Model\r\n",
        "from keras.layers import LSTM, Dropout, Dense, Conv1D, ConvLSTM2D, Input, Bidirectional, TimeDistributed,GRU\r\n",
        "from keras.layers import MaxPooling1D, Flatten, BatchNormalization\r\n",
        "from keras.utils import plot_model\r\n",
        "from keras.models import load_model\r\n",
        "from numpy import save\r\n",
        "from numpy import load\r\n",
        "import sklearn\r\n",
        "from scipy import stats\r\n",
        "from sklearn import metrics\r\n",
        "from keras.optimizers import Adam, SGD, RMSprop\r\n",
        "from keras.models import load_model\r\n",
        "from sklearn.metrics import confusion_matrix\r\n",
        "from sklearn.metrics import accuracy_score\r\n",
        "from sklearn.model_selection import KFold, StratifiedKFold\r\n",
        "from sklearn.metrics import classification_report\r\n",
        "from sklearn.preprocessing import MinMaxScaler\r\n",
        "from sklearn.model_selection import train_test_split\r\n",
        "import pickle\r\n"
      ],
      "execution_count": 1,
      "outputs": []
    },
    {
      "cell_type": "code",
      "metadata": {
        "id": "qAfkN0xgFMbv"
      },
      "source": [
        "from keras.layers import Conv2D, MaxPooling2D, BatchNormalization"
      ],
      "execution_count": 2,
      "outputs": []
    },
    {
      "cell_type": "code",
      "metadata": {
        "colab": {
          "base_uri": "https://localhost:8080/"
        },
        "id": "mdx6cAYyGrtv",
        "outputId": "bf642e82-1936-467f-cd63-03c543649dd6"
      },
      "source": [
        "from google.colab import drive\n",
        "drive.mount('/content/drive')"
      ],
      "execution_count": 4,
      "outputs": [
        {
          "output_type": "stream",
          "text": [
            "Mounted at /content/drive\n"
          ],
          "name": "stdout"
        }
      ]
    },
    {
      "cell_type": "code",
      "metadata": {
        "colab": {
          "base_uri": "https://localhost:8080/"
        },
        "id": "klfmOM79F3X2",
        "outputId": "7fe64964-4998-4630-fe3c-937936ab4d43"
      },
      "source": [
        "cd /content/drive/MyDrive/AI ML Things/University of Turku Research Internship"
      ],
      "execution_count": 5,
      "outputs": [
        {
          "output_type": "stream",
          "text": [
            "/content/drive/MyDrive/AI ML Things/University of Turku Research Internship\n"
          ],
          "name": "stdout"
        }
      ]
    },
    {
      "cell_type": "code",
      "metadata": {
        "colab": {
          "base_uri": "https://localhost:8080/"
        },
        "id": "yxQRv2nUF_IW",
        "outputId": "d93169da-9215-4494-e865-78ce8251f654"
      },
      "source": [
        "cd MyDrive/"
      ],
      "execution_count": null,
      "outputs": [
        {
          "output_type": "stream",
          "text": [
            "/content/drive/MyDrive\n"
          ],
          "name": "stdout"
        }
      ]
    },
    {
      "cell_type": "code",
      "metadata": {
        "colab": {
          "base_uri": "https://localhost:8080/"
        },
        "id": "dTxYNhoEG10b",
        "outputId": "410f796c-6fbe-44cb-db80-de61a4823fc4"
      },
      "source": [
        "ls"
      ],
      "execution_count": 6,
      "outputs": [
        {
          "output_type": "stream",
          "text": [
            " \u001b[0m\u001b[01;34mDWT_features\u001b[0m/   \u001b[01;34m'Models and Training'\u001b[0m/              \u001b[01;34m'Raw Data'\u001b[0m/\n",
            " \u001b[01;34mMFCC_features\u001b[0m/  \u001b[01;34m'Preprocessing and EDA Notebooks'\u001b[0m/   \u001b[01;34mWPD_features\u001b[0m/\n"
          ],
          "name": "stdout"
        }
      ]
    },
    {
      "cell_type": "code",
      "metadata": {
        "colab": {
          "base_uri": "https://localhost:8080/"
        },
        "id": "8_7M4TEaGCdW",
        "outputId": "bdcd3d8a-bdfd-49ee-fc6c-36f30313157a"
      },
      "source": [
        "cd MFCC_features/"
      ],
      "execution_count": 7,
      "outputs": [
        {
          "output_type": "stream",
          "text": [
            "/content/drive/My Drive/AI ML Things/University of Turku Research Internship/MFCC_features\n"
          ],
          "name": "stdout"
        }
      ]
    },
    {
      "cell_type": "code",
      "metadata": {
        "colab": {
          "base_uri": "https://localhost:8080/"
        },
        "id": "x3vV9nu0GGzb",
        "outputId": "b95b708a-7521-488f-c4ed-e32671b91eb7"
      },
      "source": [
        "ls"
      ],
      "execution_count": 8,
      "outputs": [
        {
          "output_type": "stream",
          "text": [
            " \u001b[0m\u001b[01;34mFeatures_According_to_Kaggle\u001b[0m/              x_data_reshaped.npy\n",
            "\u001b[01;34m'Labelled and Unlabelled Data Separated'\u001b[0m/   y_data_mfcc.npy\n",
            " x_data_mfcc.npy\n"
          ],
          "name": "stdout"
        }
      ]
    },
    {
      "cell_type": "code",
      "metadata": {
        "id": "xPDLYNsJGImr"
      },
      "source": [
        "X = np.load(\"x_data_mfcc.npy\")\r\n",
        "y = np.load(\"y_data_mfcc.npy\")\r\n",
        "X = X[:583]\r\n",
        "y = y[:583]"
      ],
      "execution_count": 9,
      "outputs": []
    },
    {
      "cell_type": "code",
      "metadata": {
        "id": "n8BzrLANGVKA"
      },
      "source": [
        "def one_hot_target(y):\r\n",
        "    \r\n",
        "    y_one_hot = pd.get_dummies(y)\r\n",
        "    \r\n",
        "    return y_one_hot.values"
      ],
      "execution_count": 12,
      "outputs": []
    },
    {
      "cell_type": "code",
      "metadata": {
        "id": "zgrCVBjRHMVk"
      },
      "source": [
        "y_ = one_hot_target(y)"
      ],
      "execution_count": 13,
      "outputs": []
    },
    {
      "cell_type": "code",
      "metadata": {
        "id": "vF5mFHQCGdtS"
      },
      "source": [
        "## FOR CNN model\r\n",
        "train_X = X.reshape(-1,  40, 1)\r\n",
        "train_y = y_\r\n"
      ],
      "execution_count": 15,
      "outputs": []
    },
    {
      "cell_type": "code",
      "metadata": {
        "id": "xMioKBt6RWBa"
      },
      "source": [
        "### FOR LSTM model\r\n",
        "train_X = X.reshape(-1,  40, 1)\r\n",
        "train_y = y_"
      ],
      "execution_count": 16,
      "outputs": []
    },
    {
      "cell_type": "code",
      "metadata": {
        "id": "lJrxY_bBRuq1"
      },
      "source": [
        "### FOR GRU model \r\n",
        "train_X = X.reshape(-1,  40, 1)\r\n",
        "train_y = y_"
      ],
      "execution_count": 17,
      "outputs": []
    },
    {
      "cell_type": "code",
      "metadata": {
        "id": "GJi5NWe2SqDN"
      },
      "source": [
        "### FOR CNN+LSTM model and CNN + BiLSTM model\r\n",
        "train_X = X.reshape(-1,  40, 1)\r\n",
        "train_y = y_"
      ],
      "execution_count": 18,
      "outputs": []
    },
    {
      "cell_type": "code",
      "metadata": {
        "id": "yL4eWDnUZI22"
      },
      "source": [
        "X_train, X_test, y_train, y_test = train_test_split(train_X, train_y ,test_size=0.15, random_state=42, shuffle = True)"
      ],
      "execution_count": 19,
      "outputs": []
    },
    {
      "cell_type": "code",
      "metadata": {
        "id": "-dZxvgzUFWuN"
      },
      "source": [
        "def CNN2():\r\n",
        "\r\n",
        "  input_ = Input(shape = ( 40, 1))\r\n",
        "  x = (Conv1D(filters = 64, kernel_size = 3, activation = 'relu'))(input_)\r\n",
        "  x = (Conv1D(filters =64,kernel_size =  3,activation = 'relu'))(x)\r\n",
        "  x = (Dropout(0.1))(x)\r\n",
        "  x = (MaxPooling1D(pool_size=2))(x)\r\n",
        "  x = (Conv1D(filters =128, kernel_size = 3,activation = 'relu'))(x)\r\n",
        "  x = (Conv1D(filters =256,kernel_size = 4,activation ='relu'))(x)\r\n",
        "  x = (Dropout(0.2))(x)\r\n",
        "  x = (MaxPooling1D(pool_size=2))(x)\r\n",
        "  x = (Flatten())(x)\r\n",
        "  x = Dense(200, activation = 'relu')(x)\r\n",
        "  output = Dense(5, activation = 'softmax')(x)\r\n",
        "\r\n",
        "  model = Model(input_, output)\r\n",
        "  \r\n",
        "  return model"
      ],
      "execution_count": 26,
      "outputs": []
    },
    {
      "cell_type": "code",
      "metadata": {
        "colab": {
          "base_uri": "https://localhost:8080/"
        },
        "id": "xRiEZnFKQ4gK",
        "outputId": "4dbe3dd9-0a8c-458a-c5e1-6634a40ff8b9"
      },
      "source": [
        "CNN2()"
      ],
      "execution_count": 27,
      "outputs": [
        {
          "output_type": "execute_result",
          "data": {
            "text/plain": [
              "<tensorflow.python.keras.engine.functional.Functional at 0x7f37e00723d0>"
            ]
          },
          "metadata": {
            "tags": []
          },
          "execution_count": 27
        }
      ]
    },
    {
      "cell_type": "code",
      "metadata": {
        "id": "ENcUbhZuFirh"
      },
      "source": [
        "def LSTM_Model()  : \r\n",
        "    print(y.sum(0))\r\n",
        "    input_ = Input(shape = (40,1))\r\n",
        "    x = LSTM(40, return_sequences=True)(input_)\r\n",
        "    #x = Dropout(0.1)(x)\r\n",
        "    x = (LSTM(40, return_sequences= True))(x)\r\n",
        "    x = LSTM(40)(x)\r\n",
        "    x = Dropout(0.2)(x)\r\n",
        "    #x = Dropout(0.2)(x)\r\n",
        "    x = Dense(units = 200, activation='relu')(x)\r\n",
        "    x = Dense(units = 200, activation='relu')(x)\r\n",
        "    x  = Dense(units = 200, activation='relu')(x)\r\n",
        "    output = Dense(5,  activation='softmax')(x)\r\n",
        "\r\n",
        "    LSTM_model = Model(input_, output)\r\n",
        "    return LSTM_model\r\n"
      ],
      "execution_count": 39,
      "outputs": []
    },
    {
      "cell_type": "code",
      "metadata": {
        "colab": {
          "base_uri": "https://localhost:8080/"
        },
        "id": "JXvoTdgzJ1te",
        "outputId": "d032e89a-a4b6-417f-b8c4-ed243f475fcf"
      },
      "source": [
        "LSTM_Model() "
      ],
      "execution_count": 40,
      "outputs": [
        {
          "output_type": "stream",
          "text": [
            "953\n"
          ],
          "name": "stdout"
        },
        {
          "output_type": "execute_result",
          "data": {
            "text/plain": [
              "<tensorflow.python.keras.engine.functional.Functional at 0x7f370b60cc90>"
            ]
          },
          "metadata": {
            "tags": []
          },
          "execution_count": 40
        }
      ]
    },
    {
      "cell_type": "code",
      "metadata": {
        "id": "wBGCJG4aR0AV"
      },
      "source": [
        "def stacked_GRU():\r\n",
        "\r\n",
        "  input_ = Input(shape = (40, 1))\r\n",
        "  x = GRU(40, return_sequences =True)(input_)\r\n",
        "  x = GRU(40, return_sequences = True)(x)\r\n",
        "  x = Dropout(0.2)(x)\r\n",
        "  x = GRU(40)(x)\r\n",
        "  x = Dense(100, activation = 'relu')(x)\r\n",
        "  output = Dense(5, activation = 'softmax')(x)\r\n",
        "\r\n",
        "  GRU_model = Model(input_, output)\r\n",
        "\r\n",
        "  return GRU_model"
      ],
      "execution_count": 51,
      "outputs": []
    },
    {
      "cell_type": "code",
      "metadata": {
        "colab": {
          "base_uri": "https://localhost:8080/"
        },
        "id": "yUF7x4tWKTnL",
        "outputId": "133394e8-afe5-4385-c1e5-c4921eed44fe"
      },
      "source": [
        "stacked_GRU()"
      ],
      "execution_count": 52,
      "outputs": [
        {
          "output_type": "execute_result",
          "data": {
            "text/plain": [
              "<tensorflow.python.keras.engine.functional.Functional at 0x7f3700e25990>"
            ]
          },
          "metadata": {
            "tags": []
          },
          "execution_count": 52
        }
      ]
    },
    {
      "cell_type": "code",
      "metadata": {
        "id": "YKyiXCJoSegb"
      },
      "source": [
        "def CONV_LSTM_model():\r\n",
        "\r\n",
        "    input_ = Input(shape = (40, 1))\r\n",
        "    x = (Conv1D(filters=64, kernel_size=3, activation='relu'))(input_)\r\n",
        "    x = (Conv1D(filters=64, kernel_size=3, activation='relu'))(x)\r\n",
        "    x = (Conv1D(filters=128, kernel_size=3, activation='relu'))(x)\r\n",
        "    x = (Dropout(0.2))(x)\r\n",
        "    x = (MaxPooling1D(pool_size=2))(x)\r\n",
        "    #x = (Flatten())(x)\r\n",
        "    x = LSTM(200, return_sequences= True)(x)\r\n",
        "    x =LSTM(200, return_sequences=True)(x)\r\n",
        "    x = LSTM(200)(x)\r\n",
        "    x = Dropout(0.2)(x)\r\n",
        "    x = Dense(200, activation='relu')(x)\r\n",
        "    output = Dense(5, activation='softmax')(x)\r\n",
        "\r\n",
        "    Conv_LSTM_model = Model(input_, output)\r\n",
        "\r\n",
        "    return Conv_LSTM_model"
      ],
      "execution_count": 63,
      "outputs": []
    },
    {
      "cell_type": "code",
      "metadata": {
        "colab": {
          "base_uri": "https://localhost:8080/"
        },
        "id": "Mc7rEhYyLQes",
        "outputId": "7df17d74-daaa-4379-f29b-3ec0305f4e66"
      },
      "source": [
        "CONV_LSTM_model()"
      ],
      "execution_count": 64,
      "outputs": [
        {
          "output_type": "execute_result",
          "data": {
            "text/plain": [
              "<tensorflow.python.keras.engine.functional.Functional at 0x7f370c0a45d0>"
            ]
          },
          "metadata": {
            "tags": []
          },
          "execution_count": 64
        }
      ]
    },
    {
      "cell_type": "code",
      "metadata": {
        "id": "tBfLCtDAS-o_"
      },
      "source": [
        "def CONV_BiLSTM_model():\r\n",
        "\r\n",
        "    input_ = Input(shape = (40, 1))\r\n",
        "    x = (Conv1D(filters=64, kernel_size=3, activation='relu'))(input_)\r\n",
        "    x = (Conv1D(filters=64, kernel_size=3, activation='relu'))(x)\r\n",
        "    x = (Conv1D(filters=128, kernel_size=3, activation='relu'))(x)\r\n",
        "    x = (Dropout(0.2))(x)\r\n",
        "    x = (MaxPooling1D(pool_size=2))(x)\r\n",
        "    #x = TimeDistributed(Flatten())(x)\r\n",
        "    x = Bidirectional(LSTM(100, return_sequences= True))(x)\r\n",
        "    x = Bidirectional(LSTM(200, return_sequences=True))(x)\r\n",
        "    x = LSTM(400)(x)\r\n",
        "    x = Dropout(0.2)(x)\r\n",
        "    x = Dense(200, activation='relu')(x)\r\n",
        "    output = Dense(5, activation='softmax')(x)\r\n",
        "\r\n",
        "    Conv_LSTM_model = Model(input_, output)\r\n",
        "\r\n",
        "    return Conv_LSTM_model"
      ],
      "execution_count": 75,
      "outputs": []
    },
    {
      "cell_type": "code",
      "metadata": {
        "colab": {
          "base_uri": "https://localhost:8080/"
        },
        "id": "4spynguqMK4n",
        "outputId": "182fe588-7b96-4ffc-b246-18b5e961cee5"
      },
      "source": [
        "CONV_BiLSTM_model()"
      ],
      "execution_count": 76,
      "outputs": [
        {
          "output_type": "execute_result",
          "data": {
            "text/plain": [
              "<tensorflow.python.keras.engine.functional.Functional at 0x7f37056e3190>"
            ]
          },
          "metadata": {
            "tags": []
          },
          "execution_count": 76
        }
      ]
    },
    {
      "cell_type": "code",
      "metadata": {
        "id": "ODTLOyv2TT77"
      },
      "source": [
        "def Conv_LSTM2D_model1():\r\n",
        "    input_ = Input(shape = ((40,1, 1, 1)))\r\n",
        "    x = ConvLSTM2D(filters = 64, kernel_size = (1,3), activation = 'relu')(input_)\r\n",
        "    #x = (Conv1D(filters=64, kernel_size=3, activation='relu'))(x)\r\n",
        "    x = (Conv1D(filters=128, kernel_size=3, activation='relu'))(x)\r\n",
        "    x = (Dropout(0.2))(x)\r\n",
        "    x = (MaxPooling1D(pool_size=2))(x)\r\n",
        "    x = TimeDistributed(Flatten())(x)\r\n",
        "    x = Bidirectional(LSTM(100, return_sequences= True))(x)\r\n",
        "    x = LSTM(200)(x)\r\n",
        "    x = Dropout(0.2)(x)\r\n",
        "    x = Dense(200, activation='relu')(x)\r\n",
        "    output = Dense(5, activation='softmax')(x)\r\n",
        "    \r\n",
        "    \r\n",
        "    ConvLSTM2D_model = Model(input_, output)\r\n",
        "\r\n",
        "    return ConvLSTM2D_model"
      ],
      "execution_count": null,
      "outputs": []
    },
    {
      "cell_type": "code",
      "metadata": {
        "id": "eyG1SuLRNGfQ"
      },
      "source": [
        "def train_model_(model):\r\n",
        "  \r\n",
        "  model  = model ### \r\n",
        "  model.compile(loss = 'categorical_crossentropy', optimizer = Adam(), metrics = ['accuracy'])\r\n",
        "        \r\n",
        "\r\n",
        "  r = model.fit(X_train, y_train, batch_size = 32, epochs = 30, validation_split = 0.1)\r\n",
        "  #return 4, 6\r\n",
        "  return model,r"
      ],
      "execution_count": 77,
      "outputs": []
    },
    {
      "cell_type": "code",
      "metadata": {
        "colab": {
          "base_uri": "https://localhost:8080/"
        },
        "id": "002aj-I4NST8",
        "outputId": "af47d69f-e0d0-4fa0-c6fb-9105c4d9b5dc"
      },
      "source": [
        "model, r = train_model_(CONV_BiLSTM_model())"
      ],
      "execution_count": 78,
      "outputs": [
        {
          "output_type": "stream",
          "text": [
            "Epoch 1/30\n",
            "14/14 [==============================] - 7s 125ms/step - loss: 1.2387 - accuracy: 0.5453 - val_loss: 0.9368 - val_accuracy: 0.5800\n",
            "Epoch 2/30\n",
            "14/14 [==============================] - 0s 17ms/step - loss: 0.9380 - accuracy: 0.6428 - val_loss: 0.9717 - val_accuracy: 0.6200\n",
            "Epoch 3/30\n",
            "14/14 [==============================] - 0s 17ms/step - loss: 0.9854 - accuracy: 0.6339 - val_loss: 0.9146 - val_accuracy: 0.6000\n",
            "Epoch 4/30\n",
            "14/14 [==============================] - 0s 16ms/step - loss: 0.8791 - accuracy: 0.6576 - val_loss: 0.8759 - val_accuracy: 0.6800\n",
            "Epoch 5/30\n",
            "14/14 [==============================] - 0s 17ms/step - loss: 0.8570 - accuracy: 0.6805 - val_loss: 0.8746 - val_accuracy: 0.6200\n",
            "Epoch 6/30\n",
            "14/14 [==============================] - 0s 17ms/step - loss: 0.9148 - accuracy: 0.5994 - val_loss: 0.9186 - val_accuracy: 0.6000\n",
            "Epoch 7/30\n",
            "14/14 [==============================] - 0s 17ms/step - loss: 0.8836 - accuracy: 0.6565 - val_loss: 0.8181 - val_accuracy: 0.6600\n",
            "Epoch 8/30\n",
            "14/14 [==============================] - 0s 16ms/step - loss: 0.7634 - accuracy: 0.7323 - val_loss: 0.7897 - val_accuracy: 0.6000\n",
            "Epoch 9/30\n",
            "14/14 [==============================] - 0s 16ms/step - loss: 0.8759 - accuracy: 0.6391 - val_loss: 0.8175 - val_accuracy: 0.6000\n",
            "Epoch 10/30\n",
            "14/14 [==============================] - 0s 17ms/step - loss: 0.7623 - accuracy: 0.7094 - val_loss: 0.7620 - val_accuracy: 0.6800\n",
            "Epoch 11/30\n",
            "14/14 [==============================] - 0s 18ms/step - loss: 0.8147 - accuracy: 0.7023 - val_loss: 0.6840 - val_accuracy: 0.7200\n",
            "Epoch 12/30\n",
            "14/14 [==============================] - 0s 16ms/step - loss: 0.7831 - accuracy: 0.6994 - val_loss: 0.7545 - val_accuracy: 0.6800\n",
            "Epoch 13/30\n",
            "14/14 [==============================] - 0s 16ms/step - loss: 0.7430 - accuracy: 0.7067 - val_loss: 0.7595 - val_accuracy: 0.6800\n",
            "Epoch 14/30\n",
            "14/14 [==============================] - 0s 16ms/step - loss: 0.7548 - accuracy: 0.7096 - val_loss: 0.8588 - val_accuracy: 0.7000\n",
            "Epoch 15/30\n",
            "14/14 [==============================] - 0s 17ms/step - loss: 0.7897 - accuracy: 0.7137 - val_loss: 0.7241 - val_accuracy: 0.7200\n",
            "Epoch 16/30\n",
            "14/14 [==============================] - 0s 17ms/step - loss: 0.7208 - accuracy: 0.7144 - val_loss: 0.8008 - val_accuracy: 0.7000\n",
            "Epoch 17/30\n",
            "14/14 [==============================] - 0s 17ms/step - loss: 0.7795 - accuracy: 0.7096 - val_loss: 1.1073 - val_accuracy: 0.6000\n",
            "Epoch 18/30\n",
            "14/14 [==============================] - 0s 17ms/step - loss: 0.8648 - accuracy: 0.6680 - val_loss: 0.7448 - val_accuracy: 0.6800\n",
            "Epoch 19/30\n",
            "14/14 [==============================] - 0s 16ms/step - loss: 0.7699 - accuracy: 0.6870 - val_loss: 0.7635 - val_accuracy: 0.7200\n",
            "Epoch 20/30\n",
            "14/14 [==============================] - 0s 16ms/step - loss: 0.6906 - accuracy: 0.7479 - val_loss: 0.7959 - val_accuracy: 0.7000\n",
            "Epoch 21/30\n",
            "14/14 [==============================] - 0s 17ms/step - loss: 0.6911 - accuracy: 0.7486 - val_loss: 0.7479 - val_accuracy: 0.7400\n",
            "Epoch 22/30\n",
            "14/14 [==============================] - 0s 18ms/step - loss: 0.6583 - accuracy: 0.7626 - val_loss: 0.7519 - val_accuracy: 0.6600\n",
            "Epoch 23/30\n",
            "14/14 [==============================] - 0s 18ms/step - loss: 0.6409 - accuracy: 0.7840 - val_loss: 0.9258 - val_accuracy: 0.6800\n",
            "Epoch 24/30\n",
            "14/14 [==============================] - 0s 17ms/step - loss: 0.7241 - accuracy: 0.7122 - val_loss: 0.8417 - val_accuracy: 0.7000\n",
            "Epoch 25/30\n",
            "14/14 [==============================] - 0s 17ms/step - loss: 0.7135 - accuracy: 0.7318 - val_loss: 0.8189 - val_accuracy: 0.6800\n",
            "Epoch 26/30\n",
            "14/14 [==============================] - 0s 17ms/step - loss: 0.6317 - accuracy: 0.7885 - val_loss: 0.9051 - val_accuracy: 0.6800\n",
            "Epoch 27/30\n",
            "14/14 [==============================] - 0s 17ms/step - loss: 0.7445 - accuracy: 0.7088 - val_loss: 0.7589 - val_accuracy: 0.6800\n",
            "Epoch 28/30\n",
            "14/14 [==============================] - 0s 17ms/step - loss: 0.6854 - accuracy: 0.7579 - val_loss: 0.8052 - val_accuracy: 0.6800\n",
            "Epoch 29/30\n",
            "14/14 [==============================] - 0s 17ms/step - loss: 0.6440 - accuracy: 0.7714 - val_loss: 0.7910 - val_accuracy: 0.6800\n",
            "Epoch 30/30\n",
            "14/14 [==============================] - 0s 17ms/step - loss: 0.6377 - accuracy: 0.7654 - val_loss: 0.7825 - val_accuracy: 0.7000\n"
          ],
          "name": "stdout"
        }
      ]
    },
    {
      "cell_type": "code",
      "metadata": {
        "id": "OZqwuk9naC2d"
      },
      "source": [
        "\r\n",
        "def model_evaluate(model, test_X):\r\n",
        "    pred = model.predict(test_X)\r\n",
        "    y_te = y_test.argmax(axis = 1)\r\n",
        "    pred_te = pred.argmax(axis = 1)\r\n",
        "    print(\"CLASSIFICATION REPORT \\n\")\r\n",
        "    print(classification_report(y_te, pred_te))\r\n",
        "    print('\\n \\n')\r\n",
        "    print('CONFUSION MATRIX \\n')\r\n",
        "    print(confusion_matrix(y_te, pred_te))"
      ],
      "execution_count": 79,
      "outputs": []
    },
    {
      "cell_type": "code",
      "metadata": {
        "colab": {
          "base_uri": "https://localhost:8080/"
        },
        "id": "a6EeTqc5aPiU",
        "outputId": "5284f6d8-92fe-4dee-8a68-791b4af92bf7"
      },
      "source": [
        "## Here the model should be trained on X_train only, use that model to test, F1, Kappa etc..\r\n",
        "model_evaluate(model, X_test)"
      ],
      "execution_count": 80,
      "outputs": [
        {
          "output_type": "stream",
          "text": [
            "CLASSIFICATION REPORT \n",
            "\n",
            "              precision    recall  f1-score   support\n",
            "\n",
            "           0       1.00      0.71      0.83         7\n",
            "           1       0.67      0.79      0.73        52\n",
            "           2       0.00      0.00      0.00         9\n",
            "           3       0.27      0.43      0.33        14\n",
            "           4       0.00      0.00      0.00         6\n",
            "\n",
            "    accuracy                           0.59        88\n",
            "   macro avg       0.39      0.39      0.38        88\n",
            "weighted avg       0.52      0.59      0.55        88\n",
            "\n",
            "\n",
            " \n",
            "\n",
            "CONFUSION MATRIX \n",
            "\n",
            "[[ 5  1  0  1  0]\n",
            " [ 0 41  0 11  0]\n",
            " [ 0  7  0  2  0]\n",
            " [ 0  8  0  6  0]\n",
            " [ 0  4  0  2  0]]\n"
          ],
          "name": "stdout"
        },
        {
          "output_type": "stream",
          "text": [
            "/usr/local/lib/python3.7/dist-packages/sklearn/metrics/_classification.py:1272: UndefinedMetricWarning: Precision and F-score are ill-defined and being set to 0.0 in labels with no predicted samples. Use `zero_division` parameter to control this behavior.\n",
            "  _warn_prf(average, modifier, msg_start, len(result))\n"
          ],
          "name": "stderr"
        }
      ]
    },
    {
      "cell_type": "code",
      "metadata": {
        "id": "_dcxv3bvI94-"
      },
      "source": [
        "def print_performance_metrics():\r\n",
        "  \r\n",
        "    print('Accuracy:', np.round(metrics.accuracy_score(y_test, max_y_pred_test),4))\r\n",
        "    print('Precision:', np.round(metrics.precision_score(y_test, \r\n",
        "                                max_y_pred_test,average='weighted'),4))\r\n",
        "    print('Recall:', np.round(metrics.recall_score(y_test, max_y_pred_test,\r\n",
        "                                               average='weighted'),4))\r\n",
        "    print('F1 Score:', np.round(metrics.f1_score(y_test, max_y_pred_test,\r\n",
        "                                               average='weighted'),4))\r\n",
        "    print('Cohen Kappa Score:', np.round(metrics.cohen_kappa_score(y_test.argmax(axis=1), max_y_pred_test.argmax(axis=1)),4))\r\n",
        "    print('Matthews Corrcoef:', np.round(metrics.matthews_corrcoef(y_test.argmax(axis=1), max_y_pred_test.argmax(axis=1)),4)) \r\n",
        "    print('ROC AUC:', (metrics.roc_auc_score(y_test, max_y_pred_test,average='macro')))\r\n",
        "    print('\\t\\tClassification Report:\\n', metrics.classification_report(y_test, max_y_pred_test))\r\n",
        "\r\n",
        "\r\n",
        "def print_confusion_matrix_and_save():\r\n",
        "    mat = confusion_matrix(y_test.argmax(axis=1), max_y_pred_test.argmax(axis=1))\r\n",
        "    sns.heatmap(mat.T, square=True, annot=True, fmt='d', cbar=False)\r\n",
        "    plt.title('Confusion Matrix')\r\n",
        "    plt.ylabel('True Label')\r\n",
        "    plt.xlabel('Predicted Label')\r\n",
        "    #plt.show()\r\n",
        "\r\n",
        "    plt.savefig(\"Hand.jpg\")\r\n",
        "    # Save SVG in a fake file object.\r\n",
        "    f = BytesIO()\r\n",
        "    plt.savefig(f, format=\"svg\")"
      ],
      "execution_count": 81,
      "outputs": []
    },
    {
      "cell_type": "code",
      "metadata": {
        "colab": {
          "base_uri": "https://localhost:8080/"
        },
        "id": "fhobotbTahj8",
        "outputId": "0ae9f0a4-8a98-4e9f-b93a-84c3b8bf3576"
      },
      "source": [
        "pred_test   = model.predict(X_test)\r\n",
        "max_y_pred_test = np.round(pred_test)\r\n",
        "print_performance_metrics()"
      ],
      "execution_count": 82,
      "outputs": [
        {
          "output_type": "stream",
          "text": [
            "Accuracy: 0.5795\n",
            "Precision: 0.5281\n",
            "Recall: 0.5795\n",
            "F1 Score: 0.5483\n",
            "Cohen Kappa Score: 0.2473\n",
            "Matthews Corrcoef: 0.2552\n",
            "ROC AUC: 0.6143673893673893\n",
            "\t\tClassification Report:\n",
            "               precision    recall  f1-score   support\n",
            "\n",
            "           0       1.00      0.71      0.83         7\n",
            "           1       0.69      0.79      0.74        52\n",
            "           2       0.00      0.00      0.00         9\n",
            "           3       0.24      0.36      0.29        14\n",
            "           4       0.00      0.00      0.00         6\n",
            "\n",
            "   micro avg       0.60      0.58      0.59        88\n",
            "   macro avg       0.39      0.37      0.37        88\n",
            "weighted avg       0.53      0.58      0.55        88\n",
            " samples avg       0.58      0.58      0.58        88\n",
            "\n"
          ],
          "name": "stdout"
        },
        {
          "output_type": "stream",
          "text": [
            "/usr/local/lib/python3.7/dist-packages/sklearn/metrics/_classification.py:1272: UndefinedMetricWarning: Precision is ill-defined and being set to 0.0 in labels with no predicted samples. Use `zero_division` parameter to control this behavior.\n",
            "  _warn_prf(average, modifier, msg_start, len(result))\n",
            "/usr/local/lib/python3.7/dist-packages/sklearn/metrics/_classification.py:1272: UndefinedMetricWarning: Precision and F-score are ill-defined and being set to 0.0 in labels with no predicted samples. Use `zero_division` parameter to control this behavior.\n",
            "  _warn_prf(average, modifier, msg_start, len(result))\n",
            "/usr/local/lib/python3.7/dist-packages/sklearn/metrics/_classification.py:1272: UndefinedMetricWarning: Precision and F-score are ill-defined and being set to 0.0 in samples with no predicted labels. Use `zero_division` parameter to control this behavior.\n",
            "  _warn_prf(average, modifier, msg_start, len(result))\n"
          ],
          "name": "stderr"
        }
      ]
    },
    {
      "cell_type": "code",
      "metadata": {
        "id": "aM37v0PbFvTV"
      },
      "source": [
        "def KFoldCV(train_X,y, model):  # This performs 10 Fold Cross validation on user dependant model\r\n",
        "\r\n",
        "    scores = []\r\n",
        "    train_scores = []\r\n",
        "    Kfold_CV = KFold(n_splits = 10, random_state=42)\r\n",
        "    i = 0\r\n",
        "\r\n",
        "    for train_index, test_index in Kfold_CV.split(train_X):\r\n",
        "\r\n",
        "        #CNN2()\r\n",
        "        i += 1\r\n",
        "        print(i)\r\n",
        "        \r\n",
        "          #break\r\n",
        "        Conv_LSTM_model  = model\r\n",
        "        Conv_LSTM_model.compile(loss = 'categorical_crossentropy', optimizer = Adam(), metrics = ['accuracy'])\r\n",
        "        if i<10:\r\n",
        "          print(Conv_LSTM_model.summary())\r\n",
        "\r\n",
        "        r = Conv_LSTM_model.fit(train_X[train_index], y[train_index], batch_size = 32, epochs = 30, validation_data = (train_X[test_index],y[test_index]))\r\n",
        "\r\n",
        "        # Evaluate on train\r\n",
        "        pred_train = Conv_LSTM_model.predict(train_X[train_index])\r\n",
        "        pred_train_te = pred_train.argmax(axis = 1)\r\n",
        "        train_te = y[train_index].argmax(axis = 1)\r\n",
        "        accuracy_train   = accuracy_score(train_te, pred_train_te)\r\n",
        "        train_scores.append(accuracy_train)\r\n",
        "        \r\n",
        "        # Evaluate on test\r\n",
        "        pred  = Conv_LSTM_model.predict(train_X[test_index])\r\n",
        "        pred_te = pred.argmax(axis = 1)\r\n",
        "        test_te = y[test_index].argmax(axis = 1)\r\n",
        "        accuracy = accuracy_score(test_te, pred_te)\r\n",
        "        scores.append(accuracy)\r\n",
        "\r\n",
        "    return scores, train_scores, Conv_LSTM_model,r"
      ],
      "execution_count": 83,
      "outputs": []
    },
    {
      "cell_type": "code",
      "metadata": {
        "colab": {
          "base_uri": "https://localhost:8080/"
        },
        "id": "sLEkOdRWHF1L",
        "outputId": "0d5b856e-892e-4c36-f760-cf2881abce18"
      },
      "source": [
        "### This cell performs 10 Cross Validation , to get Accuracy\r\n",
        "## Test Accuracy = np.mean(scores)\r\n",
        "## Train Accuracy = np.mean(train_scores)\r\n",
        "scores, train_scores, model, r = KFoldCV(train_X,train_y, CONV_BiLSTM_model()) ## Write model type as third parameter"
      ],
      "execution_count": 84,
      "outputs": [
        {
          "output_type": "stream",
          "text": [
            "/usr/local/lib/python3.7/dist-packages/sklearn/model_selection/_split.py:296: FutureWarning: Setting a random_state has no effect since shuffle is False. This will raise an error in 0.24. You should leave random_state to its default (None), or set shuffle=True.\n",
            "  FutureWarning\n"
          ],
          "name": "stderr"
        },
        {
          "output_type": "stream",
          "text": [
            "1\n",
            "Model: \"model_17\"\n",
            "_________________________________________________________________\n",
            "Layer (type)                 Output Shape              Param #   \n",
            "=================================================================\n",
            "input_18 (InputLayer)        [(None, 40, 1)]           0         \n",
            "_________________________________________________________________\n",
            "conv1d_39 (Conv1D)           (None, 38, 64)            256       \n",
            "_________________________________________________________________\n",
            "conv1d_40 (Conv1D)           (None, 36, 64)            12352     \n",
            "_________________________________________________________________\n",
            "conv1d_41 (Conv1D)           (None, 34, 128)           24704     \n",
            "_________________________________________________________________\n",
            "dropout_28 (Dropout)         (None, 34, 128)           0         \n",
            "_________________________________________________________________\n",
            "max_pooling1d_17 (MaxPooling (None, 17, 128)           0         \n",
            "_________________________________________________________________\n",
            "bidirectional_4 (Bidirection (None, 17, 200)           183200    \n",
            "_________________________________________________________________\n",
            "bidirectional_5 (Bidirection (None, 17, 400)           641600    \n",
            "_________________________________________________________________\n",
            "lstm_26 (LSTM)               (None, 400)               1281600   \n",
            "_________________________________________________________________\n",
            "dropout_29 (Dropout)         (None, 400)               0         \n",
            "_________________________________________________________________\n",
            "dense_40 (Dense)             (None, 200)               80200     \n",
            "_________________________________________________________________\n",
            "dense_41 (Dense)             (None, 5)                 1005      \n",
            "=================================================================\n",
            "Total params: 2,224,917\n",
            "Trainable params: 2,224,917\n",
            "Non-trainable params: 0\n",
            "_________________________________________________________________\n",
            "None\n",
            "Epoch 1/30\n",
            "17/17 [==============================] - 10s 107ms/step - loss: 1.2022 - accuracy: 0.4758 - val_loss: 2.6780 - val_accuracy: 0.0169\n",
            "Epoch 2/30\n",
            "17/17 [==============================] - 0s 17ms/step - loss: 0.8813 - accuracy: 0.6189 - val_loss: 4.6714 - val_accuracy: 0.0678\n",
            "Epoch 3/30\n",
            "17/17 [==============================] - 0s 16ms/step - loss: 0.8524 - accuracy: 0.6794 - val_loss: 5.3495 - val_accuracy: 0.0000e+00\n",
            "Epoch 4/30\n",
            "17/17 [==============================] - 0s 16ms/step - loss: 0.8406 - accuracy: 0.6836 - val_loss: 4.8997 - val_accuracy: 0.0000e+00\n",
            "Epoch 5/30\n",
            "17/17 [==============================] - 0s 16ms/step - loss: 0.7819 - accuracy: 0.7080 - val_loss: 5.0833 - val_accuracy: 0.0000e+00\n",
            "Epoch 6/30\n",
            "17/17 [==============================] - 0s 16ms/step - loss: 0.8320 - accuracy: 0.6776 - val_loss: 4.4044 - val_accuracy: 0.0000e+00\n",
            "Epoch 7/30\n",
            "17/17 [==============================] - 0s 16ms/step - loss: 0.7756 - accuracy: 0.7033 - val_loss: 3.8089 - val_accuracy: 0.0000e+00\n",
            "Epoch 8/30\n",
            "17/17 [==============================] - 0s 16ms/step - loss: 0.7353 - accuracy: 0.7248 - val_loss: 4.6120 - val_accuracy: 0.0000e+00\n",
            "Epoch 9/30\n",
            "17/17 [==============================] - 0s 16ms/step - loss: 0.7673 - accuracy: 0.7122 - val_loss: 5.1010 - val_accuracy: 0.0000e+00\n",
            "Epoch 10/30\n",
            "17/17 [==============================] - 0s 16ms/step - loss: 0.7621 - accuracy: 0.7126 - val_loss: 5.2641 - val_accuracy: 0.0000e+00\n",
            "Epoch 11/30\n",
            "17/17 [==============================] - 0s 16ms/step - loss: 0.7640 - accuracy: 0.6897 - val_loss: 4.7801 - val_accuracy: 0.0000e+00\n",
            "Epoch 12/30\n",
            "17/17 [==============================] - 0s 17ms/step - loss: 0.7658 - accuracy: 0.6879 - val_loss: 5.2547 - val_accuracy: 0.0000e+00\n",
            "Epoch 13/30\n",
            "17/17 [==============================] - 0s 16ms/step - loss: 0.7748 - accuracy: 0.7141 - val_loss: 5.7460 - val_accuracy: 0.0000e+00\n",
            "Epoch 14/30\n",
            "17/17 [==============================] - 0s 16ms/step - loss: 0.6708 - accuracy: 0.7582 - val_loss: 5.6161 - val_accuracy: 0.0000e+00\n",
            "Epoch 15/30\n",
            "17/17 [==============================] - 0s 16ms/step - loss: 0.7407 - accuracy: 0.7238 - val_loss: 5.5930 - val_accuracy: 0.0000e+00\n",
            "Epoch 16/30\n",
            "17/17 [==============================] - 0s 17ms/step - loss: 0.7412 - accuracy: 0.7339 - val_loss: 5.5749 - val_accuracy: 0.0000e+00\n",
            "Epoch 17/30\n",
            "17/17 [==============================] - 0s 17ms/step - loss: 0.7145 - accuracy: 0.7293 - val_loss: 5.8851 - val_accuracy: 0.0000e+00\n",
            "Epoch 18/30\n",
            "17/17 [==============================] - 0s 16ms/step - loss: 0.7498 - accuracy: 0.7195 - val_loss: 5.6002 - val_accuracy: 0.0000e+00\n",
            "Epoch 19/30\n",
            "17/17 [==============================] - 0s 16ms/step - loss: 0.7095 - accuracy: 0.7248 - val_loss: 5.2630 - val_accuracy: 0.0000e+00\n",
            "Epoch 20/30\n",
            "17/17 [==============================] - 0s 16ms/step - loss: 0.7993 - accuracy: 0.6736 - val_loss: 5.0881 - val_accuracy: 0.0169\n",
            "Epoch 21/30\n",
            "17/17 [==============================] - 0s 16ms/step - loss: 0.7826 - accuracy: 0.7116 - val_loss: 5.3810 - val_accuracy: 0.0169\n",
            "Epoch 22/30\n",
            "17/17 [==============================] - 0s 17ms/step - loss: 0.7577 - accuracy: 0.6968 - val_loss: 5.5824 - val_accuracy: 0.0169\n",
            "Epoch 23/30\n",
            "17/17 [==============================] - 0s 17ms/step - loss: 0.7090 - accuracy: 0.7354 - val_loss: 5.1507 - val_accuracy: 0.0000e+00\n",
            "Epoch 24/30\n",
            "17/17 [==============================] - 0s 17ms/step - loss: 0.6953 - accuracy: 0.7422 - val_loss: 5.9609 - val_accuracy: 0.0000e+00\n",
            "Epoch 25/30\n",
            "17/17 [==============================] - 0s 17ms/step - loss: 0.7373 - accuracy: 0.7173 - val_loss: 5.6628 - val_accuracy: 0.0000e+00\n",
            "Epoch 26/30\n",
            "17/17 [==============================] - 0s 16ms/step - loss: 0.7062 - accuracy: 0.7439 - val_loss: 5.1609 - val_accuracy: 0.0000e+00\n",
            "Epoch 27/30\n",
            "17/17 [==============================] - 0s 17ms/step - loss: 0.6719 - accuracy: 0.7569 - val_loss: 5.3727 - val_accuracy: 0.0000e+00\n",
            "Epoch 28/30\n",
            "17/17 [==============================] - 0s 17ms/step - loss: 0.7246 - accuracy: 0.7280 - val_loss: 4.9379 - val_accuracy: 0.0000e+00\n",
            "Epoch 29/30\n",
            "17/17 [==============================] - 0s 16ms/step - loss: 0.7142 - accuracy: 0.7356 - val_loss: 5.3230 - val_accuracy: 0.0000e+00\n",
            "Epoch 30/30\n",
            "17/17 [==============================] - 0s 16ms/step - loss: 0.7070 - accuracy: 0.7406 - val_loss: 5.8656 - val_accuracy: 0.0000e+00\n",
            "2\n",
            "Model: \"model_17\"\n",
            "_________________________________________________________________\n",
            "Layer (type)                 Output Shape              Param #   \n",
            "=================================================================\n",
            "input_18 (InputLayer)        [(None, 40, 1)]           0         \n",
            "_________________________________________________________________\n",
            "conv1d_39 (Conv1D)           (None, 38, 64)            256       \n",
            "_________________________________________________________________\n",
            "conv1d_40 (Conv1D)           (None, 36, 64)            12352     \n",
            "_________________________________________________________________\n",
            "conv1d_41 (Conv1D)           (None, 34, 128)           24704     \n",
            "_________________________________________________________________\n",
            "dropout_28 (Dropout)         (None, 34, 128)           0         \n",
            "_________________________________________________________________\n",
            "max_pooling1d_17 (MaxPooling (None, 17, 128)           0         \n",
            "_________________________________________________________________\n",
            "bidirectional_4 (Bidirection (None, 17, 200)           183200    \n",
            "_________________________________________________________________\n",
            "bidirectional_5 (Bidirection (None, 17, 400)           641600    \n",
            "_________________________________________________________________\n",
            "lstm_26 (LSTM)               (None, 400)               1281600   \n",
            "_________________________________________________________________\n",
            "dropout_29 (Dropout)         (None, 400)               0         \n",
            "_________________________________________________________________\n",
            "dense_40 (Dense)             (None, 200)               80200     \n",
            "_________________________________________________________________\n",
            "dense_41 (Dense)             (None, 5)                 1005      \n",
            "=================================================================\n",
            "Total params: 2,224,917\n",
            "Trainable params: 2,224,917\n",
            "Non-trainable params: 0\n",
            "_________________________________________________________________\n",
            "None\n",
            "Epoch 1/30\n",
            "17/17 [==============================] - 7s 105ms/step - loss: 1.0349 - accuracy: 0.6758 - val_loss: 1.6601 - val_accuracy: 0.4746\n",
            "Epoch 2/30\n",
            "17/17 [==============================] - 0s 16ms/step - loss: 0.7373 - accuracy: 0.7226 - val_loss: 2.0387 - val_accuracy: 0.4068\n",
            "Epoch 3/30\n",
            "17/17 [==============================] - 0s 17ms/step - loss: 0.7300 - accuracy: 0.7120 - val_loss: 2.0977 - val_accuracy: 0.4237\n",
            "Epoch 4/30\n",
            "17/17 [==============================] - 0s 17ms/step - loss: 0.6825 - accuracy: 0.7560 - val_loss: 2.7284 - val_accuracy: 0.4068\n",
            "Epoch 5/30\n",
            "17/17 [==============================] - 0s 16ms/step - loss: 0.7194 - accuracy: 0.7505 - val_loss: 2.8697 - val_accuracy: 0.4237\n",
            "Epoch 6/30\n",
            "17/17 [==============================] - 0s 17ms/step - loss: 0.6643 - accuracy: 0.7551 - val_loss: 2.8688 - val_accuracy: 0.4068\n",
            "Epoch 7/30\n",
            "17/17 [==============================] - 0s 16ms/step - loss: 0.7031 - accuracy: 0.7280 - val_loss: 3.0169 - val_accuracy: 0.3729\n",
            "Epoch 8/30\n",
            "17/17 [==============================] - 0s 16ms/step - loss: 0.6651 - accuracy: 0.7616 - val_loss: 2.4778 - val_accuracy: 0.4746\n",
            "Epoch 9/30\n",
            "17/17 [==============================] - 0s 16ms/step - loss: 0.6947 - accuracy: 0.7320 - val_loss: 2.6868 - val_accuracy: 0.4068\n",
            "Epoch 10/30\n",
            "17/17 [==============================] - 0s 17ms/step - loss: 0.6825 - accuracy: 0.7696 - val_loss: 2.4599 - val_accuracy: 0.5085\n",
            "Epoch 11/30\n",
            "17/17 [==============================] - 0s 17ms/step - loss: 0.6901 - accuracy: 0.7567 - val_loss: 2.6657 - val_accuracy: 0.4407\n",
            "Epoch 12/30\n",
            "17/17 [==============================] - 0s 16ms/step - loss: 0.6936 - accuracy: 0.7384 - val_loss: 2.4631 - val_accuracy: 0.4746\n",
            "Epoch 13/30\n",
            "17/17 [==============================] - 0s 17ms/step - loss: 0.6224 - accuracy: 0.7788 - val_loss: 2.6817 - val_accuracy: 0.4407\n",
            "Epoch 14/30\n",
            "17/17 [==============================] - 0s 17ms/step - loss: 0.7974 - accuracy: 0.7090 - val_loss: 2.9234 - val_accuracy: 0.4237\n",
            "Epoch 15/30\n",
            "17/17 [==============================] - 0s 17ms/step - loss: 0.6498 - accuracy: 0.7733 - val_loss: 2.6756 - val_accuracy: 0.4407\n",
            "Epoch 16/30\n",
            "17/17 [==============================] - 0s 16ms/step - loss: 0.6371 - accuracy: 0.7624 - val_loss: 3.0640 - val_accuracy: 0.4746\n",
            "Epoch 17/30\n",
            "17/17 [==============================] - 0s 17ms/step - loss: 0.6013 - accuracy: 0.7850 - val_loss: 3.1728 - val_accuracy: 0.4407\n",
            "Epoch 18/30\n",
            "17/17 [==============================] - 0s 17ms/step - loss: 0.6381 - accuracy: 0.7595 - val_loss: 3.1220 - val_accuracy: 0.4407\n",
            "Epoch 19/30\n",
            "17/17 [==============================] - 0s 16ms/step - loss: 0.5722 - accuracy: 0.7877 - val_loss: 3.5116 - val_accuracy: 0.4237\n",
            "Epoch 20/30\n",
            "17/17 [==============================] - 0s 16ms/step - loss: 0.5486 - accuracy: 0.8040 - val_loss: 3.6373 - val_accuracy: 0.4407\n",
            "Epoch 21/30\n",
            "17/17 [==============================] - 0s 17ms/step - loss: 0.5536 - accuracy: 0.7926 - val_loss: 3.9542 - val_accuracy: 0.3898\n",
            "Epoch 22/30\n",
            "17/17 [==============================] - 0s 17ms/step - loss: 0.5821 - accuracy: 0.7876 - val_loss: 3.8438 - val_accuracy: 0.4576\n",
            "Epoch 23/30\n",
            "17/17 [==============================] - 0s 16ms/step - loss: 0.6014 - accuracy: 0.7967 - val_loss: 2.8797 - val_accuracy: 0.4237\n",
            "Epoch 24/30\n",
            "17/17 [==============================] - 0s 16ms/step - loss: 0.6284 - accuracy: 0.7696 - val_loss: 3.2773 - val_accuracy: 0.4237\n",
            "Epoch 25/30\n",
            "17/17 [==============================] - 0s 16ms/step - loss: 0.6240 - accuracy: 0.7688 - val_loss: 3.3712 - val_accuracy: 0.4407\n",
            "Epoch 26/30\n",
            "17/17 [==============================] - 0s 17ms/step - loss: 0.5446 - accuracy: 0.8142 - val_loss: 3.5180 - val_accuracy: 0.4237\n",
            "Epoch 27/30\n",
            "17/17 [==============================] - 0s 16ms/step - loss: 0.5536 - accuracy: 0.8050 - val_loss: 4.0035 - val_accuracy: 0.4407\n",
            "Epoch 28/30\n",
            "17/17 [==============================] - 0s 16ms/step - loss: 0.5502 - accuracy: 0.7998 - val_loss: 4.4338 - val_accuracy: 0.4237\n",
            "Epoch 29/30\n",
            "17/17 [==============================] - 0s 16ms/step - loss: 0.5381 - accuracy: 0.8090 - val_loss: 4.6353 - val_accuracy: 0.4237\n",
            "Epoch 30/30\n",
            "17/17 [==============================] - 0s 16ms/step - loss: 0.4957 - accuracy: 0.8223 - val_loss: 4.3987 - val_accuracy: 0.4237\n",
            "3\n",
            "Model: \"model_17\"\n",
            "_________________________________________________________________\n",
            "Layer (type)                 Output Shape              Param #   \n",
            "=================================================================\n",
            "input_18 (InputLayer)        [(None, 40, 1)]           0         \n",
            "_________________________________________________________________\n",
            "conv1d_39 (Conv1D)           (None, 38, 64)            256       \n",
            "_________________________________________________________________\n",
            "conv1d_40 (Conv1D)           (None, 36, 64)            12352     \n",
            "_________________________________________________________________\n",
            "conv1d_41 (Conv1D)           (None, 34, 128)           24704     \n",
            "_________________________________________________________________\n",
            "dropout_28 (Dropout)         (None, 34, 128)           0         \n",
            "_________________________________________________________________\n",
            "max_pooling1d_17 (MaxPooling (None, 17, 128)           0         \n",
            "_________________________________________________________________\n",
            "bidirectional_4 (Bidirection (None, 17, 200)           183200    \n",
            "_________________________________________________________________\n",
            "bidirectional_5 (Bidirection (None, 17, 400)           641600    \n",
            "_________________________________________________________________\n",
            "lstm_26 (LSTM)               (None, 400)               1281600   \n",
            "_________________________________________________________________\n",
            "dropout_29 (Dropout)         (None, 400)               0         \n",
            "_________________________________________________________________\n",
            "dense_40 (Dense)             (None, 200)               80200     \n",
            "_________________________________________________________________\n",
            "dense_41 (Dense)             (None, 5)                 1005      \n",
            "=================================================================\n",
            "Total params: 2,224,917\n",
            "Trainable params: 2,224,917\n",
            "Non-trainable params: 0\n",
            "_________________________________________________________________\n",
            "None\n",
            "Epoch 1/30\n",
            "17/17 [==============================] - 8s 104ms/step - loss: 0.8075 - accuracy: 0.7203 - val_loss: 0.3801 - val_accuracy: 0.8983\n",
            "Epoch 2/30\n",
            "17/17 [==============================] - 0s 16ms/step - loss: 0.7014 - accuracy: 0.7213 - val_loss: 0.2774 - val_accuracy: 0.9322\n",
            "Epoch 3/30\n",
            "17/17 [==============================] - 0s 16ms/step - loss: 0.6290 - accuracy: 0.7191 - val_loss: 0.2676 - val_accuracy: 0.9492\n",
            "Epoch 4/30\n",
            "17/17 [==============================] - 0s 16ms/step - loss: 0.5472 - accuracy: 0.7764 - val_loss: 0.3762 - val_accuracy: 0.9322\n",
            "Epoch 5/30\n",
            "17/17 [==============================] - 0s 15ms/step - loss: 0.5915 - accuracy: 0.7621 - val_loss: 0.3880 - val_accuracy: 0.9322\n",
            "Epoch 6/30\n",
            "17/17 [==============================] - 0s 17ms/step - loss: 0.6485 - accuracy: 0.7250 - val_loss: 0.4018 - val_accuracy: 0.9322\n",
            "Epoch 7/30\n",
            "17/17 [==============================] - 0s 17ms/step - loss: 0.5949 - accuracy: 0.7430 - val_loss: 0.3401 - val_accuracy: 0.9153\n",
            "Epoch 8/30\n",
            "17/17 [==============================] - 0s 17ms/step - loss: 0.5691 - accuracy: 0.7569 - val_loss: 0.3014 - val_accuracy: 0.9153\n",
            "Epoch 9/30\n",
            "17/17 [==============================] - 0s 17ms/step - loss: 0.6039 - accuracy: 0.7584 - val_loss: 0.1718 - val_accuracy: 0.9661\n",
            "Epoch 10/30\n",
            "17/17 [==============================] - 0s 17ms/step - loss: 0.6069 - accuracy: 0.7675 - val_loss: 0.2618 - val_accuracy: 0.9322\n",
            "Epoch 11/30\n",
            "17/17 [==============================] - 0s 17ms/step - loss: 0.5455 - accuracy: 0.7642 - val_loss: 0.3824 - val_accuracy: 0.8814\n",
            "Epoch 12/30\n",
            "17/17 [==============================] - 0s 16ms/step - loss: 0.5305 - accuracy: 0.7845 - val_loss: 0.5295 - val_accuracy: 0.8136\n",
            "Epoch 13/30\n",
            "17/17 [==============================] - 0s 16ms/step - loss: 0.6174 - accuracy: 0.7376 - val_loss: 0.3603 - val_accuracy: 0.8305\n",
            "Epoch 14/30\n",
            "17/17 [==============================] - 0s 17ms/step - loss: 0.5482 - accuracy: 0.7864 - val_loss: 0.3413 - val_accuracy: 0.8814\n",
            "Epoch 15/30\n",
            "17/17 [==============================] - 0s 17ms/step - loss: 0.5494 - accuracy: 0.7637 - val_loss: 0.3604 - val_accuracy: 0.8136\n",
            "Epoch 16/30\n",
            "17/17 [==============================] - 0s 16ms/step - loss: 0.6032 - accuracy: 0.7323 - val_loss: 0.4132 - val_accuracy: 0.9153\n",
            "Epoch 17/30\n",
            "17/17 [==============================] - 0s 17ms/step - loss: 0.5913 - accuracy: 0.7607 - val_loss: 0.2871 - val_accuracy: 0.9322\n",
            "Epoch 18/30\n",
            "17/17 [==============================] - 0s 17ms/step - loss: 0.5568 - accuracy: 0.7740 - val_loss: 0.4241 - val_accuracy: 0.8983\n",
            "Epoch 19/30\n",
            "17/17 [==============================] - 0s 17ms/step - loss: 0.5429 - accuracy: 0.7518 - val_loss: 0.4946 - val_accuracy: 0.8475\n",
            "Epoch 20/30\n",
            "17/17 [==============================] - 0s 17ms/step - loss: 0.5425 - accuracy: 0.7515 - val_loss: 0.4098 - val_accuracy: 0.8644\n",
            "Epoch 21/30\n",
            "17/17 [==============================] - 0s 17ms/step - loss: 0.4880 - accuracy: 0.7804 - val_loss: 0.5719 - val_accuracy: 0.7966\n",
            "Epoch 22/30\n",
            "17/17 [==============================] - 0s 17ms/step - loss: 0.5043 - accuracy: 0.7719 - val_loss: 0.6267 - val_accuracy: 0.7627\n",
            "Epoch 23/30\n",
            "17/17 [==============================] - 0s 17ms/step - loss: 0.4765 - accuracy: 0.7817 - val_loss: 0.8237 - val_accuracy: 0.8475\n",
            "Epoch 24/30\n",
            "17/17 [==============================] - 0s 17ms/step - loss: 0.5330 - accuracy: 0.7802 - val_loss: 0.4645 - val_accuracy: 0.8983\n",
            "Epoch 25/30\n",
            "17/17 [==============================] - 0s 16ms/step - loss: 0.5860 - accuracy: 0.7563 - val_loss: 0.5056 - val_accuracy: 0.8983\n",
            "Epoch 26/30\n",
            "17/17 [==============================] - 0s 16ms/step - loss: 0.5361 - accuracy: 0.7746 - val_loss: 0.5329 - val_accuracy: 0.7966\n",
            "Epoch 27/30\n",
            "17/17 [==============================] - 0s 17ms/step - loss: 0.5069 - accuracy: 0.7811 - val_loss: 0.4427 - val_accuracy: 0.8983\n",
            "Epoch 28/30\n",
            "17/17 [==============================] - 0s 17ms/step - loss: 0.4313 - accuracy: 0.8221 - val_loss: 0.4258 - val_accuracy: 0.8814\n",
            "Epoch 29/30\n",
            "17/17 [==============================] - 0s 17ms/step - loss: 0.4086 - accuracy: 0.8270 - val_loss: 0.4756 - val_accuracy: 0.8983\n",
            "Epoch 30/30\n",
            "17/17 [==============================] - 0s 16ms/step - loss: 0.4011 - accuracy: 0.8143 - val_loss: 0.4841 - val_accuracy: 0.8644\n",
            "4\n",
            "Model: \"model_17\"\n",
            "_________________________________________________________________\n",
            "Layer (type)                 Output Shape              Param #   \n",
            "=================================================================\n",
            "input_18 (InputLayer)        [(None, 40, 1)]           0         \n",
            "_________________________________________________________________\n",
            "conv1d_39 (Conv1D)           (None, 38, 64)            256       \n",
            "_________________________________________________________________\n",
            "conv1d_40 (Conv1D)           (None, 36, 64)            12352     \n",
            "_________________________________________________________________\n",
            "conv1d_41 (Conv1D)           (None, 34, 128)           24704     \n",
            "_________________________________________________________________\n",
            "dropout_28 (Dropout)         (None, 34, 128)           0         \n",
            "_________________________________________________________________\n",
            "max_pooling1d_17 (MaxPooling (None, 17, 128)           0         \n",
            "_________________________________________________________________\n",
            "bidirectional_4 (Bidirection (None, 17, 200)           183200    \n",
            "_________________________________________________________________\n",
            "bidirectional_5 (Bidirection (None, 17, 400)           641600    \n",
            "_________________________________________________________________\n",
            "lstm_26 (LSTM)               (None, 400)               1281600   \n",
            "_________________________________________________________________\n",
            "dropout_29 (Dropout)         (None, 400)               0         \n",
            "_________________________________________________________________\n",
            "dense_40 (Dense)             (None, 200)               80200     \n",
            "_________________________________________________________________\n",
            "dense_41 (Dense)             (None, 5)                 1005      \n",
            "=================================================================\n",
            "Total params: 2,224,917\n",
            "Trainable params: 2,224,917\n",
            "Non-trainable params: 0\n",
            "_________________________________________________________________\n",
            "None\n",
            "Epoch 1/30\n",
            "17/17 [==============================] - 7s 109ms/step - loss: 0.5011 - accuracy: 0.7735 - val_loss: 0.3129 - val_accuracy: 0.9138\n",
            "Epoch 2/30\n",
            "17/17 [==============================] - 0s 16ms/step - loss: 0.4869 - accuracy: 0.7972 - val_loss: 0.2591 - val_accuracy: 0.9483\n",
            "Epoch 3/30\n",
            "17/17 [==============================] - 0s 17ms/step - loss: 0.4708 - accuracy: 0.7940 - val_loss: 0.2256 - val_accuracy: 0.9655\n",
            "Epoch 4/30\n",
            "17/17 [==============================] - 0s 17ms/step - loss: 0.5020 - accuracy: 0.7830 - val_loss: 0.4998 - val_accuracy: 0.8276\n",
            "Epoch 5/30\n",
            "17/17 [==============================] - 0s 17ms/step - loss: 0.5101 - accuracy: 0.8071 - val_loss: 0.3917 - val_accuracy: 0.9655\n",
            "Epoch 6/30\n",
            "17/17 [==============================] - 0s 16ms/step - loss: 0.4498 - accuracy: 0.7961 - val_loss: 0.2243 - val_accuracy: 0.9483\n",
            "Epoch 7/30\n",
            "17/17 [==============================] - 0s 16ms/step - loss: 0.4175 - accuracy: 0.8194 - val_loss: 0.2065 - val_accuracy: 0.9483\n",
            "Epoch 8/30\n",
            "17/17 [==============================] - 0s 17ms/step - loss: 0.3858 - accuracy: 0.8376 - val_loss: 0.1772 - val_accuracy: 0.9828\n",
            "Epoch 9/30\n",
            "17/17 [==============================] - 0s 16ms/step - loss: 0.3395 - accuracy: 0.8444 - val_loss: 0.4034 - val_accuracy: 0.8276\n",
            "Epoch 10/30\n",
            "17/17 [==============================] - 0s 16ms/step - loss: 0.3663 - accuracy: 0.8410 - val_loss: 0.4271 - val_accuracy: 0.8793\n",
            "Epoch 11/30\n",
            "17/17 [==============================] - 0s 16ms/step - loss: 0.4093 - accuracy: 0.8163 - val_loss: 0.3574 - val_accuracy: 0.8793\n",
            "Epoch 12/30\n",
            "17/17 [==============================] - 0s 18ms/step - loss: 0.3749 - accuracy: 0.8429 - val_loss: 0.3562 - val_accuracy: 0.8448\n",
            "Epoch 13/30\n",
            "17/17 [==============================] - 0s 18ms/step - loss: 0.4139 - accuracy: 0.8308 - val_loss: 0.2554 - val_accuracy: 0.9138\n",
            "Epoch 14/30\n",
            "17/17 [==============================] - 0s 17ms/step - loss: 0.3312 - accuracy: 0.8532 - val_loss: 0.3760 - val_accuracy: 0.8793\n",
            "Epoch 15/30\n",
            "17/17 [==============================] - 0s 17ms/step - loss: 0.3636 - accuracy: 0.8496 - val_loss: 0.4248 - val_accuracy: 0.8276\n",
            "Epoch 16/30\n",
            "17/17 [==============================] - 0s 17ms/step - loss: 0.3613 - accuracy: 0.8402 - val_loss: 0.3453 - val_accuracy: 0.8448\n",
            "Epoch 17/30\n",
            "17/17 [==============================] - 0s 17ms/step - loss: 0.3148 - accuracy: 0.8580 - val_loss: 0.2364 - val_accuracy: 0.9138\n",
            "Epoch 18/30\n",
            "17/17 [==============================] - 0s 17ms/step - loss: 0.2961 - accuracy: 0.8490 - val_loss: 0.2804 - val_accuracy: 0.8793\n",
            "Epoch 19/30\n",
            "17/17 [==============================] - 0s 17ms/step - loss: 0.3770 - accuracy: 0.8328 - val_loss: 0.2625 - val_accuracy: 0.9138\n",
            "Epoch 20/30\n",
            "17/17 [==============================] - 0s 17ms/step - loss: 0.2802 - accuracy: 0.8748 - val_loss: 0.2188 - val_accuracy: 0.9138\n",
            "Epoch 21/30\n",
            "17/17 [==============================] - 0s 16ms/step - loss: 0.2625 - accuracy: 0.8988 - val_loss: 0.3769 - val_accuracy: 0.8276\n",
            "Epoch 22/30\n",
            "17/17 [==============================] - 0s 17ms/step - loss: 0.3037 - accuracy: 0.8876 - val_loss: 0.3598 - val_accuracy: 0.8621\n",
            "Epoch 23/30\n",
            "17/17 [==============================] - 0s 18ms/step - loss: 0.4261 - accuracy: 0.8087 - val_loss: 0.3166 - val_accuracy: 0.8966\n",
            "Epoch 24/30\n",
            "17/17 [==============================] - 0s 16ms/step - loss: 0.4171 - accuracy: 0.8288 - val_loss: 0.1635 - val_accuracy: 0.9655\n",
            "Epoch 25/30\n",
            "17/17 [==============================] - 0s 16ms/step - loss: 0.3682 - accuracy: 0.8236 - val_loss: 0.2649 - val_accuracy: 0.9310\n",
            "Epoch 26/30\n",
            "17/17 [==============================] - 0s 16ms/step - loss: 0.3487 - accuracy: 0.8424 - val_loss: 0.3350 - val_accuracy: 0.8621\n",
            "Epoch 27/30\n",
            "17/17 [==============================] - 0s 17ms/step - loss: 0.3766 - accuracy: 0.8319 - val_loss: 0.2676 - val_accuracy: 0.9138\n",
            "Epoch 28/30\n",
            "17/17 [==============================] - 0s 16ms/step - loss: 0.2799 - accuracy: 0.8747 - val_loss: 0.3110 - val_accuracy: 0.8966\n",
            "Epoch 29/30\n",
            "17/17 [==============================] - 0s 16ms/step - loss: 0.2613 - accuracy: 0.8800 - val_loss: 0.2739 - val_accuracy: 0.8966\n",
            "Epoch 30/30\n",
            "17/17 [==============================] - 0s 17ms/step - loss: 0.2430 - accuracy: 0.8890 - val_loss: 0.3791 - val_accuracy: 0.8276\n",
            "5\n",
            "Model: \"model_17\"\n",
            "_________________________________________________________________\n",
            "Layer (type)                 Output Shape              Param #   \n",
            "=================================================================\n",
            "input_18 (InputLayer)        [(None, 40, 1)]           0         \n",
            "_________________________________________________________________\n",
            "conv1d_39 (Conv1D)           (None, 38, 64)            256       \n",
            "_________________________________________________________________\n",
            "conv1d_40 (Conv1D)           (None, 36, 64)            12352     \n",
            "_________________________________________________________________\n",
            "conv1d_41 (Conv1D)           (None, 34, 128)           24704     \n",
            "_________________________________________________________________\n",
            "dropout_28 (Dropout)         (None, 34, 128)           0         \n",
            "_________________________________________________________________\n",
            "max_pooling1d_17 (MaxPooling (None, 17, 128)           0         \n",
            "_________________________________________________________________\n",
            "bidirectional_4 (Bidirection (None, 17, 200)           183200    \n",
            "_________________________________________________________________\n",
            "bidirectional_5 (Bidirection (None, 17, 400)           641600    \n",
            "_________________________________________________________________\n",
            "lstm_26 (LSTM)               (None, 400)               1281600   \n",
            "_________________________________________________________________\n",
            "dropout_29 (Dropout)         (None, 400)               0         \n",
            "_________________________________________________________________\n",
            "dense_40 (Dense)             (None, 200)               80200     \n",
            "_________________________________________________________________\n",
            "dense_41 (Dense)             (None, 5)                 1005      \n",
            "=================================================================\n",
            "Total params: 2,224,917\n",
            "Trainable params: 2,224,917\n",
            "Non-trainable params: 0\n",
            "_________________________________________________________________\n",
            "None\n",
            "Epoch 1/30\n",
            "17/17 [==============================] - 7s 105ms/step - loss: 0.4026 - accuracy: 0.8238 - val_loss: 0.1126 - val_accuracy: 1.0000\n",
            "Epoch 2/30\n",
            "17/17 [==============================] - 0s 17ms/step - loss: 0.3702 - accuracy: 0.8320 - val_loss: 0.1647 - val_accuracy: 0.9310\n",
            "Epoch 3/30\n",
            "17/17 [==============================] - 0s 17ms/step - loss: 0.2397 - accuracy: 0.8870 - val_loss: 0.0616 - val_accuracy: 0.9828\n",
            "Epoch 4/30\n",
            "17/17 [==============================] - 0s 17ms/step - loss: 0.1955 - accuracy: 0.9201 - val_loss: 0.1290 - val_accuracy: 0.9310\n",
            "Epoch 5/30\n",
            "17/17 [==============================] - 0s 16ms/step - loss: 0.1738 - accuracy: 0.9343 - val_loss: 0.0491 - val_accuracy: 1.0000\n",
            "Epoch 6/30\n",
            "17/17 [==============================] - 0s 16ms/step - loss: 0.2575 - accuracy: 0.8958 - val_loss: 0.0923 - val_accuracy: 0.9655\n",
            "Epoch 7/30\n",
            "17/17 [==============================] - 0s 17ms/step - loss: 0.2609 - accuracy: 0.8772 - val_loss: 0.0948 - val_accuracy: 0.9310\n",
            "Epoch 8/30\n",
            "17/17 [==============================] - 0s 17ms/step - loss: 0.1867 - accuracy: 0.9166 - val_loss: 0.2399 - val_accuracy: 0.8966\n",
            "Epoch 9/30\n",
            "17/17 [==============================] - 0s 16ms/step - loss: 0.1993 - accuracy: 0.9140 - val_loss: 0.1925 - val_accuracy: 0.9138\n",
            "Epoch 10/30\n",
            "17/17 [==============================] - 0s 16ms/step - loss: 0.1758 - accuracy: 0.9295 - val_loss: 0.1279 - val_accuracy: 0.9483\n",
            "Epoch 11/30\n",
            "17/17 [==============================] - 0s 16ms/step - loss: 0.1376 - accuracy: 0.9549 - val_loss: 0.4507 - val_accuracy: 0.7931\n",
            "Epoch 12/30\n",
            "17/17 [==============================] - 0s 16ms/step - loss: 0.4136 - accuracy: 0.8574 - val_loss: 0.1658 - val_accuracy: 0.9655\n",
            "Epoch 13/30\n",
            "17/17 [==============================] - 0s 16ms/step - loss: 0.2536 - accuracy: 0.8943 - val_loss: 0.2064 - val_accuracy: 0.8793\n",
            "Epoch 14/30\n",
            "17/17 [==============================] - 0s 17ms/step - loss: 0.2044 - accuracy: 0.9163 - val_loss: 0.1009 - val_accuracy: 0.9655\n",
            "Epoch 15/30\n",
            "17/17 [==============================] - 0s 16ms/step - loss: 0.1559 - accuracy: 0.9410 - val_loss: 0.0552 - val_accuracy: 0.9655\n",
            "Epoch 16/30\n",
            "17/17 [==============================] - 0s 16ms/step - loss: 0.1475 - accuracy: 0.9449 - val_loss: 0.2740 - val_accuracy: 0.8621\n",
            "Epoch 17/30\n",
            "17/17 [==============================] - 0s 16ms/step - loss: 0.2072 - accuracy: 0.9188 - val_loss: 0.1105 - val_accuracy: 0.9828\n",
            "Epoch 18/30\n",
            "17/17 [==============================] - 0s 17ms/step - loss: 0.1885 - accuracy: 0.9096 - val_loss: 0.1129 - val_accuracy: 0.9828\n",
            "Epoch 19/30\n",
            "17/17 [==============================] - 0s 16ms/step - loss: 0.0952 - accuracy: 0.9724 - val_loss: 0.0422 - val_accuracy: 1.0000\n",
            "Epoch 20/30\n",
            "17/17 [==============================] - 0s 16ms/step - loss: 0.1341 - accuracy: 0.9427 - val_loss: 0.2171 - val_accuracy: 0.9310\n",
            "Epoch 21/30\n",
            "17/17 [==============================] - 0s 16ms/step - loss: 0.1074 - accuracy: 0.9602 - val_loss: 0.2406 - val_accuracy: 0.9310\n",
            "Epoch 22/30\n",
            "17/17 [==============================] - 0s 17ms/step - loss: 0.1376 - accuracy: 0.9513 - val_loss: 0.2716 - val_accuracy: 0.8966\n",
            "Epoch 23/30\n",
            "17/17 [==============================] - 0s 16ms/step - loss: 0.1939 - accuracy: 0.9126 - val_loss: 0.2324 - val_accuracy: 0.9483\n",
            "Epoch 24/30\n",
            "17/17 [==============================] - 0s 17ms/step - loss: 0.1691 - accuracy: 0.9389 - val_loss: 0.3146 - val_accuracy: 0.9138\n",
            "Epoch 25/30\n",
            "17/17 [==============================] - 0s 16ms/step - loss: 0.1576 - accuracy: 0.9322 - val_loss: 0.1837 - val_accuracy: 0.8793\n",
            "Epoch 26/30\n",
            "17/17 [==============================] - 0s 17ms/step - loss: 0.2289 - accuracy: 0.9345 - val_loss: 0.3593 - val_accuracy: 0.8966\n",
            "Epoch 27/30\n",
            "17/17 [==============================] - 0s 16ms/step - loss: 0.2400 - accuracy: 0.9175 - val_loss: 0.3548 - val_accuracy: 0.8448\n",
            "Epoch 28/30\n",
            "17/17 [==============================] - 0s 16ms/step - loss: 0.1187 - accuracy: 0.9680 - val_loss: 0.1681 - val_accuracy: 0.9310\n",
            "Epoch 29/30\n",
            "17/17 [==============================] - 0s 17ms/step - loss: 0.1019 - accuracy: 0.9541 - val_loss: 0.0940 - val_accuracy: 0.9655\n",
            "Epoch 30/30\n",
            "17/17 [==============================] - 0s 18ms/step - loss: 0.1115 - accuracy: 0.9556 - val_loss: 0.1711 - val_accuracy: 0.9138\n",
            "6\n",
            "Model: \"model_17\"\n",
            "_________________________________________________________________\n",
            "Layer (type)                 Output Shape              Param #   \n",
            "=================================================================\n",
            "input_18 (InputLayer)        [(None, 40, 1)]           0         \n",
            "_________________________________________________________________\n",
            "conv1d_39 (Conv1D)           (None, 38, 64)            256       \n",
            "_________________________________________________________________\n",
            "conv1d_40 (Conv1D)           (None, 36, 64)            12352     \n",
            "_________________________________________________________________\n",
            "conv1d_41 (Conv1D)           (None, 34, 128)           24704     \n",
            "_________________________________________________________________\n",
            "dropout_28 (Dropout)         (None, 34, 128)           0         \n",
            "_________________________________________________________________\n",
            "max_pooling1d_17 (MaxPooling (None, 17, 128)           0         \n",
            "_________________________________________________________________\n",
            "bidirectional_4 (Bidirection (None, 17, 200)           183200    \n",
            "_________________________________________________________________\n",
            "bidirectional_5 (Bidirection (None, 17, 400)           641600    \n",
            "_________________________________________________________________\n",
            "lstm_26 (LSTM)               (None, 400)               1281600   \n",
            "_________________________________________________________________\n",
            "dropout_29 (Dropout)         (None, 400)               0         \n",
            "_________________________________________________________________\n",
            "dense_40 (Dense)             (None, 200)               80200     \n",
            "_________________________________________________________________\n",
            "dense_41 (Dense)             (None, 5)                 1005      \n",
            "=================================================================\n",
            "Total params: 2,224,917\n",
            "Trainable params: 2,224,917\n",
            "Non-trainable params: 0\n",
            "_________________________________________________________________\n",
            "None\n",
            "Epoch 1/30\n",
            "17/17 [==============================] - 8s 105ms/step - loss: 0.1584 - accuracy: 0.9468 - val_loss: 0.0378 - val_accuracy: 0.9828\n",
            "Epoch 2/30\n",
            "17/17 [==============================] - 0s 17ms/step - loss: 0.1766 - accuracy: 0.9551 - val_loss: 0.0412 - val_accuracy: 0.9828\n",
            "Epoch 3/30\n",
            "17/17 [==============================] - 0s 17ms/step - loss: 0.1227 - accuracy: 0.9615 - val_loss: 0.1925 - val_accuracy: 0.9310\n",
            "Epoch 4/30\n",
            "17/17 [==============================] - 0s 16ms/step - loss: 0.1698 - accuracy: 0.9417 - val_loss: 0.0680 - val_accuracy: 0.9655\n",
            "Epoch 5/30\n",
            "17/17 [==============================] - 0s 16ms/step - loss: 0.1677 - accuracy: 0.9374 - val_loss: 0.0372 - val_accuracy: 1.0000\n",
            "Epoch 6/30\n",
            "17/17 [==============================] - 0s 16ms/step - loss: 0.1057 - accuracy: 0.9601 - val_loss: 0.0211 - val_accuracy: 1.0000\n",
            "Epoch 7/30\n",
            "17/17 [==============================] - 0s 17ms/step - loss: 0.1084 - accuracy: 0.9578 - val_loss: 0.3159 - val_accuracy: 0.8621\n",
            "Epoch 8/30\n",
            "17/17 [==============================] - 0s 17ms/step - loss: 0.1755 - accuracy: 0.9427 - val_loss: 0.1833 - val_accuracy: 0.8793\n",
            "Epoch 9/30\n",
            "17/17 [==============================] - 0s 17ms/step - loss: 0.2579 - accuracy: 0.9159 - val_loss: 0.1903 - val_accuracy: 0.9483\n",
            "Epoch 10/30\n",
            "17/17 [==============================] - 0s 16ms/step - loss: 0.0945 - accuracy: 0.9745 - val_loss: 0.0663 - val_accuracy: 0.9655\n",
            "Epoch 11/30\n",
            "17/17 [==============================] - 0s 17ms/step - loss: 0.0730 - accuracy: 0.9711 - val_loss: 0.0553 - val_accuracy: 0.9655\n",
            "Epoch 12/30\n",
            "17/17 [==============================] - 0s 16ms/step - loss: 0.0874 - accuracy: 0.9633 - val_loss: 0.0042 - val_accuracy: 1.0000\n",
            "Epoch 13/30\n",
            "17/17 [==============================] - 0s 17ms/step - loss: 0.1125 - accuracy: 0.9551 - val_loss: 0.0742 - val_accuracy: 0.9828\n",
            "Epoch 14/30\n",
            "17/17 [==============================] - 0s 17ms/step - loss: 0.1261 - accuracy: 0.9423 - val_loss: 0.1166 - val_accuracy: 0.9310\n",
            "Epoch 15/30\n",
            "17/17 [==============================] - 0s 16ms/step - loss: 0.1061 - accuracy: 0.9582 - val_loss: 0.2389 - val_accuracy: 0.9138\n",
            "Epoch 16/30\n",
            "17/17 [==============================] - 0s 16ms/step - loss: 0.1101 - accuracy: 0.9671 - val_loss: 0.0140 - val_accuracy: 1.0000\n",
            "Epoch 17/30\n",
            "17/17 [==============================] - 0s 17ms/step - loss: 0.0508 - accuracy: 0.9809 - val_loss: 0.1464 - val_accuracy: 0.9310\n",
            "Epoch 18/30\n",
            "17/17 [==============================] - 0s 18ms/step - loss: 0.0485 - accuracy: 0.9836 - val_loss: 0.4002 - val_accuracy: 0.8276\n",
            "Epoch 19/30\n",
            "17/17 [==============================] - 0s 17ms/step - loss: 0.1632 - accuracy: 0.9479 - val_loss: 0.4796 - val_accuracy: 0.7759\n",
            "Epoch 20/30\n",
            "17/17 [==============================] - 0s 17ms/step - loss: 0.1909 - accuracy: 0.9232 - val_loss: 0.4009 - val_accuracy: 0.8793\n",
            "Epoch 21/30\n",
            "17/17 [==============================] - 0s 17ms/step - loss: 0.2292 - accuracy: 0.9104 - val_loss: 0.2090 - val_accuracy: 0.9310\n",
            "Epoch 22/30\n",
            "17/17 [==============================] - 0s 17ms/step - loss: 0.1035 - accuracy: 0.9574 - val_loss: 0.1337 - val_accuracy: 0.9310\n",
            "Epoch 23/30\n",
            "17/17 [==============================] - 0s 17ms/step - loss: 0.0588 - accuracy: 0.9817 - val_loss: 0.2199 - val_accuracy: 0.9138\n",
            "Epoch 24/30\n",
            "17/17 [==============================] - 0s 17ms/step - loss: 0.0339 - accuracy: 0.9893 - val_loss: 0.1061 - val_accuracy: 0.9483\n",
            "Epoch 25/30\n",
            "17/17 [==============================] - 0s 18ms/step - loss: 0.0454 - accuracy: 0.9834 - val_loss: 0.1130 - val_accuracy: 0.9655\n",
            "Epoch 26/30\n",
            "17/17 [==============================] - 0s 17ms/step - loss: 0.0507 - accuracy: 0.9773 - val_loss: 0.3940 - val_accuracy: 0.8966\n",
            "Epoch 27/30\n",
            "17/17 [==============================] - 0s 16ms/step - loss: 0.0713 - accuracy: 0.9700 - val_loss: 0.6060 - val_accuracy: 0.8103\n",
            "Epoch 28/30\n",
            "17/17 [==============================] - 0s 17ms/step - loss: 0.1464 - accuracy: 0.9507 - val_loss: 0.3400 - val_accuracy: 0.8448\n",
            "Epoch 29/30\n",
            "17/17 [==============================] - 0s 17ms/step - loss: 0.1608 - accuracy: 0.9429 - val_loss: 0.0321 - val_accuracy: 1.0000\n",
            "Epoch 30/30\n",
            "17/17 [==============================] - 0s 17ms/step - loss: 0.1118 - accuracy: 0.9657 - val_loss: 0.0717 - val_accuracy: 0.9828\n",
            "7\n",
            "Model: \"model_17\"\n",
            "_________________________________________________________________\n",
            "Layer (type)                 Output Shape              Param #   \n",
            "=================================================================\n",
            "input_18 (InputLayer)        [(None, 40, 1)]           0         \n",
            "_________________________________________________________________\n",
            "conv1d_39 (Conv1D)           (None, 38, 64)            256       \n",
            "_________________________________________________________________\n",
            "conv1d_40 (Conv1D)           (None, 36, 64)            12352     \n",
            "_________________________________________________________________\n",
            "conv1d_41 (Conv1D)           (None, 34, 128)           24704     \n",
            "_________________________________________________________________\n",
            "dropout_28 (Dropout)         (None, 34, 128)           0         \n",
            "_________________________________________________________________\n",
            "max_pooling1d_17 (MaxPooling (None, 17, 128)           0         \n",
            "_________________________________________________________________\n",
            "bidirectional_4 (Bidirection (None, 17, 200)           183200    \n",
            "_________________________________________________________________\n",
            "bidirectional_5 (Bidirection (None, 17, 400)           641600    \n",
            "_________________________________________________________________\n",
            "lstm_26 (LSTM)               (None, 400)               1281600   \n",
            "_________________________________________________________________\n",
            "dropout_29 (Dropout)         (None, 400)               0         \n",
            "_________________________________________________________________\n",
            "dense_40 (Dense)             (None, 200)               80200     \n",
            "_________________________________________________________________\n",
            "dense_41 (Dense)             (None, 5)                 1005      \n",
            "=================================================================\n",
            "Total params: 2,224,917\n",
            "Trainable params: 2,224,917\n",
            "Non-trainable params: 0\n",
            "_________________________________________________________________\n",
            "None\n",
            "Epoch 1/30\n",
            "17/17 [==============================] - 7s 106ms/step - loss: 0.1396 - accuracy: 0.9400 - val_loss: 0.0023 - val_accuracy: 1.0000\n",
            "Epoch 2/30\n",
            "17/17 [==============================] - 0s 17ms/step - loss: 0.0885 - accuracy: 0.9686 - val_loss: 0.0035 - val_accuracy: 1.0000\n",
            "Epoch 3/30\n",
            "17/17 [==============================] - 0s 17ms/step - loss: 0.0871 - accuracy: 0.9709 - val_loss: 0.0111 - val_accuracy: 1.0000\n",
            "Epoch 4/30\n",
            "17/17 [==============================] - 0s 18ms/step - loss: 0.0466 - accuracy: 0.9796 - val_loss: 0.0735 - val_accuracy: 0.9828\n",
            "Epoch 5/30\n",
            "17/17 [==============================] - 0s 17ms/step - loss: 0.0602 - accuracy: 0.9809 - val_loss: 0.1120 - val_accuracy: 0.9655\n",
            "Epoch 6/30\n",
            "17/17 [==============================] - 0s 17ms/step - loss: 0.1636 - accuracy: 0.9346 - val_loss: 0.1265 - val_accuracy: 0.9310\n",
            "Epoch 7/30\n",
            "17/17 [==============================] - 0s 17ms/step - loss: 0.1243 - accuracy: 0.9557 - val_loss: 0.0203 - val_accuracy: 0.9828\n",
            "Epoch 8/30\n",
            "17/17 [==============================] - 0s 17ms/step - loss: 0.0814 - accuracy: 0.9726 - val_loss: 0.0251 - val_accuracy: 1.0000\n",
            "Epoch 9/30\n",
            "17/17 [==============================] - 0s 17ms/step - loss: 0.1020 - accuracy: 0.9697 - val_loss: 0.0638 - val_accuracy: 0.9828\n",
            "Epoch 10/30\n",
            "17/17 [==============================] - 0s 17ms/step - loss: 0.0909 - accuracy: 0.9689 - val_loss: 0.0195 - val_accuracy: 1.0000\n",
            "Epoch 11/30\n",
            "17/17 [==============================] - 0s 17ms/step - loss: 0.0635 - accuracy: 0.9790 - val_loss: 0.0075 - val_accuracy: 1.0000\n",
            "Epoch 12/30\n",
            "17/17 [==============================] - 0s 16ms/step - loss: 0.0649 - accuracy: 0.9768 - val_loss: 0.0063 - val_accuracy: 1.0000\n",
            "Epoch 13/30\n",
            "17/17 [==============================] - 0s 16ms/step - loss: 0.0754 - accuracy: 0.9754 - val_loss: 0.0724 - val_accuracy: 0.9828\n",
            "Epoch 14/30\n",
            "17/17 [==============================] - 0s 17ms/step - loss: 0.1257 - accuracy: 0.9607 - val_loss: 0.0177 - val_accuracy: 0.9828\n",
            "Epoch 15/30\n",
            "17/17 [==============================] - 0s 16ms/step - loss: 0.1342 - accuracy: 0.9544 - val_loss: 0.0707 - val_accuracy: 0.9828\n",
            "Epoch 16/30\n",
            "17/17 [==============================] - 0s 17ms/step - loss: 0.1807 - accuracy: 0.9434 - val_loss: 0.0818 - val_accuracy: 0.9655\n",
            "Epoch 17/30\n",
            "17/17 [==============================] - 0s 18ms/step - loss: 0.0623 - accuracy: 0.9840 - val_loss: 0.0107 - val_accuracy: 1.0000\n",
            "Epoch 18/30\n",
            "17/17 [==============================] - 0s 17ms/step - loss: 0.0593 - accuracy: 0.9794 - val_loss: 0.0936 - val_accuracy: 0.9483\n",
            "Epoch 19/30\n",
            "17/17 [==============================] - 0s 18ms/step - loss: 0.0353 - accuracy: 0.9884 - val_loss: 0.0167 - val_accuracy: 0.9828\n",
            "Epoch 20/30\n",
            "17/17 [==============================] - 0s 17ms/step - loss: 0.0344 - accuracy: 0.9908 - val_loss: 0.0283 - val_accuracy: 1.0000\n",
            "Epoch 21/30\n",
            "17/17 [==============================] - 0s 18ms/step - loss: 0.0196 - accuracy: 0.9905 - val_loss: 0.0115 - val_accuracy: 1.0000\n",
            "Epoch 22/30\n",
            "17/17 [==============================] - 0s 17ms/step - loss: 0.0337 - accuracy: 0.9863 - val_loss: 0.0105 - val_accuracy: 1.0000\n",
            "Epoch 23/30\n",
            "17/17 [==============================] - 0s 16ms/step - loss: 0.0562 - accuracy: 0.9866 - val_loss: 0.0076 - val_accuracy: 1.0000\n",
            "Epoch 24/30\n",
            "17/17 [==============================] - 0s 16ms/step - loss: 0.0363 - accuracy: 0.9867 - val_loss: 0.1879 - val_accuracy: 0.9483\n",
            "Epoch 25/30\n",
            "17/17 [==============================] - 0s 17ms/step - loss: 0.0755 - accuracy: 0.9856 - val_loss: 0.0428 - val_accuracy: 0.9655\n",
            "Epoch 26/30\n",
            "17/17 [==============================] - 0s 17ms/step - loss: 0.0563 - accuracy: 0.9874 - val_loss: 0.0235 - val_accuracy: 1.0000\n",
            "Epoch 27/30\n",
            "17/17 [==============================] - 0s 18ms/step - loss: 0.0845 - accuracy: 0.9768 - val_loss: 0.0730 - val_accuracy: 0.9828\n",
            "Epoch 28/30\n",
            "17/17 [==============================] - 0s 17ms/step - loss: 0.0603 - accuracy: 0.9705 - val_loss: 0.0259 - val_accuracy: 0.9828\n",
            "Epoch 29/30\n",
            "17/17 [==============================] - 0s 17ms/step - loss: 0.1276 - accuracy: 0.9571 - val_loss: 0.0043 - val_accuracy: 1.0000\n",
            "Epoch 30/30\n",
            "17/17 [==============================] - 0s 17ms/step - loss: 0.0886 - accuracy: 0.9658 - val_loss: 0.0085 - val_accuracy: 1.0000\n",
            "8\n",
            "Model: \"model_17\"\n",
            "_________________________________________________________________\n",
            "Layer (type)                 Output Shape              Param #   \n",
            "=================================================================\n",
            "input_18 (InputLayer)        [(None, 40, 1)]           0         \n",
            "_________________________________________________________________\n",
            "conv1d_39 (Conv1D)           (None, 38, 64)            256       \n",
            "_________________________________________________________________\n",
            "conv1d_40 (Conv1D)           (None, 36, 64)            12352     \n",
            "_________________________________________________________________\n",
            "conv1d_41 (Conv1D)           (None, 34, 128)           24704     \n",
            "_________________________________________________________________\n",
            "dropout_28 (Dropout)         (None, 34, 128)           0         \n",
            "_________________________________________________________________\n",
            "max_pooling1d_17 (MaxPooling (None, 17, 128)           0         \n",
            "_________________________________________________________________\n",
            "bidirectional_4 (Bidirection (None, 17, 200)           183200    \n",
            "_________________________________________________________________\n",
            "bidirectional_5 (Bidirection (None, 17, 400)           641600    \n",
            "_________________________________________________________________\n",
            "lstm_26 (LSTM)               (None, 400)               1281600   \n",
            "_________________________________________________________________\n",
            "dropout_29 (Dropout)         (None, 400)               0         \n",
            "_________________________________________________________________\n",
            "dense_40 (Dense)             (None, 200)               80200     \n",
            "_________________________________________________________________\n",
            "dense_41 (Dense)             (None, 5)                 1005      \n",
            "=================================================================\n",
            "Total params: 2,224,917\n",
            "Trainable params: 2,224,917\n",
            "Non-trainable params: 0\n",
            "_________________________________________________________________\n",
            "None\n",
            "Epoch 1/30\n",
            "17/17 [==============================] - 8s 109ms/step - loss: 0.1131 - accuracy: 0.9653 - val_loss: 0.0062 - val_accuracy: 1.0000\n",
            "Epoch 2/30\n",
            "17/17 [==============================] - 0s 17ms/step - loss: 0.1366 - accuracy: 0.9600 - val_loss: 0.0543 - val_accuracy: 0.9828\n",
            "Epoch 3/30\n",
            "17/17 [==============================] - 0s 18ms/step - loss: 0.0642 - accuracy: 0.9811 - val_loss: 0.0595 - val_accuracy: 0.9828\n",
            "Epoch 4/30\n",
            "17/17 [==============================] - 0s 17ms/step - loss: 0.0560 - accuracy: 0.9840 - val_loss: 0.0317 - val_accuracy: 0.9828\n",
            "Epoch 5/30\n",
            "17/17 [==============================] - 0s 17ms/step - loss: 0.0427 - accuracy: 0.9865 - val_loss: 0.0895 - val_accuracy: 0.9828\n",
            "Epoch 6/30\n",
            "17/17 [==============================] - 0s 17ms/step - loss: 0.0278 - accuracy: 0.9887 - val_loss: 0.1388 - val_accuracy: 0.9655\n",
            "Epoch 7/30\n",
            "17/17 [==============================] - 0s 17ms/step - loss: 0.0273 - accuracy: 0.9867 - val_loss: 0.1818 - val_accuracy: 0.9655\n",
            "Epoch 8/30\n",
            "17/17 [==============================] - 0s 17ms/step - loss: 0.0189 - accuracy: 0.9956 - val_loss: 0.1829 - val_accuracy: 0.9655\n",
            "Epoch 9/30\n",
            "17/17 [==============================] - 0s 17ms/step - loss: 0.1414 - accuracy: 0.9575 - val_loss: 0.1670 - val_accuracy: 0.9483\n",
            "Epoch 10/30\n",
            "17/17 [==============================] - 0s 18ms/step - loss: 0.2132 - accuracy: 0.9294 - val_loss: 0.2259 - val_accuracy: 0.9138\n",
            "Epoch 11/30\n",
            "17/17 [==============================] - 0s 17ms/step - loss: 0.2088 - accuracy: 0.9499 - val_loss: 0.1900 - val_accuracy: 0.9138\n",
            "Epoch 12/30\n",
            "17/17 [==============================] - 0s 18ms/step - loss: 0.0854 - accuracy: 0.9816 - val_loss: 0.0747 - val_accuracy: 0.9655\n",
            "Epoch 13/30\n",
            "17/17 [==============================] - 0s 18ms/step - loss: 0.0538 - accuracy: 0.9822 - val_loss: 0.0780 - val_accuracy: 0.9828\n",
            "Epoch 14/30\n",
            "17/17 [==============================] - 0s 17ms/step - loss: 0.0326 - accuracy: 0.9859 - val_loss: 0.0457 - val_accuracy: 1.0000\n",
            "Epoch 15/30\n",
            "17/17 [==============================] - 0s 17ms/step - loss: 0.0271 - accuracy: 0.9907 - val_loss: 0.0438 - val_accuracy: 0.9828\n",
            "Epoch 16/30\n",
            "17/17 [==============================] - 0s 17ms/step - loss: 0.0287 - accuracy: 0.9842 - val_loss: 0.0288 - val_accuracy: 1.0000\n",
            "Epoch 17/30\n",
            "17/17 [==============================] - 0s 17ms/step - loss: 0.0245 - accuracy: 0.9917 - val_loss: 0.0344 - val_accuracy: 0.9828\n",
            "Epoch 18/30\n",
            "17/17 [==============================] - 0s 18ms/step - loss: 0.0494 - accuracy: 0.9859 - val_loss: 0.0261 - val_accuracy: 1.0000\n",
            "Epoch 19/30\n",
            "17/17 [==============================] - 0s 17ms/step - loss: 0.0400 - accuracy: 0.9877 - val_loss: 0.1403 - val_accuracy: 0.9828\n",
            "Epoch 20/30\n",
            "17/17 [==============================] - 0s 17ms/step - loss: 0.0720 - accuracy: 0.9698 - val_loss: 0.1231 - val_accuracy: 0.9828\n",
            "Epoch 21/30\n",
            "17/17 [==============================] - 0s 17ms/step - loss: 0.0736 - accuracy: 0.9771 - val_loss: 0.1213 - val_accuracy: 0.9655\n",
            "Epoch 22/30\n",
            "17/17 [==============================] - 0s 16ms/step - loss: 0.0448 - accuracy: 0.9874 - val_loss: 0.0566 - val_accuracy: 0.9655\n",
            "Epoch 23/30\n",
            "17/17 [==============================] - 0s 17ms/step - loss: 0.0459 - accuracy: 0.9789 - val_loss: 0.0333 - val_accuracy: 1.0000\n",
            "Epoch 24/30\n",
            "17/17 [==============================] - 0s 17ms/step - loss: 0.0581 - accuracy: 0.9727 - val_loss: 0.0193 - val_accuracy: 1.0000\n",
            "Epoch 25/30\n",
            "17/17 [==============================] - 0s 17ms/step - loss: 0.0390 - accuracy: 0.9874 - val_loss: 0.0488 - val_accuracy: 0.9828\n",
            "Epoch 26/30\n",
            "17/17 [==============================] - 0s 17ms/step - loss: 0.0312 - accuracy: 0.9871 - val_loss: 0.1196 - val_accuracy: 0.9483\n",
            "Epoch 27/30\n",
            "17/17 [==============================] - 0s 17ms/step - loss: 0.0353 - accuracy: 0.9863 - val_loss: 0.2948 - val_accuracy: 0.8793\n",
            "Epoch 28/30\n",
            "17/17 [==============================] - 0s 17ms/step - loss: 0.0933 - accuracy: 0.9821 - val_loss: 0.3581 - val_accuracy: 0.9310\n",
            "Epoch 29/30\n",
            "17/17 [==============================] - 0s 17ms/step - loss: 0.0203 - accuracy: 0.9948 - val_loss: 0.2383 - val_accuracy: 0.9310\n",
            "Epoch 30/30\n",
            "17/17 [==============================] - 0s 17ms/step - loss: 0.0142 - accuracy: 0.9953 - val_loss: 0.3843 - val_accuracy: 0.8966\n",
            "9\n",
            "Model: \"model_17\"\n",
            "_________________________________________________________________\n",
            "Layer (type)                 Output Shape              Param #   \n",
            "=================================================================\n",
            "input_18 (InputLayer)        [(None, 40, 1)]           0         \n",
            "_________________________________________________________________\n",
            "conv1d_39 (Conv1D)           (None, 38, 64)            256       \n",
            "_________________________________________________________________\n",
            "conv1d_40 (Conv1D)           (None, 36, 64)            12352     \n",
            "_________________________________________________________________\n",
            "conv1d_41 (Conv1D)           (None, 34, 128)           24704     \n",
            "_________________________________________________________________\n",
            "dropout_28 (Dropout)         (None, 34, 128)           0         \n",
            "_________________________________________________________________\n",
            "max_pooling1d_17 (MaxPooling (None, 17, 128)           0         \n",
            "_________________________________________________________________\n",
            "bidirectional_4 (Bidirection (None, 17, 200)           183200    \n",
            "_________________________________________________________________\n",
            "bidirectional_5 (Bidirection (None, 17, 400)           641600    \n",
            "_________________________________________________________________\n",
            "lstm_26 (LSTM)               (None, 400)               1281600   \n",
            "_________________________________________________________________\n",
            "dropout_29 (Dropout)         (None, 400)               0         \n",
            "_________________________________________________________________\n",
            "dense_40 (Dense)             (None, 200)               80200     \n",
            "_________________________________________________________________\n",
            "dense_41 (Dense)             (None, 5)                 1005      \n",
            "=================================================================\n",
            "Total params: 2,224,917\n",
            "Trainable params: 2,224,917\n",
            "Non-trainable params: 0\n",
            "_________________________________________________________________\n",
            "None\n",
            "Epoch 1/30\n",
            "17/17 [==============================] - 7s 108ms/step - loss: 0.1173 - accuracy: 0.9579 - val_loss: 0.1824 - val_accuracy: 0.9138\n",
            "Epoch 2/30\n",
            "17/17 [==============================] - 0s 17ms/step - loss: 0.0690 - accuracy: 0.9872 - val_loss: 0.0248 - val_accuracy: 0.9828\n",
            "Epoch 3/30\n",
            "17/17 [==============================] - 0s 18ms/step - loss: 0.0314 - accuracy: 0.9910 - val_loss: 0.0263 - val_accuracy: 1.0000\n",
            "Epoch 4/30\n",
            "17/17 [==============================] - 0s 17ms/step - loss: 0.0257 - accuracy: 0.9898 - val_loss: 0.0317 - val_accuracy: 0.9828\n",
            "Epoch 5/30\n",
            "17/17 [==============================] - 0s 17ms/step - loss: 0.0353 - accuracy: 0.9828 - val_loss: 0.0100 - val_accuracy: 1.0000\n",
            "Epoch 6/30\n",
            "17/17 [==============================] - 0s 17ms/step - loss: 0.0674 - accuracy: 0.9788 - val_loss: 0.2817 - val_accuracy: 0.8793\n",
            "Epoch 7/30\n",
            "17/17 [==============================] - 0s 18ms/step - loss: 0.0378 - accuracy: 0.9855 - val_loss: 0.0282 - val_accuracy: 1.0000\n",
            "Epoch 8/30\n",
            "17/17 [==============================] - 0s 17ms/step - loss: 0.0199 - accuracy: 0.9940 - val_loss: 0.1691 - val_accuracy: 0.9138\n",
            "Epoch 9/30\n",
            "17/17 [==============================] - 0s 17ms/step - loss: 0.0365 - accuracy: 0.9868 - val_loss: 0.4353 - val_accuracy: 0.8448\n",
            "Epoch 10/30\n",
            "17/17 [==============================] - 0s 18ms/step - loss: 0.0939 - accuracy: 0.9741 - val_loss: 0.0836 - val_accuracy: 0.9655\n",
            "Epoch 11/30\n",
            "17/17 [==============================] - 0s 17ms/step - loss: 0.0395 - accuracy: 0.9824 - val_loss: 0.0420 - val_accuracy: 0.9828\n",
            "Epoch 12/30\n",
            "17/17 [==============================] - 0s 17ms/step - loss: 0.0683 - accuracy: 0.9772 - val_loss: 0.0025 - val_accuracy: 1.0000\n",
            "Epoch 13/30\n",
            "17/17 [==============================] - 0s 17ms/step - loss: 0.0419 - accuracy: 0.9874 - val_loss: 0.0096 - val_accuracy: 1.0000\n",
            "Epoch 14/30\n",
            "17/17 [==============================] - 0s 17ms/step - loss: 0.0403 - accuracy: 0.9858 - val_loss: 0.0580 - val_accuracy: 0.9828\n",
            "Epoch 15/30\n",
            "17/17 [==============================] - 0s 17ms/step - loss: 0.0267 - accuracy: 0.9809 - val_loss: 0.0368 - val_accuracy: 1.0000\n",
            "Epoch 16/30\n",
            "17/17 [==============================] - 0s 17ms/step - loss: 0.0628 - accuracy: 0.9841 - val_loss: 0.0932 - val_accuracy: 0.9828\n",
            "Epoch 17/30\n",
            "17/17 [==============================] - 0s 17ms/step - loss: 0.0559 - accuracy: 0.9821 - val_loss: 0.0435 - val_accuracy: 0.9828\n",
            "Epoch 18/30\n",
            "17/17 [==============================] - 0s 17ms/step - loss: 0.2013 - accuracy: 0.9460 - val_loss: 0.1455 - val_accuracy: 0.9483\n",
            "Epoch 19/30\n",
            "17/17 [==============================] - 0s 17ms/step - loss: 0.1083 - accuracy: 0.9697 - val_loss: 0.2894 - val_accuracy: 0.8966\n",
            "Epoch 20/30\n",
            "17/17 [==============================] - 0s 17ms/step - loss: 0.0593 - accuracy: 0.9750 - val_loss: 0.0729 - val_accuracy: 0.9655\n",
            "Epoch 21/30\n",
            "17/17 [==============================] - 0s 17ms/step - loss: 0.0567 - accuracy: 0.9742 - val_loss: 0.0458 - val_accuracy: 0.9828\n",
            "Epoch 22/30\n",
            "17/17 [==============================] - 0s 17ms/step - loss: 0.0316 - accuracy: 0.9911 - val_loss: 0.0263 - val_accuracy: 1.0000\n",
            "Epoch 23/30\n",
            "17/17 [==============================] - 0s 17ms/step - loss: 0.0294 - accuracy: 0.9872 - val_loss: 0.0147 - val_accuracy: 1.0000\n",
            "Epoch 24/30\n",
            "17/17 [==============================] - 0s 17ms/step - loss: 0.0522 - accuracy: 0.9845 - val_loss: 0.0277 - val_accuracy: 1.0000\n",
            "Epoch 25/30\n",
            "17/17 [==============================] - 0s 17ms/step - loss: 0.0374 - accuracy: 0.9801 - val_loss: 0.0180 - val_accuracy: 1.0000\n",
            "Epoch 26/30\n",
            "17/17 [==============================] - 0s 17ms/step - loss: 0.0163 - accuracy: 0.9936 - val_loss: 0.0176 - val_accuracy: 1.0000\n",
            "Epoch 27/30\n",
            "17/17 [==============================] - 0s 17ms/step - loss: 0.0227 - accuracy: 0.9927 - val_loss: 0.0269 - val_accuracy: 0.9828\n",
            "Epoch 28/30\n",
            "17/17 [==============================] - 0s 17ms/step - loss: 0.0416 - accuracy: 0.9780 - val_loss: 0.0275 - val_accuracy: 0.9828\n",
            "Epoch 29/30\n",
            "17/17 [==============================] - 0s 17ms/step - loss: 0.0213 - accuracy: 0.9892 - val_loss: 0.0258 - val_accuracy: 0.9828\n",
            "Epoch 30/30\n",
            "17/17 [==============================] - 0s 17ms/step - loss: 0.0204 - accuracy: 0.9905 - val_loss: 0.0242 - val_accuracy: 0.9828\n",
            "10\n",
            "Epoch 1/30\n",
            "17/17 [==============================] - 7s 105ms/step - loss: 0.0449 - accuracy: 0.9855 - val_loss: 0.0668 - val_accuracy: 0.9655\n",
            "Epoch 2/30\n",
            "17/17 [==============================] - 0s 17ms/step - loss: 0.0476 - accuracy: 0.9853 - val_loss: 0.2289 - val_accuracy: 0.9138\n",
            "Epoch 3/30\n",
            "17/17 [==============================] - 0s 17ms/step - loss: 0.0610 - accuracy: 0.9878 - val_loss: 0.1341 - val_accuracy: 0.9828\n",
            "Epoch 4/30\n",
            "17/17 [==============================] - 0s 18ms/step - loss: 0.0307 - accuracy: 0.9901 - val_loss: 0.3363 - val_accuracy: 0.8793\n",
            "Epoch 5/30\n",
            "17/17 [==============================] - 0s 17ms/step - loss: 0.0365 - accuracy: 0.9870 - val_loss: 0.8629 - val_accuracy: 0.6724\n",
            "Epoch 6/30\n",
            "17/17 [==============================] - 0s 17ms/step - loss: 0.0226 - accuracy: 0.9948 - val_loss: 0.7427 - val_accuracy: 0.7586\n",
            "Epoch 7/30\n",
            "17/17 [==============================] - 0s 18ms/step - loss: 0.0193 - accuracy: 0.9935 - val_loss: 0.9712 - val_accuracy: 0.7241\n",
            "Epoch 8/30\n",
            "17/17 [==============================] - 0s 17ms/step - loss: 0.0392 - accuracy: 0.9902 - val_loss: 1.2858 - val_accuracy: 0.6897\n",
            "Epoch 9/30\n",
            "17/17 [==============================] - 0s 17ms/step - loss: 0.0137 - accuracy: 0.9921 - val_loss: 1.1731 - val_accuracy: 0.6897\n",
            "Epoch 10/30\n",
            "17/17 [==============================] - 0s 17ms/step - loss: 0.0202 - accuracy: 0.9881 - val_loss: 0.7602 - val_accuracy: 0.7931\n",
            "Epoch 11/30\n",
            "17/17 [==============================] - 0s 18ms/step - loss: 0.0234 - accuracy: 0.9925 - val_loss: 0.9953 - val_accuracy: 0.7586\n",
            "Epoch 12/30\n",
            "17/17 [==============================] - 0s 17ms/step - loss: 0.0671 - accuracy: 0.9836 - val_loss: 0.9489 - val_accuracy: 0.7241\n",
            "Epoch 13/30\n",
            "17/17 [==============================] - 0s 17ms/step - loss: 0.0334 - accuracy: 0.9842 - val_loss: 0.7907 - val_accuracy: 0.7586\n",
            "Epoch 14/30\n",
            "17/17 [==============================] - 0s 17ms/step - loss: 0.0391 - accuracy: 0.9838 - val_loss: 1.4949 - val_accuracy: 0.6034\n",
            "Epoch 15/30\n",
            "17/17 [==============================] - 0s 18ms/step - loss: 0.0289 - accuracy: 0.9891 - val_loss: 0.8741 - val_accuracy: 0.7069\n",
            "Epoch 16/30\n",
            "17/17 [==============================] - 0s 17ms/step - loss: 0.0359 - accuracy: 0.9813 - val_loss: 0.8562 - val_accuracy: 0.7241\n",
            "Epoch 17/30\n",
            "17/17 [==============================] - 0s 17ms/step - loss: 0.0178 - accuracy: 0.9947 - val_loss: 0.7875 - val_accuracy: 0.7414\n",
            "Epoch 18/30\n",
            "17/17 [==============================] - 0s 18ms/step - loss: 0.0211 - accuracy: 0.9880 - val_loss: 0.4824 - val_accuracy: 0.8276\n",
            "Epoch 19/30\n",
            "17/17 [==============================] - 0s 17ms/step - loss: 0.0205 - accuracy: 0.9888 - val_loss: 1.0050 - val_accuracy: 0.6379\n",
            "Epoch 20/30\n",
            "17/17 [==============================] - 0s 17ms/step - loss: 0.0185 - accuracy: 0.9908 - val_loss: 0.3840 - val_accuracy: 0.8448\n",
            "Epoch 21/30\n",
            "17/17 [==============================] - 0s 17ms/step - loss: 0.0063 - accuracy: 0.9984 - val_loss: 0.4809 - val_accuracy: 0.8103\n",
            "Epoch 22/30\n",
            "17/17 [==============================] - 0s 18ms/step - loss: 0.0423 - accuracy: 0.9805 - val_loss: 0.5482 - val_accuracy: 0.7586\n",
            "Epoch 23/30\n",
            "17/17 [==============================] - 0s 17ms/step - loss: 0.0509 - accuracy: 0.9785 - val_loss: 0.7640 - val_accuracy: 0.7069\n",
            "Epoch 24/30\n",
            "17/17 [==============================] - 0s 17ms/step - loss: 0.0228 - accuracy: 0.9955 - val_loss: 1.1388 - val_accuracy: 0.6724\n",
            "Epoch 25/30\n",
            "17/17 [==============================] - 0s 18ms/step - loss: 0.0306 - accuracy: 0.9892 - val_loss: 1.0171 - val_accuracy: 0.7069\n",
            "Epoch 26/30\n",
            "17/17 [==============================] - 0s 16ms/step - loss: 0.0277 - accuracy: 0.9920 - val_loss: 0.8212 - val_accuracy: 0.7241\n",
            "Epoch 27/30\n",
            "17/17 [==============================] - 0s 16ms/step - loss: 0.0112 - accuracy: 0.9942 - val_loss: 0.9265 - val_accuracy: 0.7241\n",
            "Epoch 28/30\n",
            "17/17 [==============================] - 0s 16ms/step - loss: 0.0195 - accuracy: 0.9955 - val_loss: 3.1495 - val_accuracy: 0.4655\n",
            "Epoch 29/30\n",
            "17/17 [==============================] - 0s 18ms/step - loss: 0.1025 - accuracy: 0.9739 - val_loss: 1.8267 - val_accuracy: 0.4310\n",
            "Epoch 30/30\n",
            "17/17 [==============================] - 0s 17ms/step - loss: 0.0417 - accuracy: 0.9812 - val_loss: 2.4122 - val_accuracy: 0.3793\n"
          ],
          "name": "stdout"
        }
      ]
    },
    {
      "cell_type": "code",
      "metadata": {
        "colab": {
          "base_uri": "https://localhost:8080/"
        },
        "id": "e_ki_5mZG4qb",
        "outputId": "d0ba42af-a413-47ae-a39a-f6be20a921fa"
      },
      "source": [
        "np.mean(scores)   ###10Fold Test Sccuracy"
      ],
      "execution_count": 85,
      "outputs": [
        {
          "output_type": "execute_result",
          "data": {
            "text/plain": [
              "0.7270894213909994"
            ]
          },
          "metadata": {
            "tags": []
          },
          "execution_count": 85
        }
      ]
    },
    {
      "cell_type": "code",
      "metadata": {
        "colab": {
          "base_uri": "https://localhost:8080/"
        },
        "id": "oRCWFYIxJPp9",
        "outputId": "f83517c8-4df1-44ed-f764-2b766fef9019"
      },
      "source": [
        "np.mean(train_scores) ###10Fold Train Accuracy"
      ],
      "execution_count": 86,
      "outputs": [
        {
          "output_type": "execute_result",
          "data": {
            "text/plain": [
              "0.9238836786623047"
            ]
          },
          "metadata": {
            "tags": []
          },
          "execution_count": 86
        }
      ]
    },
    {
      "cell_type": "code",
      "metadata": {
        "id": "vR5ku01-JLld"
      },
      "source": [
        ""
      ],
      "execution_count": null,
      "outputs": []
    }
  ]
}